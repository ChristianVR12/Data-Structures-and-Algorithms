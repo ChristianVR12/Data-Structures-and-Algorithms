{
 "cells": [
  {
   "cell_type": "code",
   "execution_count": null,
   "metadata": {},
   "outputs": [],
   "source": [
    "##DynamicProgrammingExcercises"
   ]
  },
  {
   "cell_type": "code",
   "execution_count": 5,
   "metadata": {},
   "outputs": [
    {
     "data": {
      "text/plain": [
       "8"
      ]
     },
     "execution_count": 5,
     "metadata": {},
     "output_type": "execute_result"
    }
   ],
   "source": [
    "## simple Recursion\n",
    "def fib(N):\n",
    "    if N == 0:\n",
    "        return 0\n",
    "    if N == 1:\n",
    "        return 1\n",
    "    return fib(N - 1) + fib(N - 2)\n",
    "\n",
    "fib(6)"
   ]
  },
  {
   "cell_type": "code",
   "execution_count": 8,
   "metadata": {},
   "outputs": [
    {
     "data": {
      "text/plain": [
       "8"
      ]
     },
     "execution_count": 8,
     "metadata": {},
     "output_type": "execute_result"
    }
   ],
   "source": [
    "##(1) Memoization or top-down approach: \n",
    "def fib_mem(N, cache):\n",
    "    if N == 0:\n",
    "        return 0\n",
    "    if N == 1:\n",
    "        return 1\n",
    "    \n",
    "    if N in cache:\n",
    "        return cache[N]\n",
    "    \n",
    "    res = fib_mem(N - 1, cache) + fib_mem(N - 2, cache)\n",
    "    \n",
    "    cache[N] = res\n",
    "    \n",
    "    return res\n",
    "\n",
    "cache = {0: 0, 1: 1}\n",
    "\n",
    "fib_mem(6,cache)\n"
   ]
  },
  {
   "cell_type": "code",
   "execution_count": 9,
   "metadata": {},
   "outputs": [
    {
     "data": {
      "text/plain": [
       "8"
      ]
     },
     "execution_count": 9,
     "metadata": {},
     "output_type": "execute_result"
    }
   ],
   "source": [
    "# (2) Tabulation or Bottom-up Approach \n",
    "\n",
    "def fib_dp(N):\n",
    "    if N == 0: return 0\n",
    "    if N == 1: return 1\n",
    "    dp = [0 for _ in range(0, N + 1)]\n",
    "    dp[1] = 1\n",
    "    for i in range(2, N + 1):\n",
    "        dp[i] = dp[i - 1] + dp[i - 2]\n",
    "    return dp[N]\n",
    "\n",
    "fib_dp(6)"
   ]
  },
  {
   "cell_type": "code",
   "execution_count": 13,
   "metadata": {},
   "outputs": [
    {
     "data": {
      "text/plain": [
       "8"
      ]
     },
     "execution_count": 13,
     "metadata": {},
     "output_type": "execute_result"
    }
   ],
   "source": [
    "## Space Efficient version need to keep track only previous two fib numbers (last_last=N-2 and last=N-1)\n",
    "## Current = last_last + last then advance pointers forward...\n",
    "def fib_dp_efficient(N):\n",
    "    if N == 0: return 0\n",
    "    if N == 1: return 1\n",
    "    last_last = 0\n",
    "    last = 1\n",
    "    current = 0\n",
    "    for i in range(2, N + 1):\n",
    "        current = last + last_last\n",
    "        last_last = last\n",
    "        last = current\n",
    "    return current\n",
    "\n",
    "fib_dp_efficient(6)\n",
    "\n",
    "# N = 10\n",
    "# cache = [0 for _ in range(0, N + 1)]\n",
    "# start_watch()\n",
    "# print(fib(N))\n",
    "# stop_watch_print(\"Recursive , {} milli seconds\")\n",
    "\n",
    "# start_watch()\n",
    "# print(fib_mem(N, cache))\n",
    "# stop_watch_print(\"Memoization , {} milli seconds\")\n",
    "\n",
    "# start_watch()\n",
    "# print(fib_dp(N))\n",
    "# stop_watch_print(\"Bottom up , {} milli seconds\")\n",
    "\n",
    "# start_watch()\n",
    "# print(fib_dp_efficient(N))\n",
    "# stop_watch_print(\"Bottom up Efficient , {} milli seconds\")"
   ]
  },
  {
   "cell_type": "code",
   "execution_count": null,
   "metadata": {},
   "outputs": [],
   "source": []
  }
 ],
 "metadata": {
  "kernelspec": {
   "display_name": "Python 3",
   "language": "python",
   "name": "python3"
  },
  "language_info": {
   "codemirror_mode": {
    "name": "ipython",
    "version": 3
   },
   "file_extension": ".py",
   "mimetype": "text/x-python",
   "name": "python",
   "nbconvert_exporter": "python",
   "pygments_lexer": "ipython3",
   "version": "3.6.7"
  }
 },
 "nbformat": 4,
 "nbformat_minor": 2
}
