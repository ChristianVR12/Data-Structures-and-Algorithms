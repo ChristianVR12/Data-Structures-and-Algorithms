{
 "cells": [
  {
   "cell_type": "code",
   "execution_count": 183,
   "metadata": {},
   "outputs": [],
   "source": [
    "from IPython.display import Image"
   ]
  },
  {
   "cell_type": "code",
   "execution_count": 184,
   "metadata": {},
   "outputs": [],
   "source": [
    "class GraphNode(object):\n",
    "    def __init__(self, name,state):\n",
    "        self.name = name\n",
    "        self.state =state\n",
    "        self.children = []\n",
    "    def display_node(self):\n",
    "        print(\"Node: \",self.name)\n",
    "        print(\"Adjacency List/Children \\n\",[i.name for i in self.children])\n",
    "         \n",
    "    def add_child(self,new_node):\n",
    "        self.children.append(new_node)\n",
    "    \n",
    "    def remove_child(self,del_node):\n",
    "        if del_node in self.children:\n",
    "            self.children.remove(del_node)\n",
    "\n",
    "class Graph(object):\n",
    "    def __init__(self,node_list):\n",
    "        self.nodes = node_list\n",
    "        \n",
    "    def add_edge(self,node1,node2):\n",
    "        if(node1 in self.nodes and node2 in self.nodes):\n",
    "            node1.add_child(node2)\n",
    "            node2.add_child(node1)\n",
    "    \n",
    "            \n",
    "    def remove_edge(self,node1,node2):\n",
    "        if(node1 in self.nodes and node2 in self.nodes):\n",
    "            node1.remove_child(node2)\n",
    "            node2.remove_child(node1)\n",
    "    def bfs(self,node_start):\n",
    "        qu=[]\n",
    "        qu.append(node_start)\n",
    "        node_start.state=waiting_state\n",
    "        while qu:\n",
    "            v=qu.pop(0)\n",
    "            v.state=visited_state\n",
    "            print(v.name)\n",
    "            for u in v.children:\n",
    "                if u.state==initial_state:\n",
    "                    qu.append(u)\n",
    "                    u.state=waiting_state\n",
    "    \n",
    "        "
   ]
  },
  {
   "cell_type": "code",
   "execution_count": 185,
   "metadata": {},
   "outputs": [],
   "source": [
    "initial_state=\"Initial\"\n",
    "waiting_state=\"Waiting\"\n",
    "visited_state=\"Visited\"\n",
    "\n",
    "nodeG = GraphNode('G',initial_state)\n",
    "nodeR = GraphNode('R',initial_state)\n",
    "nodeA = GraphNode('A',initial_state)\n",
    "nodeP = GraphNode('P',initial_state)\n",
    "nodeH = GraphNode('H',initial_state)\n",
    "nodeS = GraphNode('S',initial_state)\n",
    "\n",
    "Vertex_list=[nodeS,nodeH,nodeG,nodeP,nodeR,nodeA]\n",
    "\n",
    "graph1 = Graph(Vertex_list) \n",
    "\n",
    "graph1.add_edge(nodeG,nodeR)\n",
    "graph1.add_edge(nodeA,nodeR)\n",
    "graph1.add_edge(nodeA,nodeG)\n",
    "graph1.add_edge(nodeR,nodeP)\n",
    "graph1.add_edge(nodeH,nodeG)\n",
    "graph1.add_edge(nodeH,nodeP)\n",
    "graph1.add_edge(nodeS,nodeR)"
   ]
  },
  {
   "cell_type": "code",
   "execution_count": 186,
   "metadata": {},
   "outputs": [
    {
     "name": "stdout",
     "output_type": "stream",
     "text": [
      "Node:  P\n",
      "Adjacency List/Children \n",
      " ['R', 'H']\n",
      "Breadth first search starting at node P\n",
      "P\n",
      "R\n",
      "H\n",
      "G\n",
      "A\n",
      "S\n"
     ]
    }
   ],
   "source": [
    "## Breadth First Search is implemented using a queue. We have to define three states for a node\n",
    "## Initial, Waiting, Visited\n",
    "## Initialize all nodes to be in the initial state\n",
    "## As nodes get enqueued they take on the waiting state\n",
    "## after they get dequeued they are marked visited\n",
    "\n",
    "## Procedure\n",
    "## 1) front element is popped off the queue\n",
    "## 2) adjacent elements of popped element are enqueued and their state changed to \"waiting\" \n",
    "## 3) Repeat 1) and 2) until queue is empty \n",
    "nodeP.display_node()\n",
    "print(\"Breadth first search starting at node\", nodeP.name)\n",
    "graph1.bfs(nodeP)\n"
   ]
  },
  {
   "cell_type": "code",
   "execution_count": 187,
   "metadata": {},
   "outputs": [
    {
     "name": "stdout",
     "output_type": "stream",
     "text": [
      "Now resetting vertex states\n",
      "Breadth first search starting at node G\n",
      "G\n",
      "R\n",
      "A\n",
      "H\n",
      "P\n",
      "S\n"
     ]
    }
   ],
   "source": [
    "print(\"Now resetting vertex states\")\n",
    "for i in Vertex_list:\n",
    "    i.state=initial_state\n",
    "print(\"Breadth first search starting at node\", nodeG.name)\n",
    "graph1.bfs(nodeG)\n"
   ]
  },
  {
   "cell_type": "code",
   "execution_count": 188,
   "metadata": {},
   "outputs": [
    {
     "name": "stdout",
     "output_type": "stream",
     "text": [
      "Node:  G\n",
      "Adjacency List/Children \n",
      " ['R', 'A', 'H']\n"
     ]
    }
   ],
   "source": [
    "nodeG.display_node()"
   ]
  },
  {
   "cell_type": "markdown",
   "metadata": {},
   "source": [
    "## Directed Graph Traversal \n",
    "<img src=\"graph1.png\",width=400, height=200>"
   ]
  },
  {
   "cell_type": "code",
   "execution_count": 189,
   "metadata": {},
   "outputs": [],
   "source": [
    "class DiGraph(object):\n",
    "    def __init__(self,node_list):\n",
    "        self.nodes = node_list\n",
    "        \n",
    "    def add_edge(self,node1,node2):\n",
    "        if(node1 in self.nodes and node2 in self.nodes):\n",
    "            node1.add_child(node2)\n",
    "            \n",
    "    def add_edge_list(self,node1,nodelist):\n",
    "        for i in nodelist:\n",
    "            if(node1 in self.nodes and i in self.nodes):\n",
    "                node1.add_child(i)\n",
    "\n",
    "            \n",
    "            \n",
    "    def remove_edge(self,node1,node2):\n",
    "        if(node1 in self.nodes and node2 in self.nodes):\n",
    "            node1.remove_child(node2)\n",
    "            \n",
    "    def bfs(self,node_start):\n",
    "        qu=[]\n",
    "        qu.append(node_start)\n",
    "        node_start.state=waiting_state\n",
    "        while qu:\n",
    "            v=qu.pop(0)\n",
    "            v.state=visited_state\n",
    "            print(v.name)\n",
    "            for u in v.children:\n",
    "                if u.state==initial_state:\n",
    "                    qu.append(u)\n",
    "                    u.state=waiting_state\n",
    "                    \n",
    "    def bfs_all(self,node_start):\n",
    "        for v in self.nodes:\n",
    "            v.state=initial_state\n",
    "        \n",
    "        print(\"Calling bfs from node\",node_start.name)  \n",
    "        self.bfs(node_start)\n",
    "        \n",
    "        for v in self.nodes:\n",
    "            if v.state==initial_state:\n",
    "                print(\"Calling bfs from node\",v.name)\n",
    "                self.bfs(v)\n",
    "                    "
   ]
  },
  {
   "cell_type": "markdown",
   "metadata": {},
   "source": [
    "<img src=\"graph1.png\",width=400, height=200>"
   ]
  },
  {
   "cell_type": "code",
   "execution_count": 190,
   "metadata": {},
   "outputs": [],
   "source": [
    "node0 = GraphNode(0,initial_state)\n",
    "node1 = GraphNode(1,initial_state)\n",
    "node2 = GraphNode(2,initial_state)\n",
    "node3 = GraphNode(3,initial_state)\n",
    "node4 = GraphNode(4,initial_state)\n",
    "node5 = GraphNode(5,initial_state)\n",
    "node6 = GraphNode(6,initial_state)\n",
    "node7 = GraphNode(7,initial_state)\n",
    "node8 = GraphNode(8,initial_state)\n",
    "node9 = GraphNode(9,initial_state)\n",
    "\n",
    "Vertex_list2=[node0,node1,node2,node3,node4,node5,node6,node7,node8,node9]\n",
    "\n",
    "graph2 = DiGraph(Vertex_list2) \n",
    "\n",
    "graph2.add_edge_list(node0,[node1,node3])\n",
    "graph2.add_edge_list(node1,[node2,node5,node4])\n",
    "graph2.add_edge_list(node2,[node3,node5])\n",
    "graph2.add_edge_list(node3,[node6])\n",
    "graph2.add_edge_list(node4,[node5,node7])\n",
    "graph2.add_edge_list(node5,[node6,node8])\n",
    "graph2.add_edge_list(node6,[node8,node9])\n",
    "graph2.add_edge_list(node7,[node8])\n",
    "graph2.add_edge_list(node8,[node9])\n",
    "\n",
    "\n"
   ]
  },
  {
   "cell_type": "code",
   "execution_count": 191,
   "metadata": {},
   "outputs": [
    {
     "name": "stdout",
     "output_type": "stream",
     "text": [
      "Node:  0\n",
      "Adjacency List/Children \n",
      " [1, 3]\n",
      "Node:  1\n",
      "Adjacency List/Children \n",
      " [2, 5, 4]\n",
      "Node:  2\n",
      "Adjacency List/Children \n",
      " [3, 5]\n",
      "Node:  3\n",
      "Adjacency List/Children \n",
      " [6]\n",
      "Node:  4\n",
      "Adjacency List/Children \n",
      " [5, 7]\n",
      "Node:  5\n",
      "Adjacency List/Children \n",
      " [6, 8]\n",
      "Node:  6\n",
      "Adjacency List/Children \n",
      " [8, 9]\n",
      "Node:  7\n",
      "Adjacency List/Children \n",
      " [8]\n",
      "Node:  8\n",
      "Adjacency List/Children \n",
      " [9]\n",
      "Node:  9\n",
      "Adjacency List/Children \n",
      " []\n"
     ]
    }
   ],
   "source": [
    "for i in Vertex_list2:\n",
    "    i.display_node()"
   ]
  },
  {
   "cell_type": "code",
   "execution_count": 192,
   "metadata": {},
   "outputs": [
    {
     "name": "stdout",
     "output_type": "stream",
     "text": [
      "Breadth first search starting at node 0\n",
      "0\n",
      "1\n",
      "3\n",
      "2\n",
      "5\n",
      "4\n",
      "6\n",
      "8\n",
      "7\n",
      "9\n"
     ]
    }
   ],
   "source": [
    "print(\"Breadth first search starting at node\", node0.name)\n",
    "graph2.bfs(node0) "
   ]
  },
  {
   "cell_type": "code",
   "execution_count": 193,
   "metadata": {},
   "outputs": [
    {
     "name": "stdout",
     "output_type": "stream",
     "text": [
      "Now resetting vertex states\n",
      "Breadth first search starting at node 2\n",
      "2\n",
      "3\n",
      "5\n",
      "6\n",
      "8\n",
      "9\n"
     ]
    }
   ],
   "source": [
    "print(\"Now resetting vertex states\")\n",
    "for i in Vertex_list2:\n",
    "    i.state=initial_state\n",
    "print(\"Breadth first search starting at node\", node2.name)\n",
    "graph2.bfs(node2)"
   ]
  },
  {
   "cell_type": "markdown",
   "metadata": {},
   "source": [
    "## The above example shows that some of the nodes are not accessible from certain initial nodes for example nodes 0, 1 , 4 are not accessible if we started bfs from node 2 "
   ]
  },
  {
   "cell_type": "markdown",
   "metadata": {},
   "source": [
    "<img src=\"graph1.png\",width=400, height=200>"
   ]
  },
  {
   "cell_type": "code",
   "execution_count": 195,
   "metadata": {},
   "outputs": [
    {
     "name": "stdout",
     "output_type": "stream",
     "text": [
      "Calling bfs from node 2\n",
      "2\n",
      "3\n",
      "5\n",
      "6\n",
      "8\n",
      "9\n",
      "Calling bfs from node 0\n",
      "0\n",
      "1\n",
      "4\n",
      "7\n"
     ]
    }
   ],
   "source": [
    "graph2.bfs_all(node2)"
   ]
  },
  {
   "cell_type": "code",
   "execution_count": null,
   "metadata": {},
   "outputs": [],
   "source": []
  }
 ],
 "metadata": {
  "kernelspec": {
   "display_name": "Python 3",
   "language": "python",
   "name": "python3"
  },
  "language_info": {
   "codemirror_mode": {
    "name": "ipython",
    "version": 3
   },
   "file_extension": ".py",
   "mimetype": "text/x-python",
   "name": "python",
   "nbconvert_exporter": "python",
   "pygments_lexer": "ipython3",
   "version": "3.6.7"
  }
 },
 "nbformat": 4,
 "nbformat_minor": 2
}
