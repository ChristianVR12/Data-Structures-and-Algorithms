{
 "cells": [
  {
   "cell_type": "code",
   "execution_count": 6,
   "metadata": {},
   "outputs": [],
   "source": [
    "# Python program for implementation of Selection \n",
    "# Sort \n",
    "import sys \n",
    "\n",
    "A = [64, 25, 12, 22, 11] \n",
    "  \n",
    "B = [-12,0,-30,100,64, 25, 12, 22, 11] "
   ]
  },
  {
   "cell_type": "code",
   "execution_count": 11,
   "metadata": {},
   "outputs": [],
   "source": [
    "# Traverse through all array elements \n",
    "def sel_sort(A):\n",
    "    for i in range(len(A)-1): \n",
    "\n",
    "        # Find the minimum element in remaining  \n",
    "        # unsorted array \n",
    "        min_idx = i \n",
    "        for j in range(i+1, len(A)): \n",
    "            if A[min_idx] > A[j]: \n",
    "                min_idx = j \n",
    "\n",
    "        # Swap the found minimum element with  \n",
    "        # the first element         \n",
    "        A[i], A[min_idx] = A[min_idx], A[i] \n",
    "    return A \n"
   ]
  },
  {
   "cell_type": "code",
   "execution_count": 13,
   "metadata": {},
   "outputs": [
    {
     "name": "stdout",
     "output_type": "stream",
     "text": [
      "Sorted array\n",
      "[11, 12, 22, 25, 64]\n",
      "[-30, -12, 0, 11, 12, 22, 25, 64, 100]\n"
     ]
    }
   ],
   "source": [
    "# Driver code to test above \n",
    "print (\"Sorted array\") \n",
    "# for i in range(len(A)): \n",
    "#     print(\"%d\" %A[i]), \n",
    "print(sel_sort(A))\n",
    "print(sel_sort(B))"
   ]
  },
  {
   "cell_type": "code",
   "execution_count": null,
   "metadata": {},
   "outputs": [],
   "source": []
  }
 ],
 "metadata": {
  "kernelspec": {
   "display_name": "Python 3",
   "language": "python",
   "name": "python3"
  },
  "language_info": {
   "codemirror_mode": {
    "name": "ipython",
    "version": 3
   },
   "file_extension": ".py",
   "mimetype": "text/x-python",
   "name": "python",
   "nbconvert_exporter": "python",
   "pygments_lexer": "ipython3",
   "version": "3.6.7"
  }
 },
 "nbformat": 4,
 "nbformat_minor": 2
}
