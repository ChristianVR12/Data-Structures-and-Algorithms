{
 "cells": [
  {
   "cell_type": "code",
   "execution_count": 2,
   "metadata": {},
   "outputs": [],
   "source": [
    "## Lecture 10 Exhaustive Search and Backtracking\n",
    "# No more decisions to be made stop\n",
    "# Else: let's handle one decision ourselves and the rest by recursion \n",
    "## for each available choice C so\n",
    "## Choose C \n",
    "## Search the remaining decisions that could follow C "
   ]
  },
  {
   "cell_type": "code",
   "execution_count": 5,
   "metadata": {},
   "outputs": [
    {
     "name": "stdout",
     "output_type": "stream",
     "text": [
      "000\n",
      "001\n",
      "010\n",
      "011\n",
      "100\n",
      "101\n",
      "110\n",
      "111\n"
     ]
    }
   ],
   "source": [
    "## Print all possible n digit binary numbers\n",
    "## Prefix is a string containing decisions made so far! if n=0 string will contain all possible decisions to form\n",
    "## n digit binary number so then print it! \n",
    "\n",
    "def printbinary(n,prefix=\"\"):\n",
    "     ##BaseCase\n",
    "        if n==0:\n",
    "            print(prefix)\n",
    "        else:\n",
    "            printbinary(n-1,prefix+\"0\")\n",
    "            printbinary(n-1,prefix+\"1\")\n",
    "printbinary(3)\n",
    "    "
   ]
  },
  {
   "cell_type": "code",
   "execution_count": null,
   "metadata": {},
   "outputs": [],
   "source": []
  }
 ],
 "metadata": {
  "kernelspec": {
   "display_name": "Python 3",
   "language": "python",
   "name": "python3"
  },
  "language_info": {
   "codemirror_mode": {
    "name": "ipython",
    "version": 3
   },
   "file_extension": ".py",
   "mimetype": "text/x-python",
   "name": "python",
   "nbconvert_exporter": "python",
   "pygments_lexer": "ipython3",
   "version": "3.6.7"
  }
 },
 "nbformat": 4,
 "nbformat_minor": 2
}
