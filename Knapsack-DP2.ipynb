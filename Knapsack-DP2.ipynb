{
 "cells": [
  {
   "cell_type": "code",
   "execution_count": null,
   "metadata": {},
   "outputs": [],
   "source": [
    "## KnapSack Problem in two ways"
   ]
  },
  {
   "cell_type": "code",
   "execution_count": 1,
   "metadata": {},
   "outputs": [],
   "source": [
    "import collections\n",
    "\n",
    "Item = collections.namedtuple('Item', ['weight', 'value'])\n",
    "\n",
    "def max_value(knapsack_max_weight, items):\n",
    "    lookup_table = [ [0] * (knapsack_max_weight + 1) for i in range(len(items)+1) ] \n",
    "    mrows=len(items)\n",
    "    mcols=knapsack_max_weight\n",
    "    ## Iterate over items\n",
    "    item_list=sorted(items)\n",
    "    \n",
    "    for i in range(1,mrows+1):\n",
    "        for j in range(1, mcols + 1):\n",
    "            if item_list[i-1].weight > j:\n",
    "                lookup_table[i][j]=lookup_table[i-1][j]\n",
    "            else:\n",
    "                lookup_table[i][j]=max(lookup_table[i-1][j], lookup_table[i-1][j - item_list[i-1].weight] + item_list[i-1].value)\n",
    "                \n",
    "    return lookup_table[mrows][mcols]\n",
    "\n",
    "# def max_value(knapsack_max_weight, items):\n",
    "#     \"\"\"\n",
    "#     Get the maximum value of the knapsack.\n",
    "#     \"\"\"\n",
    "#     lookup_table = [0] * (knapsack_max_weight + 1)\n",
    "\n",
    "#     for item in items:  # every item is kind of sub problem! \n",
    "        \n",
    "#         for capacity in reversed(range(knapsack_max_weight + 1)):\n",
    "#             if item.weight <= capacity:\n",
    "#                 lookup_table[capacity] = max(lookup_table[capacity], lookup_table[capacity - item.weight] + item.value)\n",
    "\n",
    "#     return lookup_table[-1]\n",
    "\n",
    "\n",
    "\n",
    "tests = [\n",
    "    {\n",
    "        'correct_output': 14,\n",
    "        'input':\n",
    "            {\n",
    "                'knapsack_max_weight': 15,\n",
    "                'items': [Item(10, 7), Item(9, 8), Item(5, 6)]}} ,\n",
    "    {\n",
    "        'correct_output': 13,\n",
    "        'input':\n",
    "            {\n",
    "                'knapsack_max_weight': 25,\n",
    "                'items': [Item(10, 2), Item(29, 10), Item(5, 7), Item(5, 3), Item(5, 1), Item(24, 12)]}}]\n",
    "for test in tests:\n",
    "    assert test['correct_output'] == max_value(**test['input'])\n",
    "    "
   ]
  },
  {
   "cell_type": "code",
   "execution_count": 2,
   "metadata": {},
   "outputs": [
    {
     "name": "stdout",
     "output_type": "stream",
     "text": [
      "For output: 14 max val is 14\n",
      "For output: 13 max val is 13\n"
     ]
    }
   ],
   "source": [
    "\n",
    "for test in tests:\n",
    "    print (\"For output:\",test['correct_output'], \"max val is\", max_value(**test['input']))\n",
    "\n",
    "    assert test['correct_output'] == max_value(**test['input'])\n"
   ]
  },
  {
   "cell_type": "code",
   "execution_count": null,
   "metadata": {},
   "outputs": [],
   "source": []
  },
  {
   "cell_type": "code",
   "execution_count": null,
   "metadata": {},
   "outputs": [],
   "source": []
  },
  {
   "cell_type": "code",
   "execution_count": null,
   "metadata": {},
   "outputs": [],
   "source": []
  },
  {
   "cell_type": "code",
   "execution_count": null,
   "metadata": {},
   "outputs": [],
   "source": []
  }
 ],
 "metadata": {
  "kernelspec": {
   "display_name": "Python 3",
   "language": "python",
   "name": "python3"
  },
  "language_info": {
   "codemirror_mode": {
    "name": "ipython",
    "version": 3
   },
   "file_extension": ".py",
   "mimetype": "text/x-python",
   "name": "python",
   "nbconvert_exporter": "python",
   "pygments_lexer": "ipython3",
   "version": "3.6.7"
  }
 },
 "nbformat": 4,
 "nbformat_minor": 2
}
