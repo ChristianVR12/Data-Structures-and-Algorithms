### calculate document distance expressing similarity between D1 and D2
