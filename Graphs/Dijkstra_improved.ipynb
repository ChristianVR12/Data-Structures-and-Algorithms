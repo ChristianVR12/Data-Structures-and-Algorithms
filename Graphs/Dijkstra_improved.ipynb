{
 "cells": [
  {
   "cell_type": "markdown",
   "metadata": {},
   "source": [
    "## Finding Shortest Path from a node to another node using Dijkstra's Algorithm ( from Alex Miller et al.) \n",
    "<img src=\"dijkgr.png\",width=400, height=200>"
   ]
  },
  {
   "cell_type": "code",
   "execution_count": 1,
   "metadata": {},
   "outputs": [],
   "source": [
    "## Graph is a network of N+1 nodes labelled  0 to n \n",
    "## Edge List is a bunch of tuples (From node, To node, Weight) or (u,v,w)\n",
    "edges=[\n",
    "    (0,1,5),\n",
    "    (0,2,3),\n",
    "    (0,5,4),\n",
    "    (1,3,8),\n",
    "    (2,3,1),\n",
    "    (3,5,10),\n",
    "    (3,4,5)\n",
    "]"
   ]
  },
  {
   "cell_type": "code",
   "execution_count": 18,
   "metadata": {},
   "outputs": [],
   "source": [
    "class Network(object):\n",
    "    def __init__(self,N,edges):\n",
    "        self.vertices=range(N+1)\n",
    "        self.edges=edges\n",
    "    def make_graph(self):\n",
    "        graph={v:[] for v in self.vertices}\n",
    "        \n",
    "        for u , v, w in self.edges:\n",
    "            graph[u].append((v,w))\n",
    "        return graph"
   ]
  },
  {
   "cell_type": "code",
   "execution_count": 19,
   "metadata": {},
   "outputs": [],
   "source": [
    "Net=Network(5,edges)\n",
    "graph=Net.make_graph()"
   ]
  },
  {
   "cell_type": "code",
   "execution_count": 21,
   "metadata": {
    "scrolled": true
   },
   "outputs": [
    {
     "data": {
      "text/plain": [
       "{0: [(1, 5), (2, 3), (5, 4)],\n",
       " 1: [(3, 8)],\n",
       " 2: [(3, 1)],\n",
       " 3: [(5, 10), (4, 5)],\n",
       " 4: [],\n",
       " 5: []}"
      ]
     },
     "execution_count": 21,
     "metadata": {},
     "output_type": "execute_result"
    }
   ],
   "source": [
    "## Verify Graph Dictionary\n",
    "## the graph is a dictionary where the key is a node and the value is an\n",
    "# edge list where the edge is a tuple of ( neighbor node , travel time/distance from node )\n",
    "graph"
   ]
  },
  {
   "cell_type": "code",
   "execution_count": 24,
   "metadata": {},
   "outputs": [
    {
     "data": {
      "text/plain": [
       "[0, 1, 2, 3, 4, 5]"
      ]
     },
     "execution_count": 24,
     "metadata": {},
     "output_type": "execute_result"
    }
   ],
   "source": [
    "q=list(graph)\n",
    "q"
   ]
  },
  {
   "cell_type": "code",
   "execution_count": null,
   "metadata": {},
   "outputs": [],
   "source": []
  },
  {
   "cell_type": "code",
   "execution_count": 34,
   "metadata": {},
   "outputs": [],
   "source": [
    "## This function computes the cost of propagating a message from a source node to every other node in the\n",
    "# network\n",
    "def propagate(network):\n",
    "    graph=network.make_graph()\n",
    "    times={node:float('inf') for node in graph} ## Initial cost/distance/traveltime to node\n",
    "    times[0]=0 \n",
    "    \n",
    "    q=list(graph) ## list containing all nodes 0,1,2,..N initially \n",
    "    \n",
    "    while q:\n",
    "        u=min(q,key=lambda x:times[x]) ## This finds the minimum of the q list based on the travel time \n",
    "        q.remove(u) ## pop it from the q \n",
    "        \n",
    "        ## iterate over neighbors (O(n^2) process)\n",
    "        for v,time in graph[u]:\n",
    "            times[v]=min(times[v], times[u]+time) ## Edge Relaxation \n",
    "        \n",
    "    return times"
   ]
  },
  {
   "cell_type": "markdown",
   "metadata": {},
   "source": [
    "<img src=\"dijkgr.png\",width=300, height=150>"
   ]
  },
  {
   "cell_type": "code",
   "execution_count": 35,
   "metadata": {},
   "outputs": [
    {
     "data": {
      "text/plain": [
       "{0: 0, 1: 5, 2: 3, 3: 4, 4: 9, 5: 4}"
      ]
     },
     "execution_count": 35,
     "metadata": {},
     "output_type": "execute_result"
    }
   ],
   "source": [
    "propagate(Net)"
   ]
  },
  {
   "cell_type": "code",
   "execution_count": null,
   "metadata": {},
   "outputs": [],
   "source": []
  }
 ],
 "metadata": {
  "kernelspec": {
   "display_name": "Python 3",
   "language": "python",
   "name": "python3"
  },
  "language_info": {
   "codemirror_mode": {
    "name": "ipython",
    "version": 3
   },
   "file_extension": ".py",
   "mimetype": "text/x-python",
   "name": "python",
   "nbconvert_exporter": "python",
   "pygments_lexer": "ipython3",
   "version": "3.6.7"
  }
 },
 "nbformat": 4,
 "nbformat_minor": 2
}
