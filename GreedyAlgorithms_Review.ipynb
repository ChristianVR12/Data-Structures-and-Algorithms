{
 "cells": [
  {
   "cell_type": "markdown",
   "metadata": {},
   "source": [
    "## Activity Selection Problem \n",
    "Example 1 : Consider the following 3 activities sorted\n",
    "by finish time.\n",
    "     start[]  =  {10, 12, 20};\n",
    "     finish[] =  {20, 25, 30};\n",
    "A person can perform at most two activities. The \n",
    "maximum set of activities that can be executed \n",
    "is {0, 2} [ These are indexes in start[] and \n",
    "finish[] ]\n",
    "\n",
    "Example 2 : Consider the following 6 activities \n",
    "sorted by by finish time.\n",
    "     start[]  =  {1, 3, 0, 5, 8, 5};\n",
    "     finish[] =  {2, 4, 6, 7, 9, 9};\n",
    "A person can perform at most four activities. The \n",
    "maximum set of activities that can be executed \n",
    "is {0, 1, 3, 4} [ These are indexes in start[] and \n",
    "finish[] ]\n"
   ]
  },
  {
   "cell_type": "code",
   "execution_count": 10,
   "metadata": {},
   "outputs": [
    {
     "name": "stdout",
     "output_type": "stream",
     "text": [
      "The following activities are selected\n",
      "0\n",
      "1\n",
      "3\n",
      "4\n"
     ]
    }
   ],
   "source": [
    "## Argue about what would be the best possible decision/option or strategy and implement it to the probem \n",
    "## it breaks down to a smaller problem----Repeat\n",
    "\n",
    "## Strategy here is to order finish time first (in the problem here this is assumed to be already there\n",
    "##statisfied so no need to order f). the idea is \"if you finish a task early you can move to the next one\n",
    "## if that last one is the one that finishes the earliest amongst all candidates of the \"smaller\" problem , then chose it \n",
    "## and repeat...this is exactly what is meant by \"greedy\", best \"local\" decision that does not look into the consequences\n",
    "## of preferring the short term benefit \"so to speak\" over what might be a better long term strategy. \n",
    "## the idea is that this strategy leads to the optimal solution for this specific problem! \n",
    "\n",
    "def printMaxActivities(s, f ): \n",
    "    n = len(f) \n",
    "    print (\"The following activities are selected\")\n",
    "  \n",
    "    # The first activity is always selected \n",
    "    i = 0\n",
    "    print(i,) \n",
    "  \n",
    "    # Consider rest of the activities \n",
    "    for j in range(n): \n",
    "  \n",
    "        # If this activity has start time greater than \n",
    "        # or equal to the finish time of previously \n",
    "        # selected activity, then select it \n",
    "        if s[j] >= f[i]: \n",
    "            print (j)\n",
    "            i = j \n",
    "  # Driver program to test above function \n",
    "s = [1, 3, 0, 5, 8, 5] \n",
    "f = [2, 4, 6, 7, 9, 9] \n",
    "printMaxActivities(s, f) \n",
    "  \n",
    "# This code is contrib"
   ]
  },
  {
   "cell_type": "code",
   "execution_count": 31,
   "metadata": {},
   "outputs": [
    {
     "name": "stdout",
     "output_type": "stream",
     "text": [
      "[2, 2, 2, 2, 2]\n"
     ]
    }
   ],
   "source": [
    "## Coin Change problem: \n",
    "## S coin denominations array/list\n",
    "## n is the coin change\n",
    "def count(S,n):\n",
    "    m=len(S)\n",
    "    denom=[]\n",
    "    last_index=m-1 \n",
    "    while last_index >0:\n",
    "        ## Iterate over reversed array up to last_index\n",
    "        for i in range(len(S[0:last_index+1]) - 1, -1, -1):\n",
    "    \n",
    "            if n >= S[i] :\n",
    "                n-=S[i]\n",
    "                denom.append(i)\n",
    "               \n",
    "                if n < S[i]:\n",
    "                    last_index-=1\n",
    "                break \n",
    "                \n",
    "            if n ==0:\n",
    "                last_index=-1\n",
    "                break \n",
    "                \n",
    "    return denom \n",
    "\n",
    "    \n",
    "\n",
    "# Driver program to test above function \n",
    "arr = [1, 2, 3] \n",
    "n = 15  ## Coin Change \n",
    "print(count(arr, n)) \n"
   ]
  },
  {
   "cell_type": "code",
   "execution_count": 36,
   "metadata": {},
   "outputs": [
    {
     "data": {
      "text/plain": [
       "[2, 2, 2, 2, 2]"
      ]
     },
     "execution_count": 36,
     "metadata": {},
     "output_type": "execute_result"
    }
   ],
   "source": [
    "## Coin Change problem: \n",
    "## S coin denominations array/list\n",
    "## n is the coin change\n",
    "def count(S,n):\n",
    "    m=len(S)\n",
    "    denom=[]\n",
    "    last_index=m-1 \n",
    "    while last_index >0:\n",
    "        ## Iterate over reversed array up to last_index\n",
    "        for i in range(len(S[0:last_index+1]) - 1, -1, -1):\n",
    "    \n",
    "            if n >= S[i] :\n",
    "                n-=S[i]\n",
    "                denom.append(i)\n",
    "               \n",
    "                if n < S[i]:\n",
    "                    last_index-=1\n",
    "                break \n",
    "                \n",
    "            if n ==0:\n",
    "                last_index=-1\n",
    "                break \n",
    "                \n",
    "    return denom \n",
    "\n",
    "    \n",
    "\n",
    "# Driver program to test above function \n",
    "arr = [1, 2, 3] \n",
    "n = 15  ## Coin Change \n",
    "count(arr,n)"
   ]
  },
  {
   "cell_type": "code",
   "execution_count": 37,
   "metadata": {},
   "outputs": [
    {
     "data": {
      "text/plain": [
       "[2, 2, 2, 2, 2]"
      ]
     },
     "execution_count": 37,
     "metadata": {},
     "output_type": "execute_result"
    }
   ],
   "source": [
    "def coinchange(S,n):\n",
    "    m=len(S)\n",
    "    i= m-1  \n",
    "    ans=[]\n",
    "    \n",
    "    while(i >= 0): \n",
    "\n",
    "            # Exist denomination S[i] where n > S[i] \n",
    "            while (n >= S[i]): \n",
    "                n-= S[i] \n",
    "                ans.append(i) \n",
    "            ## Move to next denomination\n",
    "            i -= 1\n",
    "    return ans\n",
    "arr = [1, 2, 3] \n",
    "n = 15  ## Coin Change \n",
    "coinchange(arr,n)"
   ]
  },
  {
   "cell_type": "code",
   "execution_count": null,
   "metadata": {},
   "outputs": [],
   "source": []
  }
 ],
 "metadata": {
  "kernelspec": {
   "display_name": "Python 3",
   "language": "python",
   "name": "python3"
  },
  "language_info": {
   "codemirror_mode": {
    "name": "ipython",
    "version": 3
   },
   "file_extension": ".py",
   "mimetype": "text/x-python",
   "name": "python",
   "nbconvert_exporter": "python",
   "pygments_lexer": "ipython3",
   "version": "3.6.7"
  }
 },
 "nbformat": 4,
 "nbformat_minor": 2
}
