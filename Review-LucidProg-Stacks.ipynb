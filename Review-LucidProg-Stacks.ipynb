{
 "cells": [
  {
   "cell_type": "code",
   "execution_count": 42,
   "metadata": {},
   "outputs": [],
   "source": [
    "# YouTube Video: https://www.youtube.com/watch?v=lVFnq4zbs-g\n",
    "\"\"\"\n",
    "Stack Data Structure.\n",
    "\"\"\"\n",
    "\n",
    "class Stack():\n",
    "    def __init__(self):\n",
    "        self.items = []\n",
    "\n",
    "    def push(self, item):\n",
    "        self.items.append(item)\n",
    "\n",
    "    def pop(self):\n",
    "        return self.items.pop()\n",
    "    \n",
    "    def is_empty(self):\n",
    "        return self.items == []\n",
    "    \n",
    "    def peek(self):\n",
    "        if not self.is_empty():\n",
    "            return self.items[-1]\n",
    "        \n",
    "    def get_stack(self):\n",
    "        return self.items\n",
    "\n",
    "\n"
   ]
  },
  {
   "cell_type": "code",
   "execution_count": 43,
   "metadata": {},
   "outputs": [],
   "source": [
    "S=Stack()"
   ]
  },
  {
   "cell_type": "code",
   "execution_count": 44,
   "metadata": {},
   "outputs": [],
   "source": [
    "S.push(\"A\")"
   ]
  },
  {
   "cell_type": "code",
   "execution_count": 45,
   "metadata": {},
   "outputs": [],
   "source": [
    "S.push(\"B\")"
   ]
  },
  {
   "cell_type": "code",
   "execution_count": 46,
   "metadata": {},
   "outputs": [],
   "source": [
    "S.push(\"C\")"
   ]
  },
  {
   "cell_type": "code",
   "execution_count": 47,
   "metadata": {},
   "outputs": [
    {
     "data": {
      "text/plain": [
       "['A', 'B', 'C']"
      ]
     },
     "execution_count": 47,
     "metadata": {},
     "output_type": "execute_result"
    }
   ],
   "source": [
    "S.get_stack()"
   ]
  },
  {
   "cell_type": "code",
   "execution_count": 48,
   "metadata": {},
   "outputs": [
    {
     "data": {
      "text/plain": [
       "'C'"
      ]
     },
     "execution_count": 48,
     "metadata": {},
     "output_type": "execute_result"
    }
   ],
   "source": [
    "S.pop()"
   ]
  },
  {
   "cell_type": "code",
   "execution_count": 49,
   "metadata": {},
   "outputs": [
    {
     "data": {
      "text/plain": [
       "['A', 'B']"
      ]
     },
     "execution_count": 49,
     "metadata": {},
     "output_type": "execute_result"
    }
   ],
   "source": [
    "S.get_stack()"
   ]
  },
  {
   "cell_type": "code",
   "execution_count": 50,
   "metadata": {},
   "outputs": [],
   "source": [
    "# YouTube Video: https://www.youtube.com/watch?v=TC7apM-xGaU\n",
    "# \"\"\"\n",
    "# Use a stack to check whether or not a string\n",
    "# has balanced usage of parenthesis.\n",
    "\n",
    "# Example:\n",
    "#     (), ()(), (({[]}))  <- Balanced.\n",
    "#     ((), {{{)}], [][]]] <- Not Balanced.\n",
    "\n",
    "\n",
    "# Balanced Example: {[]}\n",
    "\n",
    "\n",
    "# Non-Balanced Example: (()\n",
    "\n",
    "# Non-Balanced Example: ))\n",
    "# \"\"\""
   ]
  },
  {
   "cell_type": "code",
   "execution_count": 51,
   "metadata": {},
   "outputs": [],
   "source": [
    "def is_paren_balanced(paren_string):\n",
    "    S=Stack()\n",
    "    for i in paren_string:\n",
    "        if i in [\"[\",\"(\",\"{\"]:\n",
    "            S.push(i)\n",
    "        if i==\"]\" and not S.is_empty():\n",
    "            if S.pop()!=\"[\":\n",
    "                return False\n",
    "        if i==\"}\" and not S.is_empty():\n",
    "            if S.pop()!=\"{\":\n",
    "                return False\n",
    "        if i==\")\" and not S.is_empty():\n",
    "            if S.pop()!=\"(\":\n",
    "                return False\n",
    "    return S.is_empty()\n",
    "     "
   ]
  },
  {
   "cell_type": "code",
   "execution_count": 52,
   "metadata": {},
   "outputs": [
    {
     "name": "stdout",
     "output_type": "stream",
     "text": [
      "True\n",
      "True\n",
      "True\n",
      "False\n"
     ]
    }
   ],
   "source": [
    "print(is_paren_balanced(\"(((({}))))\"))\n",
    "print(is_paren_balanced(\"[][]]]\"))\n",
    "print(is_paren_balanced(\"[][]\"))\n",
    "print(is_paren_balanced(\"[][\"))"
   ]
  },
  {
   "cell_type": "code",
   "execution_count": 53,
   "metadata": {},
   "outputs": [
    {
     "name": "stdout",
     "output_type": "stream",
     "text": [
      "False\n"
     ]
    }
   ],
   "source": [
    "print(is_paren_balanced(\"((), {{{)}], [][]]]\"))"
   ]
  },
  {
   "cell_type": "code",
   "execution_count": 54,
   "metadata": {},
   "outputs": [
    {
     "name": "stdout",
     "output_type": "stream",
     "text": [
      "True\n"
     ]
    }
   ],
   "source": [
    "print(is_paren_balanced(\"(), ()(), (({[]}))\" ))"
   ]
  },
  {
   "cell_type": "code",
   "execution_count": 55,
   "metadata": {},
   "outputs": [],
   "source": [
    "# YouTube Video: https://www.youtube.com/watch?v=X41iojWqQZY\n",
    "# \"\"\"\n",
    "# Use a stack data structure to convert integer values to their corresponding binary representation. \n",
    "\n",
    "# Example : 242\n",
    "\n",
    "# 242 / 2 = 121 -> 0\n",
    "# 121 / 2 = 60  -> 1\n",
    "# 60 / 2  = 30  -> 0\n",
    "# 30 / 2  = 15  -> 0\n",
    "# 15 / 2  = 7   -> 1\n",
    "# 7 / 2 = 3     -> 1\n",
    "# 3 / 2 = 1     -> 1\n",
    "# 1 / 2 = 0\t  -> 1\n",
    "# \"\"\""
   ]
  },
  {
   "cell_type": "code",
   "execution_count": 56,
   "metadata": {},
   "outputs": [
    {
     "name": "stdout",
     "output_type": "stream",
     "text": [
      "11110010\n"
     ]
    }
   ],
   "source": [
    "def div_by_2(dec_num):\n",
    "    s = Stack()\n",
    "\n",
    "    while dec_num > 0:\n",
    "        remainder = dec_num % 2\n",
    "        s.push(remainder)\n",
    "        dec_num = dec_num // 2\n",
    "\n",
    "    bin_num = \"\"\n",
    "    while not s.is_empty():\n",
    "        bin_num += str(s.pop())\n",
    "\n",
    "    return bin_num\n",
    "\n",
    "\n",
    "print(div_by_2(242))"
   ]
  },
  {
   "cell_type": "code",
   "execution_count": 57,
   "metadata": {},
   "outputs": [
    {
     "data": {
      "text/plain": [
       "'11110010'"
      ]
     },
     "execution_count": 57,
     "metadata": {},
     "output_type": "execute_result"
    }
   ],
   "source": [
    "bin(242).replace(\"0b\",\"\")  "
   ]
  },
  {
   "cell_type": "code",
   "execution_count": 58,
   "metadata": {},
   "outputs": [
    {
     "data": {
      "text/plain": [
       "'0b11110010'"
      ]
     },
     "execution_count": 58,
     "metadata": {},
     "output_type": "execute_result"
    }
   ],
   "source": [
    "bin(242)"
   ]
  },
  {
   "cell_type": "code",
   "execution_count": 60,
   "metadata": {},
   "outputs": [
    {
     "name": "stdout",
     "output_type": "stream",
     "text": [
      "olleH\n"
     ]
    }
   ],
   "source": [
    "def reverse_string(stack, input_str):\n",
    "\n",
    "    # Loop through the string and push contents\n",
    "    # character by character onto stack.\n",
    "    for i in range(len(input_str)):\n",
    "        stack.push(input_str[i])\n",
    "\n",
    "    rev_str = \"\"\n",
    "    while not stack.is_empty():\n",
    "        rev_str += stack.pop()\n",
    "\n",
    "    return rev_str\n",
    "\n",
    "\n",
    "stack = Stack()    \n",
    "input_str = \"Hello\"\n",
    "\n",
    "print(reverse_string(stack, input_str))\n"
   ]
  },
  {
   "cell_type": "code",
   "execution_count": null,
   "metadata": {},
   "outputs": [],
   "source": []
  },
  {
   "cell_type": "code",
   "execution_count": null,
   "metadata": {},
   "outputs": [],
   "source": []
  },
  {
   "cell_type": "code",
   "execution_count": null,
   "metadata": {},
   "outputs": [],
   "source": []
  },
  {
   "cell_type": "code",
   "execution_count": null,
   "metadata": {},
   "outputs": [],
   "source": []
  }
 ],
 "metadata": {
  "kernelspec": {
   "display_name": "Python 3",
   "language": "python",
   "name": "python3"
  },
  "language_info": {
   "codemirror_mode": {
    "name": "ipython",
    "version": 3
   },
   "file_extension": ".py",
   "mimetype": "text/x-python",
   "name": "python",
   "nbconvert_exporter": "python",
   "pygments_lexer": "ipython3",
   "version": "3.6.7"
  }
 },
 "nbformat": 4,
 "nbformat_minor": 2
}
