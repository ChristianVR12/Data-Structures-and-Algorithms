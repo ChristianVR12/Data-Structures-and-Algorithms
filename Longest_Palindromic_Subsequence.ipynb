{
 "cells": [
  {
   "cell_type": "code",
   "execution_count": 1,
   "metadata": {},
   "outputs": [
    {
     "name": "stdout",
     "output_type": "stream",
     "text": [
      "The length of the LPS is 5\n"
     ]
    }
   ],
   "source": [
    "## Longest Palindromic Subsequence\n",
    "### Recursive implementation O(2^n) from geeksforgeeks.org\n",
    "def max(x, y): \n",
    "    if(x > y): \n",
    "        return x \n",
    "    return y \n",
    "       \n",
    "def lps(seq, i, j): \n",
    "      \n",
    "    # Base Case 1: If there is  \n",
    "    # only 1 character  \n",
    "    if (i == j): \n",
    "        return 1\n",
    "  \n",
    "    # Base Case 2: If there are only 2  \n",
    "    # characters and both are same  \n",
    "    if (seq[i] == seq[j] and i + 1 == j): \n",
    "        return 2\n",
    "      \n",
    "    # If the first and last characters match  \n",
    "    if (seq[i] == seq[j]): \n",
    "        return lps(seq, i + 1, j - 1) + 2\n",
    "  \n",
    "    # If the first and last characters \n",
    "    # do not match  \n",
    "    return max(lps(seq, i, j - 1),  \n",
    "               lps(seq, i + 1, j)) \n",
    "  \n",
    "# Driver Code \n",
    "if __name__ == '__main__': \n",
    "    seq = \"GEEKSFORGEEKS\"\n",
    "    n = len(seq) \n",
    "    print(\"The length of the LPS is\",  \n",
    "                  lps(seq, 0, n - 1)) \n",
    "      \n",
    "# This code contributed by Rajput-Ji "
   ]
  },
  {
   "cell_type": "code",
   "execution_count": 7,
   "metadata": {},
   "outputs": [
    {
     "name": "stdout",
     "output_type": "stream",
     "text": [
      "The length of the LPS is 7\n"
     ]
    }
   ],
   "source": [
    "# A Dynamic Programming implementation\n",
    "\n",
    "def lps(str): \n",
    "    n = len(str) \n",
    "  \n",
    "    # Create a table to store results of subproblems \n",
    "    L = [[0 for x in range(n)] for x in range(n)] \n",
    "  \n",
    "    # Strings of length 1 are palindrome of length 1\n",
    "    ## Set Diagonal elements to be all ones \n",
    "    \n",
    "    for i in range(n): \n",
    "        L[i][i] = 1\n",
    "  \n",
    "    # Build the table. Note that the lower  \n",
    "    # diagonal values of table are \n",
    "    # useless and not filled in the process.  \n",
    "    # The values are filled in a \n",
    "    # manner similar to Matrix Chain  \n",
    "    # Multiplication DP solution (See \n",
    "    # https://www.geeksforgeeks.org/dynamic-programming-set-8-matrix-chain-multiplication/ \n",
    "    # cl is length of substring \n",
    "    for cl in range(2, n+1): \n",
    "        for i in range(n-cl+1): \n",
    "            j = i+cl-1\n",
    "    \n",
    "            if str[i] == str[j] and cl == 2: \n",
    "                L[i][j] = 2\n",
    "            elif str[i] == str[j]: \n",
    "                L[i][j] = L[i+1][j-1] + 2\n",
    "            else: \n",
    "                L[i][j] = max(L[i][j-1], L[i+1][j]); \n",
    "  \n",
    "    return L[0][n-1] \n",
    "  \n",
    "# Driver program to test above functions \n",
    "seq = \"GEEKS FOR GEEKS\"\n",
    "n = len(seq) \n",
    "print(\"The length of the LPS is \" + str(lps(seq))) \n",
    "  \n",
    "# This code is contributed by Bhavya Jain "
   ]
  },
  {
   "cell_type": "code",
   "execution_count": 4,
   "metadata": {},
   "outputs": [
    {
     "name": "stdout",
     "output_type": "stream",
     "text": [
      "0 1 2\n",
      "1 2 2\n",
      "2 3 2\n",
      "0 2 3\n",
      "1 3 3\n",
      "0 3 4\n"
     ]
    }
   ],
   "source": [
    "## To loop over diagonals 2,3,4,...etc  (diagonal=1 is the main diagonal of the matrix so we do not need to set it)0\n",
    "# define diagonal number cl that goes from 2 to n...so range(2,4+1)\n",
    "## for each diagonal number loop over certain number of rows starting 0 all the way to  n - diagonal number \n",
    "## so range(0,n-diagonal number + 1 )\n",
    "## j = i +diagonal number -1 \n",
    "n=4\n",
    "\n",
    "for cl in range(2, n+1): \n",
    "        for i in range(n-cl+1): \n",
    "            j = i+cl-1\n",
    "            print(i , j , cl)"
   ]
  },
  {
   "cell_type": "code",
   "execution_count": null,
   "metadata": {},
   "outputs": [],
   "source": []
  }
 ],
 "metadata": {
  "kernelspec": {
   "display_name": "Python 3",
   "language": "python",
   "name": "python3"
  },
  "language_info": {
   "codemirror_mode": {
    "name": "ipython",
    "version": 3
   },
   "file_extension": ".py",
   "mimetype": "text/x-python",
   "name": "python",
   "nbconvert_exporter": "python",
   "pygments_lexer": "ipython3",
   "version": "3.6.7"
  }
 },
 "nbformat": 4,
 "nbformat_minor": 2
}
