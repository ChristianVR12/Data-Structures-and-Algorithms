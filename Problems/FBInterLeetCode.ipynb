{
 "cells": [
  {
   "cell_type": "code",
   "execution_count": 2,
   "metadata": {},
   "outputs": [],
   "source": [
    "##New FBInterview Q's\n",
    "## number of ways to decode a maessage\n",
    "# A message containing letters from A-Z is being encoded to numbers using the following mapping:\n",
    "\n",
    "# 'A' -> 1\n",
    "# 'B' -> 2\n",
    "# ...\n",
    "# 'Z' -> 26\n",
    "\n",
    "# Given a non-empty string containing only digits, determine the total number of ways to decode it.\n",
    "# Input: \"12\"\n",
    "# Output: 2\n",
    "# Explanation: It could be decoded as \"AB\" (1 2) or \"L\" (12).\n",
    "# Input: \"226\"\n",
    "# Output: 3\n",
    "# Explanation: It could be decoded as \"BZ\" (2 26), \"VF\" (22 6), or \"BBF\" (2 2 6).\n",
    "    "
   ]
  },
  {
   "cell_type": "code",
   "execution_count": 5,
   "metadata": {},
   "outputs": [],
   "source": [
    "class Solution:\n",
    "    def numDecodings(self, s: str) -> int:\n",
    "        def find_ways(s,k,memo):           \n",
    "            \"\"\"ways to decode  k elements of the string if k=len(s) then full string and so on\"\"\"\n",
    "            ## Base cases:\n",
    "            if k==0: ## Empty string , this will be the case as we keep decrementing k \n",
    "              \n",
    "                return 1\n",
    "         \n",
    "            ## Base Case of first character being '0' >> 0 ways \n",
    "            ## First defind index of first element\n",
    "            start=len(s)-k\n",
    "     \n",
    "            if s[start]=='0':\n",
    "                return 0 \n",
    "            \n",
    "            ##DP and Memoization:\n",
    "            ## Check if answer is stored \n",
    "            if memo[k]!=None: \n",
    "                return memo[k]\n",
    "            \n",
    "            \n",
    "            ## recursion\n",
    "            result=find_ways(s,k-1,memo)\n",
    "            \n",
    "            if (k >=2) & (int(s[start:start+2]) <= 26):\n",
    "                result+=find_ways(s,k-2,memo)\n",
    "                \n",
    "                \n",
    "            ## Whenever it returns update memo with the answer \n",
    "            memo[k]=result\n",
    "           \n",
    "            \n",
    "            return result\n",
    "        \n",
    "        \n",
    "        memo=[None for i in range(len(s)+1)]\n",
    "        \n",
    "        \n",
    "        return find_ways(s,len(s),memo)\n",
    "                \n",
    "            "
   ]
  },
  {
   "cell_type": "code",
   "execution_count": 6,
   "metadata": {},
   "outputs": [
    {
     "data": {
      "text/plain": [
       "1"
      ]
     },
     "execution_count": 6,
     "metadata": {},
     "output_type": "execute_result"
    }
   ],
   "source": [
    "case=Solution()\n",
    "case.numDecodings('1')"
   ]
  },
  {
   "cell_type": "code",
   "execution_count": 7,
   "metadata": {},
   "outputs": [
    {
     "data": {
      "text/plain": [
       "2"
      ]
     },
     "execution_count": 7,
     "metadata": {},
     "output_type": "execute_result"
    }
   ],
   "source": [
    "case.numDecodings('12')"
   ]
  },
  {
   "cell_type": "code",
   "execution_count": 9,
   "metadata": {},
   "outputs": [
    {
     "data": {
      "text/plain": [
       "5"
      ]
     },
     "execution_count": 9,
     "metadata": {},
     "output_type": "execute_result"
    }
   ],
   "source": [
    "case.numDecodings('2111')"
   ]
  },
  {
   "cell_type": "code",
   "execution_count": null,
   "metadata": {},
   "outputs": [],
   "source": []
  }
 ],
 "metadata": {
  "kernelspec": {
   "display_name": "Python 3",
   "language": "python",
   "name": "python3"
  },
  "language_info": {
   "codemirror_mode": {
    "name": "ipython",
    "version": 3
   },
   "file_extension": ".py",
   "mimetype": "text/x-python",
   "name": "python",
   "nbconvert_exporter": "python",
   "pygments_lexer": "ipython3",
   "version": "3.6.7"
  }
 },
 "nbformat": 4,
 "nbformat_minor": 2
}
