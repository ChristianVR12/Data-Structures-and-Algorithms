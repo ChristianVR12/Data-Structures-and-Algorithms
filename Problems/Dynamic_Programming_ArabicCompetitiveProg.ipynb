{
 "cells": [
  {
   "cell_type": "code",
   "execution_count": 2,
   "metadata": {},
   "outputs": [],
   "source": [
    "# // General Rules:\n",
    "\n",
    "# // 1- Recursive Function\n",
    "# // 2- Sub-calls Overlap\n",
    "# // 3- Small Search Space, so putting in memory is doable\n",
    "\n",
    "# // Do we need to apply DP for merge sort? NEVER, a call will never be repeated! like most of D & C problems.\n",
    "\n",
    "# // Dynamic Programming most typical cases: Minimization, Maximization and Counting. But could have adhock usages.\n",
    "\n",
    "# // In fact, above code is not called DP, it is call Memoization (NOT Memorization).\n",
    "# \t// It is a technique when we have a recurive function and save calls)\n",
    "\n",
    "\n",
    "# // DP is to build bottom up according to recurrence while Memoization is top-down\n"
   ]
  },
  {
   "cell_type": "code",
   "execution_count": 3,
   "metadata": {},
   "outputs": [
    {
     "data": {
      "text/plain": [
       "5"
      ]
     },
     "execution_count": 3,
     "metadata": {},
     "output_type": "execute_result"
    }
   ],
   "source": [
    "##Memoization (Top Down!) \n",
    "\n",
    "def fibsave(n):\n",
    "    if n<=1:\n",
    "        return 1 \n",
    "    \n",
    "    if savedAnswers[n]!=-1:\n",
    "        return savedAnswers[n]\n",
    "    \n",
    "    savedAnswers[n]=fibsave(n-1)+fibsave(n-2)\n",
    "    \n",
    "    return savedAnswers[n]\n",
    "\n",
    "n=4\n",
    "savedAnswers=[-1 for i in range(n+1)]\n",
    "fibsave(n)\n",
    "    \n",
    "    \n",
    "\n",
    "# // Writing Memoization is much more natural, although there are cases when DP is a must\n",
    "# // Most of our tutorial is for Memoization"
   ]
  },
  {
   "cell_type": "code",
   "execution_count": 4,
   "metadata": {},
   "outputs": [
    {
     "data": {
      "text/plain": [
       "5"
      ]
     },
     "execution_count": 4,
     "metadata": {},
     "output_type": "execute_result"
    }
   ],
   "source": [
    "##bottom up approach is called Dynamic Programming\n",
    "\n",
    "# // Writing Memoization is much more natural, although there are cases when DP is a must\n",
    "# // Most of our tutorial is for Memoization\n",
    "\n",
    "def dp_fib(n):\n",
    "    fib=[0 for i in range(n)]\n",
    "    fib[0]=fib[1]=1 ## Base Case \n",
    "    for i in range(2,n):\n",
    "        fib[i]=fib[i-1]+fib[i-2] ## // bottom up according to recurrence\n",
    "    return fib[n-1]\n",
    "\n",
    "dp_fib(5)"
   ]
  },
  {
   "cell_type": "code",
   "execution_count": 5,
   "metadata": {},
   "outputs": [
    {
     "data": {
      "text/plain": [
       "[[5, 6, 3], [7, 8, 9], [12, 13, 2]]"
      ]
     },
     "execution_count": 5,
     "metadata": {},
     "output_type": "execute_result"
    }
   ],
   "source": [
    "grid=[[5,6,3],[7,8,9],[12,13,2]]\n",
    "grid\n",
    "## [[5 , 6 , 3],\n",
    "### [7 , 8 , 9], \n",
    "### [12, 13, 2]]\n",
    "## maxPathSum(grid,2)=5+7+12+13+2=39"
   ]
  },
  {
   "cell_type": "code",
   "execution_count": 6,
   "metadata": {},
   "outputs": [
    {
     "data": {
      "text/plain": [
       "39"
      ]
     },
     "execution_count": 6,
     "metadata": {},
     "output_type": "execute_result"
    }
   ],
   "source": [
    "def maxPathSum(grid,n):\n",
    "    \n",
    "    def _maxPathSum(r,c):\n",
    "        \n",
    "        if r > n or c >n :\n",
    "            return 0\n",
    "        \n",
    "        ## BaseCase: \n",
    "        if r==n and c==n:\n",
    "            return grid[r][c]\n",
    "        \n",
    "        \n",
    "        path1=_maxPathSum(r,c+1) ## going right\n",
    "        path2=_maxPathSum(r+1,c) ## going down \n",
    "        return grid[r][c] + max(path1,path2)\n",
    "    \n",
    "    return _maxPathSum(0,0)\n",
    "\n",
    "maxPathSum(grid,2)\n"
   ]
  },
  {
   "cell_type": "code",
   "execution_count": 8,
   "metadata": {},
   "outputs": [
    {
     "data": {
      "text/plain": [
       "39"
      ]
     },
     "execution_count": 8,
     "metadata": {},
     "output_type": "execute_result"
    }
   ],
   "source": [
    "#n=2\n",
    "memory=[[-1 for i in range(n+1)] for j in range(n+1)]\n",
    "\n",
    "def maxPathSum_dp(grid,n):\n",
    "    memory==[[-1 for i in range(n+1)] for j in range(n+1)] \n",
    "    \n",
    "    def _maxPathSumdp(r,c):\n",
    "        \n",
    "        \n",
    "        if r > n or c >n :\n",
    "            return 0\n",
    "        \n",
    "        ## BaseCase: \n",
    "        if r==n and c==n:\n",
    "            return grid[r][c]\n",
    "        \n",
    "        if memory[r][c]!=-1:\n",
    "            return memory[r][c]\n",
    "        \n",
    "        path1=_maxPathSumdp(r,c+1) ## going right\n",
    "        path2=_maxPathSumdp(r+1,c) ## going down \n",
    "        \n",
    "        memory[r][c]= grid[r][c] + max(path1,path2) \n",
    "        \n",
    "        return  memory[r][c]\n",
    "    \n",
    "    return _maxPathSumdp(0,0)\n",
    "\n",
    "maxPathSum_dp(grid,2)\n"
   ]
  },
  {
   "cell_type": "markdown",
   "metadata": {},
   "source": [
    "// Dp need good recursive mentality, that views answer in term of recursion! So develop your skills!\n",
    "\n",
    "// Many DPs follow a certain pattern (style), we will investigate some of them\n",
    "\n",
    "\n",
    "\n",
    "\n",
    "\n",
    "\n",
    "\n",
    "\n",
    "/*\n",
    " Consider an arbitrary sequence of integers. One can place + or - operators between integers in the sequence,\n",
    " \t thus deriving different arithmetical expressions that evaluate to different values. Let us, for example,\n",
    " \t take the sequence: 17, 5, -21, 15. There are eight possible expressions:\n",
    "\n",
    "#17\t+\t5\t+\t-21\t+\t15\t=\t16\n",
    "#17\t+\t5\t+\t-21\t-\t15\t=\t-14\n",
    "#17\t+\t5\t-\t-21\t+\t15\t=\t58\n",
    "#17\t+\t5\t-\t-21\t-\t15\t=\t28\n",
    "#17\t-\t5\t+\t-21\t+\t15\t=\t6\n",
    "#17\t-\t5\t+\t-21\t-\t15\t=\t-24\n",
    "#17\t-\t5\t-\t-21\t+\t15\t=\t48\n",
    "#17\t-\t5\t-\t-21\t-\t15\t=\t18\n",
    "\n",
    "We call the sequence of integers divisible by K if + or - operators can be placed between integers in the\n",
    "sequence in such way that resulting value is divisible by K. In the above example, the sequence is divisible by 7 (17+5+-21-15=-14) but is not divisible by 5.\n",
    "\n",
    "You are to write a program that will determine divisibility of sequence of integers.\n",
    "*/\n",
    "\n",
    "\n"
   ]
  },
  {
   "cell_type": "code",
   "execution_count": 25,
   "metadata": {},
   "outputs": [
    {
     "data": {
      "text/plain": [
       "1"
      ]
     },
     "execution_count": 25,
     "metadata": {},
     "output_type": "execute_result"
    }
   ],
   "source": [
    "## Pure Recursion \n",
    "##\n",
    "# // called with tryAll1(1, v[0])\t\t// e.g. tryAll1(1, 17)\n",
    "# int tryAll1(int i, int sum) {\n",
    "# \tif (i == n)\n",
    "# \t\treturn sum % k == 0;\n",
    "\n",
    "# \tif (tryAll1(i + 1, sum + v[i]) || tryAll1(i + 1, sum - v[i])\t)\n",
    "# \t\treturn 1;\n",
    "\n",
    "# \treturn 0;\n",
    "\n",
    "# }\n",
    "\n",
    "V=[ 17, 5, -21, 15]\n",
    "n=4\n",
    "\n",
    "def tryAll1(i,sum,k):\n",
    "    if(i==n):\n",
    "        return sum%k==0 \n",
    "    if(tryAll1(i+1,sum+V[i],k) or tryAll1(i+1,sum-V[i],k)):\n",
    "        return 1 \n",
    "    return 0 \n",
    "\n",
    "tryAll1(1,V[0],8)"
   ]
  },
  {
   "cell_type": "code",
   "execution_count": null,
   "metadata": {},
   "outputs": [],
   "source": [
    "## the above solution is recursive and does not use memoization//DP\n",
    "\n",
    "def fix(a,k):\n",
    "    \"\"\" this returns mod of both negative and positive numbers\"\"\"\n",
    "    return ( a%k + k ) %k \n",
    "\n",
    "\n",
    "int tryAll2(int i, int mod) {\n",
    "\tint &ret = mem[i][mod];\n",
    "    \n",
    "\tif (ret != -1)\n",
    "\t\treturn ret;\n",
    "    \n",
    "\tif (i == n)\n",
    "\t\treturn ret = mod == 0;\n",
    "\n",
    "\tif (tryAll2(i + 1, fix(mod + v[i])) || tryAll2(i + 1, fix(mod - v[i])))\n",
    "\t\treturn ret = 1;\n",
    "\treturn ret = 0;\n",
    "\n",
    "}\n",
    "\n",
    "\n"
   ]
  },
  {
   "cell_type": "code",
   "execution_count": 37,
   "metadata": {},
   "outputs": [
    {
     "data": {
      "text/plain": [
       "3"
      ]
     },
     "execution_count": 37,
     "metadata": {},
     "output_type": "execute_result"
    }
   ],
   "source": [
    "(8%5 + 5)%5"
   ]
  },
  {
   "cell_type": "code",
   "execution_count": 39,
   "metadata": {},
   "outputs": [],
   "source": [
    "MAX = 100 \n",
    "# Driver code  \n",
    "arr = [ 1, 2, 3, 4, 6 ]  \n",
    "n = len(arr) \n",
    "M = 4 \n",
    "  \n",
    "# MAX is the Maximum value  \n",
    "# M can take  \n",
    "dp = [[-1] * (n + 1)] * MAX"
   ]
  },
  {
   "cell_type": "code",
   "execution_count": 48,
   "metadata": {},
   "outputs": [
    {
     "data": {
      "text/plain": [
       "15"
      ]
     },
     "execution_count": 48,
     "metadata": {},
     "output_type": "execute_result"
    }
   ],
   "source": [
    "## Recursion to calculate the maximum withoutDP\n",
    "def max_array(A,i):\n",
    "    if i==0:\n",
    "        return A[0]\n",
    "    else:\n",
    "        return max(A[i],max_array(A,i-1))\n",
    "A=[9,10,-4,3,12,15]\n",
    "n=len(A)\n",
    "max_array(A,n-1)"
   ]
  },
  {
   "cell_type": "code",
   "execution_count": 51,
   "metadata": {},
   "outputs": [
    {
     "data": {
      "text/plain": [
       "False"
      ]
     },
     "execution_count": 51,
     "metadata": {},
     "output_type": "execute_result"
    }
   ],
   "source": [
    "##find if a string is a plaindrome:\n",
    "## String which is the same when read either from left or right \"adbda\" or \"azycyza\"\n",
    "def is_palindrome(stri):\n",
    "    if len(stri)==1:\n",
    "        return True \n",
    "    \n",
    "    if stri[0]==stri[len(stri)-1]:\n",
    "        return is_palindrome(stri[1:len(stri)-1])\n",
    "    else:\n",
    "        return False\n",
    "\n",
    "is_palindrome(\"AbdxydbA\")"
   ]
  },
  {
   "cell_type": "code",
   "execution_count": 53,
   "metadata": {},
   "outputs": [
    {
     "name": "stdout",
     "output_type": "stream",
     "text": [
      "True\n",
      "False\n"
     ]
    }
   ],
   "source": [
    "def is_palindrome(S, i, j):\n",
    "    if i >= j:\n",
    "        return True\n",
    "    return S[i] == S[j] and is_palindrome(S, i + 1, j - 1)\n",
    "\n",
    "\n",
    "S = \"xyyzzpzzyyx\"\n",
    "print(is_palindrome(S, 0, len(S) - 1))\n",
    "\n",
    "D=\"apros\"\n",
    "print(is_palindrome(D, 0, len(D) - 1))\n"
   ]
  },
  {
   "cell_type": "code",
   "execution_count": 58,
   "metadata": {},
   "outputs": [
    {
     "data": {
      "text/plain": [
       "False"
      ]
     },
     "execution_count": 58,
     "metadata": {},
     "output_type": "execute_result"
    }
   ],
   "source": [
    "## Find if array elements are in sequence:\n",
    "## A=[1,2,3,4] is in sequence whereas A[1,3,4,7,8,9]\n",
    "def is_seq_array(A):\n",
    "    if len(A)<= 2:\n",
    "        return True\n",
    "    \n",
    "    if abs(A[1]-A[0])==abs(A[2]-A[1]):\n",
    "        return is_seq_array(A[2:])\n",
    "    else:\n",
    "        return False\n",
    "    \n",
    "A=[1,2,3,4,8]\n",
    "is_seq_array(A)"
   ]
  },
  {
   "cell_type": "code",
   "execution_count": 60,
   "metadata": {},
   "outputs": [
    {
     "name": "stdout",
     "output_type": "stream",
     "text": [
      "False\n"
     ]
    }
   ],
   "source": [
    "def check_sequence(nums, i):\n",
    "    return i == len(nums)-1 or (nums[i] == nums[i+1]-1 and check_sequence(nums,i+1))\n",
    "\n",
    "nums=[1,2,3,4,5,6,7,9]\n",
    "print(check_sequence(nums, 0))"
   ]
  },
  {
   "cell_type": "code",
   "execution_count": 70,
   "metadata": {},
   "outputs": [
    {
     "data": {
      "text/plain": [
       "16"
      ]
     },
     "execution_count": 70,
     "metadata": {},
     "output_type": "execute_result"
    }
   ],
   "source": [
    "## Write a recursive function to return the sum of integer digits for example 1234>>10 \n",
    "def sumintdigs(a):\n",
    "    ##BaseCase\n",
    "    if a ==0:\n",
    "        return 0\n",
    "    return a%10+sumintdigs(a//10)  ### in python 3 a//10 is the same as int(a/10) or int(np.floor(a/10))\n",
    "sumintdigs(12346)"
   ]
  },
  {
   "cell_type": "code",
   "execution_count": 81,
   "metadata": {},
   "outputs": [
    {
     "name": "stdout",
     "output_type": "stream",
     "text": [
      "*\n",
      "*\n",
      "*\n",
      "*\n",
      "*\n",
      "*\n",
      "*\n",
      "*\n",
      "*\n",
      "*\n"
     ]
    }
   ],
   "source": [
    "### Recursion Stanford Cs106B \n",
    "def printstars(n):\n",
    "    ##Base Case \n",
    "    if n==1:\n",
    "        print(\"*\")\n",
    "    else:\n",
    "        print(\"*\")\n",
    "        printstars(n-1)\n",
    "    return \n",
    "printstars(10)"
   ]
  },
  {
   "cell_type": "code",
   "execution_count": 83,
   "metadata": {},
   "outputs": [
    {
     "data": {
      "text/plain": [
       "9"
      ]
     },
     "execution_count": 83,
     "metadata": {},
     "output_type": "execute_result"
    }
   ],
   "source": [
    "def mystery(n):\n",
    "    \n",
    "    if n<10:\n",
    "        return n\n",
    "    \n",
    "    else:\n",
    "        \n",
    "        a=n//10\n",
    "        b=n%10\n",
    "        return mystery(a+b)\n",
    "\n",
    "mystery(648)"
   ]
  },
  {
   "cell_type": "code",
   "execution_count": 85,
   "metadata": {},
   "outputs": [
    {
     "data": {
      "text/plain": [
       "125"
      ]
     },
     "execution_count": 85,
     "metadata": {},
     "output_type": "execute_result"
    }
   ],
   "source": [
    "def exponent(base,exp):\n",
    "    if exp==1:\n",
    "        return base\n",
    "    else:\n",
    "        return base*exponent(base,exp-1)\n",
    "exponent(5,3)"
   ]
  },
  {
   "cell_type": "code",
   "execution_count": null,
   "metadata": {},
   "outputs": [],
   "source": []
  }
 ],
 "metadata": {
  "kernelspec": {
   "display_name": "Python 3",
   "language": "python",
   "name": "python3"
  },
  "language_info": {
   "codemirror_mode": {
    "name": "ipython",
    "version": 3
   },
   "file_extension": ".py",
   "mimetype": "text/x-python",
   "name": "python",
   "nbconvert_exporter": "python",
   "pygments_lexer": "ipython3",
   "version": "3.6.7"
  }
 },
 "nbformat": 4,
 "nbformat_minor": 2
}
