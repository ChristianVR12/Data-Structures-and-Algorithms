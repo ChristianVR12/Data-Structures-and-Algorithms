{
 "cells": [
  {
   "cell_type": "code",
   "execution_count": 51,
   "metadata": {},
   "outputs": [],
   "source": [
    "import math\n",
    "import numpy as np"
   ]
  },
  {
   "cell_type": "code",
   "execution_count": 11,
   "metadata": {},
   "outputs": [
    {
     "data": {
      "text/plain": [
       "120"
      ]
     },
     "execution_count": 11,
     "metadata": {},
     "output_type": "execute_result"
    }
   ],
   "source": [
    "##Binomial Coefficient n choose k \n",
    "def binomcoeff_recursion(n,k):\n",
    "    ##BaseCases\n",
    "    if n==k or k==0:\n",
    "        return 1\n",
    "    ## Recursion\n",
    "    return binomcoeff_recursion(n-1,k-1)+binomcoeff_recursion(n-1,k)\n",
    "\n",
    "n=10\n",
    "k=3\n",
    "binomcoeff_recursion(n,k)"
   ]
  },
  {
   "cell_type": "code",
   "execution_count": 52,
   "metadata": {},
   "outputs": [
    {
     "data": {
      "text/plain": [
       "120.0"
      ]
     },
     "execution_count": 52,
     "metadata": {},
     "output_type": "execute_result"
    }
   ],
   "source": [
    "\n",
    "math.factorial(n)/(math.factorial(k)*math.factorial(n-k))"
   ]
  },
  {
   "cell_type": "code",
   "execution_count": 13,
   "metadata": {},
   "outputs": [
    {
     "data": {
      "text/plain": [
       "120"
      ]
     },
     "execution_count": 13,
     "metadata": {},
     "output_type": "execute_result"
    }
   ],
   "source": [
    "## TOpDown / Memoization Approach \n",
    "def binomcoeff_recursion_dp(n,k):\n",
    "    global memo \n",
    "    ##BaseCases\n",
    "    if n==k or k==0:\n",
    "        return 1\n",
    "    if memo[n][k]!=-1:\n",
    "        return memo[n][k]\n",
    "    ## Recursion\n",
    "    memo[n][k]= binomcoeff_recursion(n-1,k-1)+binomcoeff_recursion(n-1,k)\n",
    "    return memo[n][k]\n",
    "\n",
    "memo=[[-1 for i in range(k+1)] for j in range(n+1)]\n",
    "binomcoeff_recursion_dp(n,k)"
   ]
  },
  {
   "cell_type": "code",
   "execution_count": 17,
   "metadata": {},
   "outputs": [
    {
     "data": {
      "text/plain": [
       "120"
      ]
     },
     "execution_count": 17,
     "metadata": {},
     "output_type": "execute_result"
    }
   ],
   "source": [
    "## Table method or bottom-up approach \n",
    "def binomcoeff_recursion_table(n,k):\n",
    "    memo=[[0 for i in range(k+1)] for j in range(n+1)]\n",
    "    for i in range(0,n+1):\n",
    "        memo[i][0]=1\n",
    "        if i <=k :\n",
    "            memo[i][i]=1\n",
    "        \n",
    "    for i in range(1,n+1):\n",
    "        for j in range(1,k+1):\n",
    "            memo[i][j]= memo[i-1][j-1]+memo[i-1][j]\n",
    "            \n",
    "    return memo[n][k]\n",
    "\n",
    "binomcoeff_recursion_table(n,k)"
   ]
  },
  {
   "cell_type": "code",
   "execution_count": 30,
   "metadata": {},
   "outputs": [],
   "source": [
    "def knapsack(W, i, weights, values):\n",
    "    ##BaseCase\n",
    "    ## noe that i=0 means first item here so basecase i=-1 \n",
    "    if W == 0 or i==-1:\n",
    "        return 0\n",
    "    \n",
    "    if weights[i] <= W:\n",
    "        return max(values[i] + knapsack(W - weights[i], i - 1, weights, values),\n",
    "                   knapsack(W, i - 1, weights, values))\n",
    "    else:\n",
    "        return knapsack(W, i - 1, weights, values)\n"
   ]
  },
  {
   "cell_type": "code",
   "execution_count": 31,
   "metadata": {},
   "outputs": [
    {
     "name": "stdout",
     "output_type": "stream",
     "text": [
      "28\n"
     ]
    }
   ],
   "source": [
    "weights = [3, 7, 10, 6]\n",
    "values = [4, 14, 10, 5]\n",
    "W = 20\n",
    "N = len(weights)\n",
    "print(knapsack(W, N - 1, weights, values))\n"
   ]
  },
  {
   "cell_type": "code",
   "execution_count": 35,
   "metadata": {},
   "outputs": [],
   "source": [
    "def knapsack_memo(W, i, weights, values, dp):\n",
    "    \n",
    "    if W == 0 or i == -1: return 0\n",
    "    if dp[W][i] != -1:\n",
    "        return dp[W][i]\n",
    "    \n",
    "    if weights[i] <= W:\n",
    "        res = max(values[i] + knapsack_memo(W - weights[i], i - 1, weights, values, dp),\n",
    "                  knapsack_memo(W, i - 1, weights, values, dp))\n",
    "        dp[W][i] = res\n",
    "        return res\n",
    "    else:\n",
    "        res = knapsack_memo(W, i - 1, weights, values, dp)\n",
    "        dp[W][i] = res\n",
    "        return res"
   ]
  },
  {
   "cell_type": "code",
   "execution_count": 36,
   "metadata": {},
   "outputs": [
    {
     "name": "stdout",
     "output_type": "stream",
     "text": [
      "28\n"
     ]
    }
   ],
   "source": [
    "# Memoization\n",
    "dp = [[-1 for i in range(0, len(weights) + 1)] for j in range(0, W + 1)]\n",
    "print(knapsack_memo(W, N - 1, weights, values, dp))"
   ]
  },
  {
   "cell_type": "code",
   "execution_count": 39,
   "metadata": {},
   "outputs": [],
   "source": [
    "def knapsack_DP_reconstruct(W, weights, values):\n",
    "    dp = [[0 for i in range(0, len(weights) + 1)] for j in range(0, W + 1)]\n",
    "    \n",
    "    n = len(weights) ## number of items \n",
    "    \n",
    "    decisions = [[False for i in range(0, len(weights) + 1)] for j in range(0, W + 1)]\n",
    "    \n",
    "    #dp[W][0] = 0\n",
    "    \n",
    "    for i in range(1, n + 1):\n",
    "        for w in range(0, W + 1):\n",
    "            if weights[i - 1] <= w:\n",
    "                if dp[w - weights[i - 1]][i - 1] + values[i - 1] > dp[w][i - 1]:\n",
    "                    # We record the decision here that its beneficial to pick the ith item\n",
    "                    decisions[w][i] = True\n",
    "                    dp[w][i] = dp[w - weights[i - 1]][i - 1] + values[i - 1]\n",
    "                else:\n",
    "                    dp[w][i] = dp[w][i - 1]\n",
    "            else:\n",
    "                dp[w][i] = dp[w][i - 1]\n",
    "\n",
    "    i = n\n",
    "    w = W\n",
    "    while i > 0 and w > 0:\n",
    "        if decisions[w][i]:\n",
    "            print(\"Picked up {} , Weight {} , Value {}\".format(i - 1, weights[i - 1], values[i - 1]))\n",
    "            w -= weights[i - 1]\n",
    "            i -= 1;\n",
    "        else:\n",
    "            i -= 1\n",
    "            \n",
    "    return dp[W][n]\n"
   ]
  },
  {
   "cell_type": "code",
   "execution_count": 40,
   "metadata": {},
   "outputs": [
    {
     "name": "stdout",
     "output_type": "stream",
     "text": [
      "Picked up 2 , Weight 10 , Value 10\n",
      "Picked up 1 , Weight 7 , Value 14\n",
      "Picked up 0 , Weight 3 , Value 4\n",
      "28\n"
     ]
    }
   ],
   "source": [
    "print(knapsack_DP_reconstruct(W, weights, values))\n"
   ]
  },
  {
   "cell_type": "code",
   "execution_count": 41,
   "metadata": {},
   "outputs": [
    {
     "data": {
      "text/plain": [
       "[3, 7, 10, 6]"
      ]
     },
     "execution_count": 41,
     "metadata": {},
     "output_type": "execute_result"
    }
   ],
   "source": [
    "weights"
   ]
  },
  {
   "cell_type": "code",
   "execution_count": 42,
   "metadata": {},
   "outputs": [
    {
     "data": {
      "text/plain": [
       "[4, 14, 10, 5]"
      ]
     },
     "execution_count": 42,
     "metadata": {},
     "output_type": "execute_result"
    }
   ],
   "source": [
    "values"
   ]
  },
  {
   "cell_type": "code",
   "execution_count": 53,
   "metadata": {},
   "outputs": [
    {
     "data": {
      "text/plain": [
       "(3, 3)"
      ]
     },
     "execution_count": 53,
     "metadata": {},
     "output_type": "execute_result"
    }
   ],
   "source": [
    "## House Painting Problem  \n",
    "painting_cost = [[17, 2, 17], [16, 16, 5]  , [14, 3, 19]]\n",
    "np.shape(painting_cost)"
   ]
  },
  {
   "cell_type": "code",
   "execution_count": 72,
   "metadata": {},
   "outputs": [],
   "source": [
    "def min_cost_rec(prev_color_idx , house_index):\n",
    "    if house_index+1==np.shape(painting_cost)[0]:\n",
    "        opt1=painting_cost[house_index][0]+ min_cost_rec(0 , house_index-1)\n",
    "        opt2=painting_cost[house_index][1]+ min_cost_rec(1 , house_index-1)\n",
    "        opt3=painting_cost[house_index][2]+ min_cost_rec(2 , house_index-1)\n",
    "        return min(opt1,opt2,opt3)\n",
    "    \n",
    "    ## BaseCase\n",
    "    if house_index<0:\n",
    "        return 0 \n",
    "    \n",
    "    if prev_color_idx==0:\n",
    "        opt1=painting_cost[house_index][1]+ min_cost_rec(1 , house_index-1)\n",
    "        opt2=painting_cost[house_index][2]+ min_cost_rec(2 , house_index-1)\n",
    "        return min(opt1,opt2)\n",
    "    elif prev_color_idx==1:\n",
    "        opt1=painting_cost[house_index][0]+ min_cost_rec(0 , house_index-1)\n",
    "        opt2=painting_cost[house_index][2]+ min_cost_rec(2 , house_index-1)\n",
    "        return min(opt1,opt2)\n",
    "    else:\n",
    "        opt1=painting_cost[house_index][0]+ min_cost_rec(0 , house_index-1)\n",
    "        opt2=painting_cost[house_index][1]+ min_cost_rec(1 , house_index-1)\n",
    "        return min(opt1,opt2)\n",
    "    "
   ]
  },
  {
   "cell_type": "code",
   "execution_count": 74,
   "metadata": {},
   "outputs": [
    {
     "data": {
      "text/plain": [
       "10"
      ]
     },
     "execution_count": 74,
     "metadata": {},
     "output_type": "execute_result"
    }
   ],
   "source": [
    "min_cost_rec(0, np.shape(painting_cost)[0]-1)"
   ]
  },
  {
   "cell_type": "code",
   "execution_count": 73,
   "metadata": {},
   "outputs": [
    {
     "data": {
      "text/plain": [
       "10"
      ]
     },
     "execution_count": 73,
     "metadata": {},
     "output_type": "execute_result"
    }
   ],
   "source": [
    "def min_cost_rec_memo(prev_color_idx , house_index):\n",
    "    "
   ]
  },
  {
   "cell_type": "code",
   "execution_count": 78,
   "metadata": {},
   "outputs": [],
   "source": [
    "RED = 0\n",
    "BLUE = 1\n",
    "GREEN = 2\n",
    "\n",
    "\n",
    "def min_cost(costs, i, color):\n",
    "    if i == len(costs):\n",
    "        return 0\n",
    "    if color == RED:\n",
    "        cost_blue = min_cost(costs, i + 1, BLUE)\n",
    "        cost_green = min_cost(costs, i + 1, GREEN)\n",
    "        return costs[i][RED] + min(cost_blue, cost_green)\n",
    "    elif color == BLUE:\n",
    "        cost_red = min_cost(costs, i + 1, RED)\n",
    "        cost_green = min_cost(costs, i + 1, GREEN)\n",
    "        return costs[i][BLUE] + min(cost_red, cost_green)\n",
    "    elif color == GREEN:\n",
    "        cost_red = min_cost(costs, i + 1, RED)\n",
    "        cost_blue = min_cost(costs, i + 1, BLUE)\n",
    "        return costs[i][GREEN] + min(cost_red, cost_blue)\n",
    "\n",
    "\n",
    "def min_cost_memo(costs, i, color, cache):\n",
    "    if i == len(costs):\n",
    "        return 0\n",
    "    if cache[i][color] != -1:\n",
    "        return cache[i][color]\n",
    "    if color == RED:\n",
    "        cost_blue = min_cost_memo(costs, i + 1, BLUE, cache)\n",
    "        cost_green = min_cost_memo(costs, i + 1, GREEN, cache)\n",
    "        cache[i][RED] = costs[i][RED] + min(cost_blue, cost_green)\n",
    "        return cache[i][RED]\n",
    "    elif color == BLUE:\n",
    "        cost_red = min_cost_memo(costs, i + 1, RED, cache)\n",
    "        cost_green = min_cost_memo(costs, i + 1, GREEN, cache)\n",
    "        cache[i][BLUE] = costs[i][BLUE] + min(cost_red, cost_green)\n",
    "        return cache[i][BLUE]\n",
    "    elif color == GREEN:\n",
    "        cost_red = min_cost_memo(costs, i + 1, RED, cache)\n",
    "        cost_blue = min_cost_memo(costs, i + 1, BLUE, cache)\n",
    "        cache[i][GREEN] = costs[i][GREEN] + min(cost_red, cost_blue)\n",
    "        return cache[i][GREEN]\n",
    "\n",
    "\n",
    "def min_cost_dp(costs):\n",
    "    n = len(costs)\n",
    "    dp = [[0 for _ in range(0, 3)] for _ in range(0, n + 1)]\n",
    "    for i in range(1, n + 1):\n",
    "        dp[i][RED] = costs[i - 1][RED] + min(dp[i - 1][BLUE], dp[i - 1][GREEN])\n",
    "        dp[i][BLUE] = costs[i - 1][BLUE] + min(dp[i - 1][RED], dp[i - 1][GREEN])\n",
    "        dp[i][GREEN] = costs[i - 1][GREEN] + min(dp[i - 1][RED], dp[i - 1][BLUE])\n",
    "    return min(dp[n][RED], min(dp[n][BLUE], dp[n][GREEN]))\n",
    "\n",
    "\n",
    "def min_cost_dp_reconstruct(costs):\n",
    "    n = len(costs)\n",
    "    dp = [[0 for _ in range(0, 3)] for _ in range(0, n + 1)]\n",
    "    decision = [[0 for _ in range(0, 3)] for _ in range(0, n + 1)]\n",
    "    for i in range(1, n + 1):\n",
    "        if dp[i - 1][BLUE] < dp[i - 1][GREEN]:\n",
    "            decision[i][RED] = BLUE\n",
    "            dp[i][RED] = costs[i - 1][RED] + dp[i - 1][BLUE]\n",
    "        else:\n",
    "            decision[i][RED] = GREEN\n",
    "            dp[i][RED] = costs[i - 1][RED] + dp[i - 1][GREEN]\n",
    "\n",
    "        if dp[i - 1][RED] < dp[i - 1][GREEN]:\n",
    "            decision[i][BLUE] = RED\n",
    "            dp[i][BLUE] = costs[i - 1][BLUE] + dp[i - 1][RED]\n",
    "        else:\n",
    "            decision[i][BLUE] = GREEN\n",
    "            dp[i][BLUE] = costs[i - 1][BLUE] + dp[i - 1][GREEN]\n",
    "\n",
    "        if dp[i - 1][RED] < dp[i - 1][BLUE]:\n",
    "            decision[i][GREEN] = RED\n",
    "            dp[i][GREEN] = costs[i - 1][GREEN] + dp[i - 1][RED]\n",
    "        else:\n",
    "            decision[i][GREEN] = BLUE\n",
    "            dp[i][GREEN] = costs[i - 1][GREEN] + dp[i - 1][BLUE]\n",
    "\n",
    "    result = min(dp[n][RED], min(dp[n][BLUE], dp[n][GREEN]))\n",
    "    \n",
    "    i = n\n",
    "    if result == dp[n][RED]:\n",
    "        c = RED\n",
    "    elif result == dp[n][BLUE]:\n",
    "        c = BLUE\n",
    "    else:\n",
    "        c = GREEN\n",
    "\n",
    "    while i > 0:\n",
    "        print(\"House {} is painted with color {} \".format(i, color(c)))\n",
    "        c = decision[i][c]\n",
    "        i -= 1\n",
    "    return result\n",
    "\n",
    "\n",
    "def color(c):\n",
    "    if c == RED:\n",
    "        return \"RED\"\n",
    "    elif c == BLUE:\n",
    "        return \"BLUE\"\n",
    "    else:\n",
    "        return \"GREEN\"\n",
    "\n",
    "\n",
    "    "
   ]
  },
  {
   "cell_type": "code",
   "execution_count": 68,
   "metadata": {},
   "outputs": [
    {
     "name": "stdout",
     "output_type": "stream",
     "text": [
      "10\n"
     ]
    }
   ],
   "source": [
    "painting_cost = [[17, 2, 17], [16, 16, 5], [14, 3, 19]]\n",
    "\n",
    "paint_red = min_cost(painting_cost, 0, RED)\n",
    "paint_blue = min_cost(painting_cost, 0, BLUE)\n",
    "paint_green = min_cost(painting_cost, 0, GREEN)\n",
    "min_cost = min(paint_red, min(paint_blue, paint_green))\n",
    "print(min_cost)"
   ]
  },
  {
   "cell_type": "code",
   "execution_count": 77,
   "metadata": {},
   "outputs": [],
   "source": [
    "cache = [[-1 for _ in range(0, 3)] for _ in range(0, len(painting_cost))]\n",
    "\n",
    "paint_red = min_cost_memo(painting_cost, 0, RED, cache)\n",
    "paint_red = min_cost_memo(painting_cost, 0, BLUE, cache)\n",
    "paint_red = min_cost_memo(painting_cost, 0, GREEN, cache)\n",
    "min_cost = min(paint_red, min(paint_blue, paint_green))\n",
    "\n"
   ]
  },
  {
   "cell_type": "code",
   "execution_count": 75,
   "metadata": {},
   "outputs": [
    {
     "name": "stdout",
     "output_type": "stream",
     "text": [
      "10\n"
     ]
    }
   ],
   "source": [
    "print(min_cost_dp(painting_cost))\n"
   ]
  },
  {
   "cell_type": "code",
   "execution_count": 79,
   "metadata": {},
   "outputs": [
    {
     "name": "stdout",
     "output_type": "stream",
     "text": [
      "House 3 is painted with color BLUE \n",
      "House 2 is painted with color GREEN \n",
      "House 1 is painted with color BLUE \n"
     ]
    },
    {
     "data": {
      "text/plain": [
       "10"
      ]
     },
     "execution_count": 79,
     "metadata": {},
     "output_type": "execute_result"
    }
   ],
   "source": [
    "min_cost_dp_reconstruct(painting_cost)"
   ]
  },
  {
   "cell_type": "code",
   "execution_count": 81,
   "metadata": {},
   "outputs": [
    {
     "data": {
      "text/plain": [
       "[[17, 2, 17], [16, 16, 5], [14, 3, 19]]"
      ]
     },
     "execution_count": 81,
     "metadata": {},
     "output_type": "execute_result"
    }
   ],
   "source": [
    "painting_cost  ## RED = 0 , BLUE = 1 , GREEN = 2"
   ]
  },
  {
   "cell_type": "code",
   "execution_count": 100,
   "metadata": {},
   "outputs": [],
   "source": [
    "## either you take last or not \n",
    "def max_profit_rec(N,S):\n",
    "    ##BaseCase\n",
    "    if N==0:\n",
    "        return S[0]\n",
    "    if N==-1:\n",
    "        return 0 \n",
    "    \n",
    "    return max(S[N]+max_profit_rec(N-2,S), max_profit_rec(N-1,S))\n"
   ]
  },
  {
   "cell_type": "code",
   "execution_count": 101,
   "metadata": {},
   "outputs": [
    {
     "name": "stdout",
     "output_type": "stream",
     "text": [
      "118\n"
     ]
    }
   ],
   "source": [
    "S = [20, 25, 30, 15, 10, 5, 12, 32, 25, 8, 15, 18]\n",
    "N = len(S)\n",
    "##\n",
    "print(max_profit_rec(N - 1, S))"
   ]
  },
  {
   "cell_type": "code",
   "execution_count": 102,
   "metadata": {},
   "outputs": [
    {
     "name": "stdout",
     "output_type": "stream",
     "text": [
      "118\n"
     ]
    }
   ],
   "source": [
    "def max_profit(i, S):\n",
    "    if i == 0:\n",
    "        return S[0]\n",
    "    if i < 0:\n",
    "        return 0\n",
    "    return max(S[i] + max_profit(i - 2, S), max_profit(i - 1, S))\n",
    "print(max_profit(N - 1, S))"
   ]
  },
  {
   "cell_type": "code",
   "execution_count": 103,
   "metadata": {
    "scrolled": true
   },
   "outputs": [
    {
     "name": "stdout",
     "output_type": "stream",
     "text": [
      "118\n"
     ]
    }
   ],
   "source": [
    "mem=[-1 for i in range(N)]\n",
    "mem[0]=S[0]\n",
    "\n",
    "def max_profit_rec_mem(N,S):\n",
    "    if N < 0 :\n",
    "        return 0 \n",
    "    \n",
    "    if mem[N]!=-1:\n",
    "        return mem[N]\n",
    "    \n",
    "    mem[N]=max(S[N]+max_profit_rec_mem(N-2,S), max_profit_rec_mem(N-1,S))\n",
    "    \n",
    "    return mem[N]\n",
    "\n",
    "print(max_profit_rec_mem(N - 1, S))"
   ]
  },
  {
   "cell_type": "code",
   "execution_count": 105,
   "metadata": {},
   "outputs": [
    {
     "data": {
      "text/plain": [
       "[20, 25, 30, 15, 10, 5, 12, 32, 25, 8, 15, 18]"
      ]
     },
     "execution_count": 105,
     "metadata": {},
     "output_type": "execute_result"
    }
   ],
   "source": [
    "S"
   ]
  },
  {
   "cell_type": "code",
   "execution_count": 106,
   "metadata": {},
   "outputs": [
    {
     "name": "stdout",
     "output_type": "stream",
     "text": [
      "118\n"
     ]
    }
   ],
   "source": [
    "def max_profit_rec_dp(N,S):\n",
    "        \n",
    "    mem=[0 for i in range(N)]\n",
    "    mem[0]=S[0]\n",
    "    mem[1]=max(S[0],S[1])\n",
    "    \n",
    "    for j in range(2,N):\n",
    "        mem[j]=max(S[j]+mem[j-2], mem[j-1])\n",
    "    return mem[N-1]\n",
    "\n",
    "print(max_profit_rec_dp(N, S))\n",
    "    \n",
    "    "
   ]
  },
  {
   "cell_type": "code",
   "execution_count": 96,
   "metadata": {},
   "outputs": [
    {
     "name": "stdout",
     "output_type": "stream",
     "text": [
      "118\n"
     ]
    }
   ],
   "source": [
    "def max_profit_memo(i, S, cache):\n",
    "    if i == 0:\n",
    "        return S[0]\n",
    "    if i < 0:\n",
    "        return 0\n",
    "    if cache[i] != 0:\n",
    "        return cache[i]\n",
    "    profit = max(S[i] + max_profit_memo(i - 2, S, cache), max_profit_memo(i - 1, S, cache))\n",
    "    cache[i] = profit\n",
    "    return profit\n",
    "cache = [0 for _ in range(0, N)]\n",
    "res = max_profit_memo(N - 1, S, cache)\n",
    "print(res)"
   ]
  },
  {
   "cell_type": "code",
   "execution_count": 139,
   "metadata": {},
   "outputs": [
    {
     "name": "stdout",
     "output_type": "stream",
     "text": [
      "11 = 18\n",
      "9 = 8\n",
      "7 = 32\n",
      "4 = 10\n",
      "2 = 30\n",
      "0 = 20\n"
     ]
    },
    {
     "data": {
      "text/plain": [
       "118"
      ]
     },
     "execution_count": 139,
     "metadata": {},
     "output_type": "execute_result"
    }
   ],
   "source": [
    "def max_profit_dp_reconstruct(S):\n",
    "    N = len(S)\n",
    "    dp = [0 for _ in range(0, N + 1)] ## dp[1] represents profit for one house dp[0]=0 for convenience \n",
    "    rob = [False for _ in range(0, N)]\n",
    "    rob[0] = True\n",
    "    dp[1] = S[0]\n",
    "\n",
    "    for i in range(2, N + 1):\n",
    "        if S[i - 1] + dp[i - 2] > dp[i - 1]:\n",
    "            rob[i - 1] = True\n",
    "            dp[i] = S[i - 1] + dp[i - 2]\n",
    "        else:\n",
    "            dp[i] = dp[i - 1]\n",
    "            rob[i - 1] = False\n",
    "            \n",
    "    i = N - 1\n",
    "    while i >= 0:\n",
    "        if rob[i]:\n",
    "            print(\"{} = {}\".format(i, S[i]))\n",
    "            i -= 2\n",
    "        else:\n",
    "            i -= 1\n",
    "    return dp[N]\n",
    "\n",
    "\n",
    "S = [20, 25, 30, 15, 10, 5, 12, 32, 25, 8, 15, 18]\n",
    "N = len(S)\n",
    "##\n",
    "max_profit_dp_reconstruct(S)"
   ]
  },
  {
   "cell_type": "code",
   "execution_count": 142,
   "metadata": {},
   "outputs": [
    {
     "data": {
      "text/plain": [
       "21"
      ]
     },
     "execution_count": 142,
     "metadata": {},
     "output_type": "execute_result"
    }
   ],
   "source": [
    "## Rod Cutting Problem: use recursion and backtracking:\n",
    "import sys \n",
    "\n",
    "def max_profit(L,P):\n",
    "    if L==0:\n",
    "        return 0 \n",
    "    cur_max=-sys.maxsize\n",
    "    for i in range(0,L):\n",
    "        cur_max=max(cur_max,P[i]+max_profit(L-i-1,P))\n",
    "    return cur_max\n",
    "\n",
    "    \n",
    "profits_table = [1, 5, 8, 9, 10, 13, 17, 20, 24, 30]\n",
    "\n",
    "l = 8\n",
    "res = max_profit(l, profits_table)\n",
    "res"
   ]
  },
  {
   "cell_type": "code",
   "execution_count": 143,
   "metadata": {},
   "outputs": [
    {
     "data": {
      "text/plain": [
       "21"
      ]
     },
     "execution_count": 143,
     "metadata": {},
     "output_type": "execute_result"
    }
   ],
   "source": [
    "def max_profit2(l, p):\n",
    "    if l == 0:\n",
    "        return 0\n",
    "    max_p = -sys.maxsize\n",
    "    for i in range(0, l):\n",
    "        max_p = max(max_p, p[i] + max_profit2(l - i - 1, p))\n",
    "    return max_p\n",
    "res = max_profit2(l, profits_table)\n",
    "res"
   ]
  },
  {
   "cell_type": "code",
   "execution_count": 157,
   "metadata": {},
   "outputs": [
    {
     "data": {
      "text/plain": [
       "21"
      ]
     },
     "execution_count": 157,
     "metadata": {},
     "output_type": "execute_result"
    }
   ],
   "source": [
    "## Top-down memoization solution \n",
    "l = 8\n",
    "cache=[-1 for i in range(l+1)]\n",
    "cache[0]=0\n",
    "\n",
    "def max_profit_mem(L,p):\n",
    "    \n",
    "    if cache[L]!=-1:\n",
    "        return cache[L]\n",
    "    \n",
    "    max_p = -sys.maxsize\n",
    "    for i in range(0, L):\n",
    "        max_p = max(max_p, p[i] + max_profit_mem(L - i - 1, p))\n",
    "        cache[L]=max_p\n",
    "    return max_p\n",
    "\n",
    "res = max_profit_mem(l, profits_table)\n",
    "res   \n"
   ]
  },
  {
   "cell_type": "code",
   "execution_count": 162,
   "metadata": {},
   "outputs": [
    {
     "data": {
      "text/plain": [
       "21"
      ]
     },
     "execution_count": 162,
     "metadata": {},
     "output_type": "execute_result"
    }
   ],
   "source": [
    "## Bottom up Approach \n",
    "## solve incrementally start from a rod length of 1 and then 2 , 3,...etc all the way to L \n",
    "l=8 \n",
    "dp=[0 for i in range(l+1)]\n",
    "\n",
    "def max_profit_bup(L,p):\n",
    "        \n",
    "    max_p = -sys.maxsize\n",
    "    for i in range(1, L+1):\n",
    "        max_p = -sys.maxsize\n",
    "        for l in range(0,i):\n",
    "            max_p = max(max_p, p[l] + dp[i-l - 1])\n",
    "            dp[i] = max_p\n",
    "        \n",
    "    return dp[L]\n",
    "\n",
    "res = max_profit_mem(l, profits_table)\n",
    "res   "
   ]
  },
  {
   "cell_type": "code",
   "execution_count": 170,
   "metadata": {},
   "outputs": [
    {
     "name": "stdout",
     "output_type": "stream",
     "text": [
      "Best Cuts are \n",
      "\n",
      "2,3,3, \n",
      " \n",
      " maximum profit is  21\n"
     ]
    }
   ],
   "source": [
    "def max_profit_dp_reconstruct(L, p):\n",
    "    dp = [0 for _ in range(0, L + 1)]\n",
    "    cuts = [i for i in range(0, L+1)]\n",
    "    \n",
    "    for l in range(1, L + 1):\n",
    "        dp[l] = -sys.maxsize\n",
    "        for i in range(0, l):\n",
    "            if p[i] + dp[l - i - 1] > dp[l]:\n",
    "                dp[l] = p[i] + dp[l - i - 1]\n",
    "                cuts[l] = i+1 ## this is length units so need to add 1 because i=0 corresponds to length=1\n",
    "                \n",
    "    print(\"Best Cuts are \\n\")\n",
    "    l = L\n",
    "    cut = cuts[L]\n",
    "    while cut != 0:\n",
    "        print(str(cut)+',',end='')\n",
    "        l = l-cut\n",
    "        cut = cuts[l]\n",
    "    return dp[L]\n",
    "res = max_profit_dp_reconstruct(l,profits_table)\n",
    "print(\" \\n \\n maximum profit is \", res)"
   ]
  },
  {
   "cell_type": "code",
   "execution_count": 165,
   "metadata": {},
   "outputs": [
    {
     "data": {
      "text/plain": [
       "[1, 5, 8, 9, 10, 13, 17, 20, 24, 30]"
      ]
     },
     "execution_count": 165,
     "metadata": {},
     "output_type": "execute_result"
    }
   ],
   "source": [
    "profits_table"
   ]
  },
  {
   "cell_type": "code",
   "execution_count": 172,
   "metadata": {},
   "outputs": [
    {
     "name": "stdout",
     "output_type": "stream",
     "text": [
      "4\n"
     ]
    }
   ],
   "source": [
    "## Longest Increasing Subsequence\n",
    "\n",
    "def lis(i, A):\n",
    "    ## Basecase index=0 first entry so it returns 1 \n",
    "    if i == 0:\n",
    "        return 1\n",
    "    \n",
    "    ## this is smallest possible answer! \n",
    "    max_l = 1\n",
    "    \n",
    "    for j in range(0, i):\n",
    "        ## Try one of the smaller subsequences\n",
    "        l = lis(j, A)\n",
    "        ## come back with an answer \n",
    "        ## Now compare A[i] to A[j] and update max length so far max_l \n",
    "        if A[j] < A[i]:\n",
    "            l += 1\n",
    "        max_l = max(max_l, l)\n",
    "        ## Now repeat for other subsequences\n",
    "    return max_l\n",
    "\n",
    "############################## \n",
    "\n",
    "A = [5, 2, 4, 7, 3, 8]\n",
    "N = len(A)\n",
    "res = lis(N - 1, A)\n",
    "print(res)\n"
   ]
  },
  {
   "cell_type": "code",
   "execution_count": 173,
   "metadata": {},
   "outputs": [
    {
     "name": "stdout",
     "output_type": "stream",
     "text": [
      "4\n"
     ]
    }
   ],
   "source": [
    "def lis_memo(i, A, cache):\n",
    "    if i == 0:\n",
    "        return 1\n",
    "    if cache[i] != 0:\n",
    "        return cache[i]\n",
    "    max_l = 1\n",
    "    for j in range(0, i):\n",
    "        l = lis(j, A) ## replace function call with dp[j] for bottom up and add for loop to mimic recursion stack\n",
    "        if A[j] < A[i]:\n",
    "            l += 1\n",
    "        max_l = max(max_l, l)\n",
    "    cache[i] = max_l\n",
    "    return max_l\n",
    "\n",
    "A = [5, 2, 4, 7, 3, 8]\n",
    "N = len(A)\n",
    "cache = [0 for _ in range(0, N)]\n",
    "\n",
    "res = lis_memo(N - 1, A, cache)\n",
    "print(res)"
   ]
  },
  {
   "cell_type": "code",
   "execution_count": 174,
   "metadata": {},
   "outputs": [
    {
     "name": "stdout",
     "output_type": "stream",
     "text": [
      "4\n"
     ]
    }
   ],
   "source": [
    "def lis_dp(A):\n",
    "    N = len(A)\n",
    "    dp = [1 for _ in range(0, N)]\n",
    "    for i in range(0, N):\n",
    "        for j in range(0, i):\n",
    "            l = dp[j] # max up to j \n",
    "            if A[j] < A[i]:\n",
    "                l += 1 \n",
    "            dp[i] = max(dp[i], l)\n",
    "            \n",
    "    return dp[N - 1]\n",
    "res = lis_dp(A)\n",
    "print(res)"
   ]
  },
  {
   "cell_type": "code",
   "execution_count": 175,
   "metadata": {},
   "outputs": [
    {
     "data": {
      "text/plain": [
       "100"
      ]
     },
     "execution_count": 175,
     "metadata": {},
     "output_type": "execute_result"
    }
   ],
   "source": [
    "## minimum cost path: need to jump on cubes starting from 0 to the end. Each time you land a cube you pay \n",
    "## a fine. what is the minimum cost path to reach the end ? note that you can jump over a max of X cubes at a time\n",
    "   \n",
    "C = [0, 20, 30, 40, 25, 15, 20, 28]\n",
    "X = 3\n",
    "N = len(C)"
   ]
  },
  {
   "cell_type": "code",
   "execution_count": 177,
   "metadata": {},
   "outputs": [
    {
     "name": "stdout",
     "output_type": "stream",
     "text": [
      "73\n"
     ]
    }
   ],
   "source": [
    "def min_cost_path2(i, C, X):\n",
    "    if i == 0:\n",
    "        return 0\n",
    "    min_cost = sys.maxsize\n",
    "    \n",
    "    for j in range(1, min(X, i) + 1): ## min(X,i) to eliminate possibilities where i-j will be negative \n",
    "        min_cost = min(min_cost, C[i] + min_cost_path2(i - j, C, X))\n",
    "    return min_cost\n",
    "\n",
    "ret = min_cost_path2(N - 1, C, X)\n",
    "print(ret)\n"
   ]
  },
  {
   "cell_type": "code",
   "execution_count": 186,
   "metadata": {},
   "outputs": [
    {
     "name": "stdout",
     "output_type": "stream",
     "text": [
      "73\n"
     ]
    }
   ],
   "source": [
    "def min_cost_path_memo(i, C, X, cache):\n",
    "    if i == 0:\n",
    "        return 0\n",
    "    if cache[i] != 0:\n",
    "        return cache[i]\n",
    "    min_cost = sys.maxsize\n",
    "    for j in range(1, min(X, i) + 1):\n",
    "        min_cost = min(min_cost, C[i] + min_cost_path_memo(i - j, C, X,cache))\n",
    "    cache[i] = min_cost\n",
    "    return min_cost\n",
    "\n",
    "\n",
    "C = [0, 20, 30, 40, 25, 15, 20, 28]\n",
    "X = 3\n",
    "N = len(C)\n",
    "cache = [0 for _ in range(0, N)]\n",
    "\n",
    "ret = min_cost_path_memo(N - 1, C, X, cache)\n",
    "print(ret)\n"
   ]
  },
  {
   "cell_type": "code",
   "execution_count": 190,
   "metadata": {},
   "outputs": [
    {
     "data": {
      "text/plain": [
       "73"
      ]
     },
     "execution_count": 190,
     "metadata": {},
     "output_type": "execute_result"
    }
   ],
   "source": [
    "def min_cost_dp(C, X):\n",
    "    N = len(C)\n",
    "    dp = [sys.maxsize for _ in range(0, N)]\n",
    "    dp[0] = 0\n",
    "    for i in range(0, N):\n",
    "        for j in range(1, min(X, i) + 1):\n",
    "            dp[i] = min(dp[i], dp[i - j] + C[i])\n",
    "    return dp[N - 1]\n",
    "\n",
    "ret = min_cost_dp(C, X)\n",
    "ret"
   ]
  },
  {
   "cell_type": "code",
   "execution_count": 191,
   "metadata": {},
   "outputs": [
    {
     "name": "stdout",
     "output_type": "stream",
     "text": [
      "7 -> 5 -> 2 -> 0 -> "
     ]
    },
    {
     "data": {
      "text/plain": [
       "73"
      ]
     },
     "execution_count": 191,
     "metadata": {},
     "output_type": "execute_result"
    }
   ],
   "source": [
    "def min_cost_dp_reconstruct(C, X):\n",
    "    N = len(C)\n",
    "    dp = [sys.maxsize for _ in range(0, N)]\n",
    "    jump = [0 for _ in range(0, N)]\n",
    "    dp[0] = 0\n",
    "    \n",
    "    for i in range(0, N):\n",
    "        for j in range(1, min(X, i) + 1):\n",
    "            if dp[i - j] + C[i] < dp[i]:\n",
    "                dp[i] = dp[i - j] + C[i]\n",
    "                jump[i] = i - j\n",
    "    i = N - 1\n",
    "    print(str(i) + \" -> \", end='')\n",
    "    while i > 0:\n",
    "        i = jump[i]\n",
    "        print(str(i) + \" -> \", end='')\n",
    "    return dp[N - 1]\n",
    "\n",
    "min_cost_dp_reconstruct(C, X)"
   ]
  },
  {
   "cell_type": "code",
   "execution_count": 192,
   "metadata": {},
   "outputs": [
    {
     "data": {
      "text/plain": [
       "[0, 20, 30, 40, 25, 15, 20, 28]"
      ]
     },
     "execution_count": 192,
     "metadata": {},
     "output_type": "execute_result"
    }
   ],
   "source": [
    "C"
   ]
  },
  {
   "cell_type": "code",
   "execution_count": 193,
   "metadata": {},
   "outputs": [
    {
     "name": "stdout",
     "output_type": "stream",
     "text": [
      "2033628\n"
     ]
    }
   ],
   "source": [
    "## Word Break Problem: \n",
    "## How many ways a sentence can be broken into words from a dictionary\n",
    "## Countways(i,S,D) how many ways to extract words in dictionary D from substring 0 to index i of string S\n",
    "def count_ways(i, S, D):\n",
    "    ## if we are considering i=-1 we have empty string and we return 1 \n",
    "    if i == -1:\n",
    "        return 1\n",
    "    \n",
    "    count = 0\n",
    "    for j in range(i, -1, -1):  ## this is i,i-1,i-2,....0 \n",
    "        if S[j:i + 1] in D:\n",
    "            count += count_ways(j - 1, S, D)\n",
    "    return count\n",
    "\n",
    "S=\"aaaaaaaaaaaaaaaaaaaaaaa\"\n",
    "D={\"a\",\"aaa\",\"aa\",\"aaaa\"}\n",
    "N = len(S)\n",
    "\n",
    "ret = count_ways(N - 1, S, D)\n",
    "print(ret)\n"
   ]
  },
  {
   "cell_type": "code",
   "execution_count": 194,
   "metadata": {},
   "outputs": [
    {
     "name": "stdout",
     "output_type": "stream",
     "text": [
      "2033628\n"
     ]
    }
   ],
   "source": [
    "def count_ways_memo(i, S, D, cache):\n",
    "    if i == -1:\n",
    "        return 1\n",
    "    if cache[i] != -1:\n",
    "        return cache[i]\n",
    "    count = 0\n",
    "    for j in range(i, -1, -1):\n",
    "        if S[j:i + 1] in D:\n",
    "            count += count_ways_memo(j - 1, S, D,cache)\n",
    "    cache[i] = count\n",
    "    return count\n",
    "\n",
    "cache = [-1 for _ in range(0, N)]\n",
    "ret = count_ways_memo(N - 1, S, D, cache)\n",
    "print(ret)"
   ]
  },
  {
   "cell_type": "code",
   "execution_count": 208,
   "metadata": {},
   "outputs": [
    {
     "name": "stdout",
     "output_type": "stream",
     "text": [
      "2033628\n"
     ]
    }
   ],
   "source": [
    "def count_ways_dp(S, D):\n",
    "    N = len(S)\n",
    "    dp = [0 for _ in range(0, N + 1)]\n",
    "    dp[0] = 1\n",
    "    for i in range(1, N + 1): ## start from the small problems move all the way to N \n",
    "        ## i=1 corresponds to S[0]\n",
    "        for j in range(i, 0, -1):\n",
    "            if S[j-1:i] in D: ## we are considering substring from j to i-1 since i-1 same as i here due to the shift in dp \n",
    "                dp[i] += dp[j-1]\n",
    "    return dp[N]\n",
    "\n",
    "ret = count_ways_dp(S, D)\n",
    "print(ret)"
   ]
  },
  {
   "cell_type": "code",
   "execution_count": 218,
   "metadata": {},
   "outputs": [
    {
     "name": "stdout",
     "output_type": "stream",
     "text": [
      "187\n"
     ]
    }
   ],
   "source": [
    "## 2D dynamic Programming problems.\n",
    "def min_path(i, j, G):\n",
    "    ## Base Case to get to 0,0 from 0,0 min cost is 0! \n",
    "    if i == 0 and j == 0:\n",
    "        return 0\n",
    "    \n",
    "    min_cost = sys.maxsize\n",
    "    \n",
    "    if i > 0: ## At i,j I could move down\n",
    "        min_cost = min_path(i - 1, j, G) + G[i][j]\n",
    "    if j > 0: \n",
    "        min_cost = min(min_cost, min_path(i, j - 1, G) + G[i][j])\n",
    "\n",
    "    return min_cost\n",
    "\n",
    "M = 5\n",
    "G = [[0, 47, 8, 18, 1],\n",
    "     [43, 25, 39, 36, 13],\n",
    "     [22, 8, 13, 38, 46],\n",
    "     [41, 41, 40, 25, 44],\n",
    "     [29, 43, 22, 50, 10]]\n",
    "\n",
    "\n",
    "ret = min_path(M - 1, M - 1, G)\n",
    "print(ret)\n"
   ]
  },
  {
   "cell_type": "code",
   "execution_count": 224,
   "metadata": {},
   "outputs": [
    {
     "name": "stdout",
     "output_type": "stream",
     "text": [
      "187\n"
     ]
    }
   ],
   "source": [
    "## Memoization \n",
    "cache = [[0 for _ in range(0, M)] for _ in range(0, M)]\n",
    "\n",
    "def min_path_memo(i, j, G, cache):\n",
    "    if i == 0 and j == 0:\n",
    "        return 0\n",
    "    if cache[i][j] != 0:\n",
    "        return cache[i][j]\n",
    "\n",
    "    min_cost = sys.maxsize\n",
    "    if i > 0:\n",
    "        min_cost = min_path(i - 1, j, G) + G[i][j]\n",
    "    if j > 0:\n",
    "        min_cost = min(min_cost, min_path(i, j - 1, G) + G[i][j])\n",
    "    cache[i][j] = min_cost\n",
    "    return min_cost\n",
    "\n",
    "    \n",
    "ret = min_path_memo(M - 1, M - 1, G,cache)\n",
    "print(ret)\n"
   ]
  },
  {
   "cell_type": "code",
   "execution_count": 215,
   "metadata": {},
   "outputs": [
    {
     "data": {
      "text/plain": [
       "5"
      ]
     },
     "execution_count": 215,
     "metadata": {},
     "output_type": "execute_result"
    }
   ],
   "source": [
    "len(G)"
   ]
  },
  {
   "cell_type": "code",
   "execution_count": 232,
   "metadata": {},
   "outputs": [
    {
     "name": "stdout",
     "output_type": "stream",
     "text": [
      "[[0, 47, 55, 73, 74], [43, 68, 94, 109, 87], [65, 73, 86, 124, 133], [106, 114, 126, 149, 177], [135, 157, 148, 198, 187]]\n",
      "187\n"
     ]
    }
   ],
   "source": [
    "## dynamic Programming: \n",
    "def min_path_dp(G):\n",
    "    M=len(G)\n",
    "    dp=[[0 for i in range(M)] for j in range(M)]\n",
    "    dp[0][0]=0 \n",
    "    for i in range(0,M):\n",
    "        for j in range(0,M):\n",
    "            if i==0 and j==0:\n",
    "                continue\n",
    "                \n",
    "            dp[i][j] = sys.maxsize    ## needed for case where i=0 \n",
    "            \n",
    "            if i > 0:\n",
    "                dp[i][j] = dp[i - 1][j] + G[i][j]\n",
    "            if j > 0: ## for i=0 one has to move horizontally to the right as there are no other options\n",
    "                dp[i][j] = min(dp[i][j], dp[i][j - 1] + G[i][j])\n",
    "    print(dp)\n",
    "    return dp[M-1][M-1]\n",
    " \n",
    "ret = min_path_dp(G)\n",
    "print(ret)\n"
   ]
  },
  {
   "cell_type": "code",
   "execution_count": 233,
   "metadata": {},
   "outputs": [
    {
     "data": {
      "text/plain": [
       "[[0, 47, 8, 18, 1],\n",
       " [43, 25, 39, 36, 13],\n",
       " [22, 8, 13, 38, 46],\n",
       " [41, 41, 40, 25, 44],\n",
       " [29, 43, 22, 50, 10]]"
      ]
     },
     "execution_count": 233,
     "metadata": {},
     "output_type": "execute_result"
    }
   ],
   "source": [
    "G"
   ]
  },
  {
   "cell_type": "code",
   "execution_count": 235,
   "metadata": {},
   "outputs": [
    {
     "name": "stdout",
     "output_type": "stream",
     "text": [
      "(4,4)\n",
      "Up\n",
      "(3,4)\n",
      "Up\n",
      "(2,4)\n",
      "Up\n",
      "(1,4)\n",
      "Up\n",
      "(0,4)\n",
      "Left\n",
      "(0,3)\n",
      "Left\n",
      "(0,2)\n",
      "Left\n",
      "(0,1)\n",
      "Left\n",
      "187\n"
     ]
    }
   ],
   "source": [
    "def min_path_dp_reconstruct(G):\n",
    "    M = len(G)\n",
    "    dp = [[0 for _ in range(0, M)] for _ in range(0, M)]\n",
    "    dir = [[0 for _ in range(0, M)] for _ in range(0, M)]\n",
    "    \n",
    "    for i in range(0, M):\n",
    "        for j in range(0, M):\n",
    "            if i == 0 and j == 0:\n",
    "                continue\n",
    "            dp[i][j] = sys.maxsize\n",
    "            if i > 0:\n",
    "                dp[i][j] = dp[i - 1][j] + G[i][j]\n",
    "            if j > 0 and dp[i][j] > dp[i][j - 1] + G[i][j]:\n",
    "                dp[i][j] = dp[i][j - 1] + G[i][j]\n",
    "                dir[i][j] = 1\n",
    "\n",
    "    i = M - 1\n",
    "    j = M - 1\n",
    "    while i > 0 or j > 0:\n",
    "        print(\"(\"+(str(i) + \",\" + str(j))+\")\")\n",
    "        if dir[i][j] == 0:\n",
    "            print(\"Up\")\n",
    "            i -= 1\n",
    "        else:\n",
    "            print(\"Left\")\n",
    "            j -= 1\n",
    "    return dp[M - 1][M - 1]\n",
    "\n",
    "\n",
    "ret = min_path_dp_reconstruct(G)\n",
    "print(ret)\n"
   ]
  },
  {
   "cell_type": "code",
   "execution_count": 238,
   "metadata": {},
   "outputs": [
    {
     "name": "stdout",
     "output_type": "stream",
     "text": [
      "4\n"
     ]
    }
   ],
   "source": [
    "## Longest Common Subsequence\n",
    "\n",
    "## lcs(i,j...) matching string A starting 0 to i index to string B starting 0 to j \n",
    "\n",
    "\n",
    "def lcs(i, j, A, B):\n",
    "    ## Base case matching empty to non-empty string >> 0 \n",
    "    if i == -1 or j == -1:\n",
    "        return 0\n",
    "    ##\n",
    "    if A[i] == B[j]:\n",
    "        return lcs(i - 1, j - 1, A, B) + 1\n",
    "    else:\n",
    "        return max(lcs(i - 1, j, A, B), lcs(i, j - 1, A, B))\n",
    "    \n",
    "A = \"ACHEFMGLP\"\n",
    "B = \"XYCEPQMLG\"\n",
    "M = len(A)\n",
    "N = len(B)\n",
    "ret = lcs(M - 1, N - 1, A, B)\n",
    "print(ret) "
   ]
  },
  {
   "cell_type": "code",
   "execution_count": 241,
   "metadata": {},
   "outputs": [
    {
     "data": {
      "text/plain": [
       "4"
      ]
     },
     "execution_count": 241,
     "metadata": {},
     "output_type": "execute_result"
    }
   ],
   "source": [
    "## Memoization or top-down approach \n",
    "\n",
    "def lcs_memo(i, j, A, B, cache):\n",
    "    if i == -1 or j == -1:\n",
    "        return 0\n",
    "    if cache[i][j] != -1:\n",
    "        return cache[i][j]\n",
    "    if A[i] == B[j]:\n",
    "        cache[i][j] = lcs_memo(i - 1, j - 1, A, B, cache) + 1\n",
    "        return cache[i][j]\n",
    "    else:\n",
    "        cache[i][j] = max(lcs_memo(i - 1, j, A, B, cache), lcs_memo(i, j - 1, A, B, cache))\n",
    "        return cache[i][j]\n",
    "    \n",
    "cache = [[-1 for _ in range(0, N)] for _ in range(0, M)]\n",
    "ret = lcs_memo(M - 1, N - 1, A, B, cache)\n",
    "ret"
   ]
  },
  {
   "cell_type": "code",
   "execution_count": 242,
   "metadata": {},
   "outputs": [
    {
     "name": "stdout",
     "output_type": "stream",
     "text": [
      "4\n"
     ]
    }
   ],
   "source": [
    "## dynamic programming or bottom up approach: \n",
    "\n",
    "def lcs_dp(A, B):\n",
    "    M = len(A)\n",
    "    N = len(B)\n",
    "    dp = [[0 for _ in range(0, N + 1)] for _ in range(0, M + 1)]\n",
    "    for i in range(1, M + 1):\n",
    "        for j in range(1, N + 1):\n",
    "            if A[i - 1] == B[j - 1]:  ### Note that i represent A[i-1] and j represent B[j-1]\n",
    "                dp[i][j] = dp[i - 1][j - 1] + 1\n",
    "            else:\n",
    "                dp[i][j] = max(dp[i - 1][j], dp[i][j - 1])\n",
    "    return dp[M][N]\n",
    "ret = lcs_dp(A, B)\n",
    "print(ret)"
   ]
  },
  {
   "cell_type": "code",
   "execution_count": 244,
   "metadata": {},
   "outputs": [
    {
     "name": "stdout",
     "output_type": "stream",
     "text": [
      "2\n"
     ]
    }
   ],
   "source": [
    "## minimum deletions to make a string a palindrome \n",
    "## considering string from index i to index j (states)\n",
    "def min_deletions(i, j, S):\n",
    "    ## BaseCase i=j same character index no deletions necessary or i>j empty string! \n",
    "    if i >= j:\n",
    "        return 0\n",
    "    ## if character at i is = character at j slide pointers by one and reduce window size! \n",
    "    if S[i] == S[j]:\n",
    "        return min_deletions(i + 1, j - 1, S)\n",
    "    else: ## if character[i]!=character[j] try two alternatives by sliding i once and j once \n",
    "        return min(min_deletions(i + 1, j, S), min_deletions(i, j - 1, S)) + 1\n",
    "\n",
    "S = \"KAAKAZ\"\n",
    "N = len(S)\n",
    "ret = min_deletions(0, N - 1, S)\n",
    "print(ret)\n"
   ]
  },
  {
   "cell_type": "code",
   "execution_count": 245,
   "metadata": {},
   "outputs": [
    {
     "name": "stdout",
     "output_type": "stream",
     "text": [
      "2\n"
     ]
    }
   ],
   "source": [
    "def min_deletions_memo(i, j, S, cache):\n",
    "    if i >= j:\n",
    "        return 0\n",
    "    if cache[i][j] != -1:\n",
    "        return cache[i][j]\n",
    "    if S[i] == S[j]:\n",
    "        cache[i][j] = min_deletions_memo(i + 1, j - 1, S, cache)\n",
    "        return cache[i][j]\n",
    "    else:\n",
    "        cache[i][j] = min(min_deletions_memo(i + 1, j, S, cache), min_deletions_memo(i, j - 1, S, cache)) + 1\n",
    "        return cache[i][j]\n",
    "#######################################\n",
    "\n",
    "S = \"KAAKAZ\"\n",
    "N = len(S)\n",
    "cache = [[-1 for _ in range(0,N)] for i in range(0,N)]\n",
    "ret = min_deletions_memo(0, N - 1, S,cache)\n",
    "print(ret)\n"
   ]
  },
  {
   "cell_type": "code",
   "execution_count": 246,
   "metadata": {},
   "outputs": [
    {
     "name": "stdout",
     "output_type": "stream",
     "text": [
      "2\n"
     ]
    }
   ],
   "source": [
    "##Bottom-up approach: \n",
    "## since in the recurrence we have i+1 and j-1 we cannot use two loops for 1--N \n",
    "## we need to have left and bottom available to i,j so we can make a decision. \n",
    "## so we start at diagonal where i=j and window size=1 then move to the right where window size is 2...etc\n",
    "\n",
    "def min_deletions_dp(S):\n",
    "    N = len(S)\n",
    "    dp = [[0 for _ in range(0,N)] for _ in range(0,N)]\n",
    "    ## window size starting from l=1 all the way to N\n",
    "    for l in range(1,N+1):\n",
    "        for i in range(0,N-l+1): ## i should stop at the point where it leaves l behind (from i to N == l )\n",
    "            j = i+l-1\n",
    "            if i == j:\n",
    "                continue\n",
    "            if S[i] == S[j]:\n",
    "                dp[i][j] = dp[i+1][j-1]\n",
    "            else:\n",
    "                dp[i][j] = min(dp[i+1][j],dp[i][j-1])+1\n",
    "    return dp[0][N-1]\n",
    "ret = min_deletions_dp(S)\n",
    "print(ret)"
   ]
  },
  {
   "cell_type": "code",
   "execution_count": 253,
   "metadata": {},
   "outputs": [
    {
     "data": {
      "text/plain": [
       "3"
      ]
     },
     "execution_count": 253,
     "metadata": {},
     "output_type": "execute_result"
    }
   ],
   "source": [
    "## minimum edit distance between two strings \n",
    "def edit_distance(i, j, A, B):\n",
    "    if i == -1:\n",
    "        return j + 1\n",
    "    if j == -1:\n",
    "        return i + 1\n",
    "    \n",
    "    if A[i] == B[j]:\n",
    "        return edit_distance(i - 1, j - 1, A, B)\n",
    "    else:\n",
    "        opt1=edit_distance(i, j - 1, A, B) \n",
    "        opt2=edit_distance(i - 1, j - 1, A, B)\n",
    "        opt3= edit_distance(i - 1, j, A, B)\n",
    "        return min(opt1,opt2,opt3) + 1\n",
    "\n",
    "\n",
    "        \n",
    "    \n",
    "    \n",
    "A = \"kitten\"\n",
    "B = \"sitting\"\n",
    "M = len(A)\n",
    "N = len(B)\n",
    "ret = edit_distance(M-1, N-1, A, B)\n",
    "ret\n"
   ]
  },
  {
   "cell_type": "code",
   "execution_count": 255,
   "metadata": {},
   "outputs": [
    {
     "data": {
      "text/plain": [
       "3"
      ]
     },
     "execution_count": 255,
     "metadata": {},
     "output_type": "execute_result"
    }
   ],
   "source": [
    "def edit_distance2(i, j, A, B):\n",
    "    if i == -1:\n",
    "        return j + 1\n",
    "    if j == -1:\n",
    "        return i + 1\n",
    "    if A[i] == B[j]:\n",
    "        return edit_distance2(i - 1, j - 1, A, B)\n",
    "    else:\n",
    "        return min(edit_distance2(i, j - 1, A, B),\n",
    "                   min(edit_distance2(i - 1, j - 1, A, B),\n",
    "                       edit_distance2(i - 1, j, A, B))) + 1\n",
    "\n",
    "    \n",
    "ret = edit_distance2(M-1, N-1, A, B)\n",
    "ret\n"
   ]
  },
  {
   "cell_type": "code",
   "execution_count": 257,
   "metadata": {},
   "outputs": [],
   "source": [
    "def edit_distance(i, j, A, B):\n",
    "    if i == -1:\n",
    "        return j + 1\n",
    "    if j == -1:\n",
    "        return i + 1\n",
    "    if A[i] == B[j]:\n",
    "        return edit_distance(i - 1, j - 1, A, B)\n",
    "    else:\n",
    "        return min(edit_distance(i, j - 1, A, B),\n",
    "                   min(edit_distance(i - 1, j - 1, A, B),\n",
    "                       edit_distance(i - 1, j, A, B))) + 1\n",
    "\n",
    "\n",
    "def edit_distance_memo(i, j, A, B, cache):\n",
    "    if i == -1:\n",
    "        return j + 1\n",
    "    if j == -1:\n",
    "        return i + 1\n",
    "    if cache[i][j] != -1:\n",
    "        return cache[i][j]\n",
    "    if A[i] == B[j]:\n",
    "        cache[i][j] = edit_distance(i - 1, j - 1, A, B)\n",
    "        return cache[i][j]\n",
    "    else:\n",
    "        cache[i][j] = min(edit_distance_memo(i, j - 1, A, B, cache),\n",
    "                          min(edit_distance_memo(i - 1, j - 1, A, B, cache),\n",
    "                              edit_distance_memo(i - 1, j, A, B, cache))) + 1\n",
    "        return cache[i][j]\n",
    "\n",
    "\n",
    "def edit_distance_dp(A, B):\n",
    "    M = len(A)\n",
    "    N = len(B)\n",
    "    dp = [[0 for _ in range(0, N + 1)] for _ in range(0, M + 1)]\n",
    "    for i in range(0, M + 1):\n",
    "        for j in range(0, N + 1):\n",
    "            if i == 0:\n",
    "                dp[i][j] = j\n",
    "            elif j == 0:\n",
    "                dp[i][j] = i\n",
    "            elif A[i - 1] == B[j - 1]:\n",
    "                dp[i][j] = dp[i - 1][j - 1]\n",
    "            else:\n",
    "                dp[i][j] = min(dp[i - 1][j - 1], min(dp[i - 1][j], dp[i][j - 1])) + 1\n",
    "    return dp[M][N]\n"
   ]
  },
  {
   "cell_type": "code",
   "execution_count": 258,
   "metadata": {},
   "outputs": [
    {
     "name": "stdout",
     "output_type": "stream",
     "text": [
      "3\n",
      "3\n",
      "3\n"
     ]
    }
   ],
   "source": [
    "A = \"kitten\"\n",
    "B = \"sitting\"\n",
    "M = len(A)\n",
    "N = len(B)\n",
    "ret = edit_distance(M-1, N-1, A, B)\n",
    "print(ret)\n",
    "\n",
    "cache = [[-1 for _ in range(0, N + 1)] for _ in range(0, M + 1)]\n",
    "ret = edit_distance_memo(len(A)-1, len(B)-1, A, B, cache)\n",
    "print(ret)\n",
    "\n",
    "ret = edit_distance_dp(A, B)\n",
    "print(ret)\n"
   ]
  },
  {
   "cell_type": "code",
   "execution_count": 260,
   "metadata": {},
   "outputs": [
    {
     "name": "stdout",
     "output_type": "stream",
     "text": [
      "True\n",
      "True\n",
      "True\n"
     ]
    }
   ],
   "source": [
    "\n",
    "\n",
    "def matches(i, j, S, R):\n",
    "    \n",
    "    if (i == -1 and j == -1) or R[0:j + 1] == \"*\":\n",
    "        return True\n",
    "    \n",
    "    if i == -1 or j == -1:\n",
    "        return False\n",
    "    \n",
    "    if S[i] == R[j]:\n",
    "        return matches(i - 1, j - 1, S, R)\n",
    "    elif R[j] == '.':\n",
    "        return matches(i - 1, j - 1, S, R)\n",
    "    elif R[j] == '*':\n",
    "        return matches(i - 1, j, S, R) or matches(i, j - 1, S, R)\n",
    "    return False\n",
    "\n",
    "\n",
    "def matches_memo(i, j, S, R, cache):\n",
    "    if (i == -1 and j == -1) or R[0:j + 1] == \"*\":\n",
    "        return True\n",
    "    if i == -1 or j == -1:\n",
    "        return False\n",
    "    \n",
    "    if cache[i][j] is not None:\n",
    "        return cache[i][j]\n",
    "    \n",
    "    if S[i] == R[j]:\n",
    "        cache[i][j] = matches_memo(i - 1, j - 1, S, R, cache)\n",
    "        return cache[i][j]\n",
    "    elif R[j] == '.':\n",
    "        cache[i][j] = matches_memo(i - 1, j - 1, S, R, cache)\n",
    "        return cache[i][j]\n",
    "    elif R[j] == '*':\n",
    "        cache[i][j] = matches_memo(i - 1, j, S, R, cache) or \\\n",
    "                      matches_memo(i, j - 1, S, R, cache)\n",
    "        return cache[i][j]\n",
    "    return False\n",
    "\n",
    "\n",
    "def matches_dp(S, R):\n",
    "    M = len(S)\n",
    "    N = len(R)\n",
    "    dp = [[False for _ in range(N + 1)] for _ in range(0, M + 1)]\n",
    "    dp[0][0] = True\n",
    "    \n",
    "    for i in range(1, M + 1):\n",
    "        for j in range(1, N + 1):\n",
    "            if S[i - 1] == R[j - 1]:\n",
    "                dp[i][j] = dp[i - 1][j - 1]\n",
    "            elif R[j - 1] == '.':\n",
    "                dp[i][j] = dp[i - 1][j - 1]\n",
    "            elif R[j - 1] == '*':\n",
    "                dp[i][j] = dp[i - 1][j] or dp[i][j - 1]\n",
    "    return dp[M][N]\n",
    "\n",
    "\n",
    "# S = \"ABBBAC\"\n",
    "# R = \".*A*\"\n",
    "S = \"AAAAAAAAAAAAAAAAAAAAAAAAAAAAAAAAAAAAAAAAAA\"\n",
    "R = \".*AAAAAAA***A\"\n",
    "M = len(S)\n",
    "N = len(R)\n",
    "\n",
    "ret = matches(M-1, N-1, S, R)\n",
    "print(ret)\n",
    "\n",
    "cache = [[None for _ in range(0, N + 1)] for _ in range(0, M + 1)]\n",
    "ret = matches_memo(M-1, N-1, S, R, cache)\n",
    "print(ret)\n",
    "\n",
    "\n",
    "ret = matches_dp(S, R)\n",
    "\n",
    "print(ret)\n"
   ]
  },
  {
   "cell_type": "code",
   "execution_count": null,
   "metadata": {},
   "outputs": [],
   "source": []
  }
 ],
 "metadata": {
  "kernelspec": {
   "display_name": "Python 3",
   "language": "python",
   "name": "python3"
  },
  "language_info": {
   "codemirror_mode": {
    "name": "ipython",
    "version": 3
   },
   "file_extension": ".py",
   "mimetype": "text/x-python",
   "name": "python",
   "nbconvert_exporter": "python",
   "pygments_lexer": "ipython3",
   "version": "3.6.7"
  }
 },
 "nbformat": 4,
 "nbformat_minor": 2
}
