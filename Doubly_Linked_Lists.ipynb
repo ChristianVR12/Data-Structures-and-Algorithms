{
 "cells": [
  {
   "cell_type": "code",
   "execution_count": 1,
   "metadata": {},
   "outputs": [],
   "source": [
    "class Node(object):\n",
    "    def __init__(self,value):\n",
    "        self.info=value\n",
    "        self.prev=None\n",
    "        self.next=None"
   ]
  },
  {
   "cell_type": "code",
   "execution_count": 2,
   "metadata": {},
   "outputs": [],
   "source": [
    "class DoubleLinkedList(object):\n",
    "    def __init__(self):\n",
    "        self.start=None\n",
    "        \n",
    "    def display_list(self):\n",
    "        if self.start is None:\n",
    "            print(\"Empty List\")\n",
    "        else:\n",
    "            print(\"List is:  \")\n",
    "            p=self.start\n",
    "            while p is not None:\n",
    "                print(p.info,\" \",end='')\n",
    "                p=p.link\n",
    "                \n",
    "            print()\n",
    "    def insert_in_beginning(self,data):\n",
    "        temp=Node(data)\n",
    "        temp.next=self.start\n",
    "        self.start.prev=temp\n",
    "        self.start=temp\n",
    "    def insert_in_empty_list(self,data):\n",
    "        temp=Node(data)\n",
    "        self.start=temp\n",
    "    def insert_at_end(self,data):\n",
    "        temp=Node(data)\n",
    "        p=self.start\n",
    "        while p.next is not None:\n",
    "            p=p.next\n",
    "        p.next=temp\n",
    "        temp.prev=p\n",
    "        \n",
    "    def create_list(self):\n",
    "        n=int(input(\"Enter the number of nodes: \"))\n",
    "        if n==0: # Nothing to be done! \n",
    "            return \n",
    "        data=int(input(\"Enter First Element to be inserted\"))\n",
    "        self.insert_in_beginning(data)\n",
    "        \n",
    "        for i in range(n-1):\n",
    "            data=int(input(\"Enter Next Element to be inserted\"))\n",
    "            self.insert_at_end(data)\n",
    "        \n",
    "    def insert_after(self,data,x):\n",
    "        temp=Node(data)\n",
    "        p=self.start\n",
    "        \n",
    "        while p is not None:\n",
    "            if p.info==x:\n",
    "                break\n",
    "            p=p.link\n",
    "        # If x is not found \n",
    "        if p is None:\n",
    "            print(\" Element \",x, \"not found in the list\")\n",
    "        else: # Element found and now one needs to insert node\n",
    "            temp.prev=p\n",
    "            temp.next=p.next\n",
    "            if p.next is not None: \n",
    "                p.next.prev=temp\n",
    "            p.next=temp\n",
    "            \n",
    "            \n",
    "    "
   ]
  },
  {
   "cell_type": "code",
   "execution_count": null,
   "metadata": {},
   "outputs": [],
   "source": []
  }
 ],
 "metadata": {
  "kernelspec": {
   "display_name": "Python 3",
   "language": "python",
   "name": "python3"
  },
  "language_info": {
   "codemirror_mode": {
    "name": "ipython",
    "version": 3
   },
   "file_extension": ".py",
   "mimetype": "text/x-python",
   "name": "python",
   "nbconvert_exporter": "python",
   "pygments_lexer": "ipython3",
   "version": "3.6.4"
  }
 },
 "nbformat": 4,
 "nbformat_minor": 2
}
