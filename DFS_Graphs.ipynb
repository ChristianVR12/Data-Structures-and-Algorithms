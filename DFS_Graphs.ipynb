{
 "cells": [
  {
   "cell_type": "code",
   "execution_count": 131,
   "metadata": {},
   "outputs": [],
   "source": [
    "from IPython.display import Image"
   ]
  },
  {
   "cell_type": "code",
   "execution_count": 132,
   "metadata": {},
   "outputs": [],
   "source": [
    "initial_state=\"Initial\"\n",
    "visited_state=\"Visited\"\n",
    "finished_state=\"Finished\"\n",
    "\n",
    "class GraphNode(object):\n",
    "    def __init__(self, name,state):\n",
    "        self.name = name\n",
    "        self.state =state\n",
    "        self.children = []\n",
    "        self.predecessor=None\n",
    "        self.discoverytime=None\n",
    "        self.finishingtime=None\n",
    "        \n",
    "        \n",
    "    def display_node(self):\n",
    "        print(\"Node: \",self.name)\n",
    "        print(\"Adjacency List/Children \\n\",[i.name for i in self.children])\n",
    "         \n",
    "    def add_child(self,new_node):\n",
    "        self.children.append(new_node)\n",
    "    \n",
    "    def remove_child(self,del_node):\n",
    "        if del_node in self.children:\n",
    "            self.children.remove(del_node)"
   ]
  },
  {
   "cell_type": "markdown",
   "metadata": {},
   "source": [
    "## Directed Graph Traversal \n",
    "<img src=\"dfsgraph.png\",width=400, height=200>"
   ]
  },
  {
   "cell_type": "code",
   "execution_count": 133,
   "metadata": {},
   "outputs": [],
   "source": [
    "class DiGraph(object):\n",
    "    def __init__(self,node_list):\n",
    "        self.nodes = node_list\n",
    "        self.time=0\n",
    "        \n",
    "    def add_edge(self,node1,node2):\n",
    "        if(node1 in self.nodes and node2 in self.nodes):\n",
    "            node1.add_child(node2)\n",
    "            \n",
    "    def add_edge_list(self,node1,nodelist):\n",
    "        for i in nodelist:\n",
    "            if(node1 in self.nodes and i in self.nodes):\n",
    "                node1.add_child(i)\n",
    "\n",
    "            \n",
    "            \n",
    "    def remove_edge(self,node1,node2):\n",
    "        if(node1 in self.nodes and node2 in self.nodes):\n",
    "            node1.remove_child(node2)\n",
    "            \n",
    "    def dfs(self,node_start):\n",
    "        \"\"\" \"\"\"\n",
    "        qu=[]\n",
    "        qu.append(node_start)\n",
    "        \n",
    "        while qu:\n",
    "            v=qu.pop()\n",
    "            print(v.name)\n",
    "            v.state=visited_state\n",
    "            for u in v.children:\n",
    "                if u.state==initial_state:\n",
    "                    qu.append(u)\n",
    "                    u.predecessor=v\n",
    "                    \n",
    "    def dfs_all_recursive(self,node_start):\n",
    "        \"\"\" This method calls dfs if some of the nodes are not reachable from source node\"\"\"\n",
    "        self.time=0 \n",
    "        \n",
    "        for v in self.nodes:\n",
    "            v.state=initial_state\n",
    "        \n",
    "        print(\"Calling bfs from node\",node_start.name)  \n",
    "        self.dfs_recursive(node_start)\n",
    "        \n",
    "        for v in self.nodes:\n",
    "            if v.state==initial_state:\n",
    "                print(\"Calling bfs from node\",v.name)\n",
    "                self.dfs_recursive(v)\n",
    "                \n",
    "        for v in self.nodes:\n",
    "            print(\"Node \",v.name, \"Discovery Time\", v.discoverytime , \"Finishing Time \", v.finishingtime)\n",
    "            \n",
    "    def dfs_recursive(self,v):\n",
    "        \"\"\" \"\"\"\n",
    "        print(\"Node \",v.name , \" visited\")\n",
    "       \n",
    "        self.time+=1\n",
    "        v.discoverytime=self.time\n",
    "        \n",
    "        for u in v.children:\n",
    "            if u.state==initial_state:\n",
    "                self.dfs_recursive(u)\n",
    "                \n",
    "        v.state=finished_state\n",
    "        self.time+=1\n",
    "        v.finishingtime=self.time\n",
    "       \n",
    "\n",
    "                    \n",
    "    \n",
    "    def dfs_all(self,node_start):\n",
    "        \"\"\" This method calls dfs if some of the nodes are not reachable from source node\"\"\"\n",
    "        for v in self.nodes:\n",
    "            v.state=initial_state\n",
    "        \n",
    "        print(\"Calling bfs from node\",node_start.name)  \n",
    "        self.dfs(node_start)\n",
    "        \n",
    "        for v in self.nodes:\n",
    "            if v.state==initial_state:\n",
    "                print(\"Calling bfs from node\",v.name)\n",
    "                self.dfs(v)\n",
    "                    \n",
    "    def dfs_tree_edges(self,node_start):\n",
    "        \"\"\" DFS Spanning Tree\"\"\"\n",
    "        print(\"DFS Spanning tree edges\")\n",
    "        self.dfs_all(node_start)\n",
    "        for v in self.nodes:\n",
    "            if v.predecessor!=None:\n",
    "                print(\"Tree Edge \" ,v.predecessor.name , \">>\", v.name )\n",
    "        "
   ]
  },
  {
   "cell_type": "markdown",
   "metadata": {},
   "source": [
    "<img src=\"dfsgraph.png\",width=400, height=200>"
   ]
  },
  {
   "cell_type": "code",
   "execution_count": 134,
   "metadata": {},
   "outputs": [],
   "source": [
    "node0 = GraphNode(0,initial_state)\n",
    "node1 = GraphNode(1,initial_state)\n",
    "node2 = GraphNode(2,initial_state)\n",
    "node3 = GraphNode(3,initial_state)\n",
    "node4 = GraphNode(4,initial_state)\n",
    "node5 = GraphNode(5,initial_state)\n",
    "node6 = GraphNode(6,initial_state)\n",
    "node7 = GraphNode(7,initial_state)\n",
    "node8 = GraphNode(8,initial_state)\n",
    "node9 = GraphNode(9,initial_state)\n",
    "node10 = GraphNode(10,initial_state)\n",
    "node11 = GraphNode(11,initial_state)\n",
    "\n",
    "Vertex_list3=[node0,node1,node2,node3,node4,node5,node6,node7,node8,node9,node10,node11]\n",
    "\n",
    "graph3 = DiGraph(Vertex_list3) \n",
    "\n",
    "graph3.add_edge_list(node0,[node1,node3])\n",
    "graph3.add_edge_list(node1,[node2,node5,node4])\n",
    "graph3.add_edge_list(node2,[node5,node7])\n",
    "graph3.add_edge_list(node3,[node6])\n",
    "graph3.add_edge_list(node4,[node3])\n",
    "graph3.add_edge_list(node5,[node3,node6,node8])\n",
    "graph3.add_edge_list(node7,[node8,node10])\n",
    "graph3.add_edge_list(node8,[node11])\n",
    "graph3.add_edge_list(node9,[node6])\n",
    "graph3.add_edge_list(node11,[node9])\n",
    "\n",
    "\n"
   ]
  },
  {
   "cell_type": "code",
   "execution_count": 135,
   "metadata": {},
   "outputs": [
    {
     "name": "stdout",
     "output_type": "stream",
     "text": [
      "Node:  0\n",
      "Adjacency List/Children \n",
      " [1, 3]\n",
      "Node:  1\n",
      "Adjacency List/Children \n",
      " [2, 5, 4]\n",
      "Node:  2\n",
      "Adjacency List/Children \n",
      " [5, 7]\n",
      "Node:  3\n",
      "Adjacency List/Children \n",
      " [6]\n",
      "Node:  4\n",
      "Adjacency List/Children \n",
      " [3]\n",
      "Node:  5\n",
      "Adjacency List/Children \n",
      " [3, 6, 8]\n",
      "Node:  6\n",
      "Adjacency List/Children \n",
      " []\n",
      "Node:  7\n",
      "Adjacency List/Children \n",
      " [8, 10]\n",
      "Node:  8\n",
      "Adjacency List/Children \n",
      " [11]\n",
      "Node:  9\n",
      "Adjacency List/Children \n",
      " [6]\n",
      "Node:  10\n",
      "Adjacency List/Children \n",
      " []\n",
      "Node:  11\n",
      "Adjacency List/Children \n",
      " [9]\n"
     ]
    }
   ],
   "source": [
    "for i in Vertex_list3:\n",
    "    i.display_node()"
   ]
  },
  {
   "cell_type": "markdown",
   "metadata": {},
   "source": [
    "<img src=\"dfsgraph.png\",width=400, height=200>"
   ]
  },
  {
   "cell_type": "code",
   "execution_count": 136,
   "metadata": {},
   "outputs": [
    {
     "name": "stdout",
     "output_type": "stream",
     "text": [
      "Demo of depth first traversal\n",
      "0\n",
      "3\n",
      "6\n",
      "1\n",
      "4\n",
      "5\n",
      "8\n",
      "11\n",
      "9\n",
      "2\n",
      "7\n",
      "10\n"
     ]
    }
   ],
   "source": [
    "print(\"Demo of depth first traversal\")\n",
    "graph3.dfs(node0)"
   ]
  },
  {
   "cell_type": "markdown",
   "metadata": {},
   "source": [
    "<img src=\"dfsgraph.png\",width=400, height=200>"
   ]
  },
  {
   "cell_type": "code",
   "execution_count": 137,
   "metadata": {},
   "outputs": [
    {
     "name": "stdout",
     "output_type": "stream",
     "text": [
      "Calling bfs from node 2\n",
      "2\n",
      "7\n",
      "10\n",
      "8\n",
      "11\n",
      "9\n",
      "6\n",
      "5\n",
      "3\n",
      "Calling bfs from node 0\n",
      "0\n",
      "1\n",
      "4\n"
     ]
    }
   ],
   "source": [
    "graph3.dfs_all(node2)"
   ]
  },
  {
   "cell_type": "code",
   "execution_count": 138,
   "metadata": {
    "scrolled": false
   },
   "outputs": [
    {
     "name": "stdout",
     "output_type": "stream",
     "text": [
      "DFS Spanning tree edges\n",
      "Calling bfs from node 0\n",
      "0\n",
      "3\n",
      "6\n",
      "1\n",
      "4\n",
      "5\n",
      "8\n",
      "11\n",
      "9\n",
      "2\n",
      "7\n",
      "10\n",
      "Tree Edge  0 >> 1\n",
      "Tree Edge  1 >> 2\n",
      "Tree Edge  0 >> 3\n",
      "Tree Edge  1 >> 4\n",
      "Tree Edge  1 >> 5\n",
      "Tree Edge  3 >> 6\n",
      "Tree Edge  2 >> 7\n",
      "Tree Edge  5 >> 8\n",
      "Tree Edge  11 >> 9\n",
      "Tree Edge  7 >> 10\n",
      "Tree Edge  8 >> 11\n"
     ]
    }
   ],
   "source": [
    "graph3.dfs_tree_edges(node0)"
   ]
  },
  {
   "cell_type": "markdown",
   "metadata": {},
   "source": [
    "<img src=\"dfsgraph.png\",width=400, height=200>"
   ]
  },
  {
   "cell_type": "code",
   "execution_count": 139,
   "metadata": {},
   "outputs": [
    {
     "name": "stdout",
     "output_type": "stream",
     "text": [
      "Calling bfs from node 0\n",
      "Node  0  visited\n",
      "Node  1  visited\n",
      "Node  2  visited\n",
      "Node  5  visited\n",
      "Node  3  visited\n",
      "Node  6  visited\n",
      "Node  8  visited\n",
      "Node  11  visited\n",
      "Node  9  visited\n",
      "Node  7  visited\n",
      "Node  10  visited\n",
      "Node  4  visited\n",
      "Node  0 Discovery Time 1 Finishing Time  24\n",
      "Node  1 Discovery Time 2 Finishing Time  23\n",
      "Node  2 Discovery Time 3 Finishing Time  20\n",
      "Node  3 Discovery Time 5 Finishing Time  8\n",
      "Node  4 Discovery Time 21 Finishing Time  22\n",
      "Node  5 Discovery Time 4 Finishing Time  15\n",
      "Node  6 Discovery Time 6 Finishing Time  7\n",
      "Node  7 Discovery Time 16 Finishing Time  19\n",
      "Node  8 Discovery Time 9 Finishing Time  14\n",
      "Node  9 Discovery Time 11 Finishing Time  12\n",
      "Node  10 Discovery Time 17 Finishing Time  18\n",
      "Node  11 Discovery Time 10 Finishing Time  13\n"
     ]
    }
   ],
   "source": [
    "graph3.dfs_all_recursive(node0)"
   ]
  },
  {
   "cell_type": "code",
   "execution_count": 140,
   "metadata": {},
   "outputs": [
    {
     "name": "stdout",
     "output_type": "stream",
     "text": [
      "Calling bfs from node 4\n",
      "Node  4  visited\n",
      "Node  3  visited\n",
      "Node  6  visited\n",
      "Calling bfs from node 0\n",
      "Node  0  visited\n",
      "Node  1  visited\n",
      "Node  2  visited\n",
      "Node  5  visited\n",
      "Node  8  visited\n",
      "Node  11  visited\n",
      "Node  9  visited\n",
      "Node  7  visited\n",
      "Node  10  visited\n",
      "Node  0 Discovery Time 7 Finishing Time  24\n",
      "Node  1 Discovery Time 8 Finishing Time  23\n",
      "Node  2 Discovery Time 9 Finishing Time  22\n",
      "Node  3 Discovery Time 2 Finishing Time  5\n",
      "Node  4 Discovery Time 1 Finishing Time  6\n",
      "Node  5 Discovery Time 10 Finishing Time  17\n",
      "Node  6 Discovery Time 3 Finishing Time  4\n",
      "Node  7 Discovery Time 18 Finishing Time  21\n",
      "Node  8 Discovery Time 11 Finishing Time  16\n",
      "Node  9 Discovery Time 13 Finishing Time  14\n",
      "Node  10 Discovery Time 19 Finishing Time  20\n",
      "Node  11 Discovery Time 12 Finishing Time  15\n"
     ]
    }
   ],
   "source": [
    "graph3.dfs_all_recursive(node4)"
   ]
  },
  {
   "cell_type": "code",
   "execution_count": null,
   "metadata": {},
   "outputs": [],
   "source": []
  }
 ],
 "metadata": {
  "kernelspec": {
   "display_name": "Python 3",
   "language": "python",
   "name": "python3"
  },
  "language_info": {
   "codemirror_mode": {
    "name": "ipython",
    "version": 3
   },
   "file_extension": ".py",
   "mimetype": "text/x-python",
   "name": "python",
   "nbconvert_exporter": "python",
   "pygments_lexer": "ipython3",
   "version": "3.6.7"
  }
 },
 "nbformat": 4,
 "nbformat_minor": 2
}
