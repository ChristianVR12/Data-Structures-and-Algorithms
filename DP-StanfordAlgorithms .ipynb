{
 "cells": [
  {
   "cell_type": "code",
   "execution_count": 78,
   "metadata": {},
   "outputs": [],
   "source": [
    "## Maximum Weight independed subsets WIS or a path graph\n",
    "## Data from https://github.com/EricMFischer/max-weight-independent-set-of-path-graph-algo \n",
    "\n",
    "f='./MaxWIS/max_wt_ind_set_of_path_graph.txt' ## Big Data Set 1000 vertexes\n",
    "#f='./MaxWIS/max_wt_ind_set_of_path_graph_ex.txt'\n",
    "\n",
    "def read_path_graph(f):\n",
    "    with open(f) as f_handle:\n",
    "        line = int(f_handle.readline())\n",
    "        NUM_NODES=line\n",
    "        G=list()\n",
    "        while line:\n",
    "            line=f_handle.readline()\n",
    "            num=line[:-1]\n",
    "            if len(num)>0:\n",
    "                G.append(int(num))\n",
    "    return G \n",
    "\n",
    "## G contains the path graph nodes represented by their values \n",
    "G=read_path_graph(f)"
   ]
  },
  {
   "cell_type": "code",
   "execution_count": 32,
   "metadata": {
    "scrolled": true
   },
   "outputs": [
    {
     "data": {
      "text/plain": [
       "2617"
      ]
     },
     "execution_count": 32,
     "metadata": {},
     "output_type": "execute_result"
    }
   ],
   "source": [
    "## Recursive Solution \n",
    "### when you have a graph Gi with MWSI it may or may not have vn (last vertex)\n",
    "## if it contains vn it cannot contain vn-1 and solution is weight of vn + MAXWIS(G'') where G'' does not have either \n",
    "## vn or vn-1. Other possibility is do not include vn in that case solution is = MAXWWIS(G') which does not include vn\n",
    "# (one vertex less)\n",
    "## Solution for the smaller dataset with 10 nodes is A=[0, 280, 618, 1042, 1526, 1526, 1560, 1838, 1838, 2084, 2617]\n",
    "## so answer for the full path graph in this case = 2617 \n",
    "## Using Recursion the long graph problem takes for ever so had to stop it after 40 minutes! \n",
    "\n",
    "def maxwis(grp):\n",
    "    ## Base case\n",
    "    if len(grp)==1: ## single vertex\n",
    "        return grp[0]\n",
    "    if len(grp) <=0: ## empty path graph \n",
    "        return 0 \n",
    "    \n",
    "    option1=maxwis(grp[:-1])\n",
    "    option2=grp[-1]+maxwis(grp[:-2])\n",
    "    \n",
    "    return max(option1,option2)\n",
    "maxwis(G)"
   ]
  },
  {
   "cell_type": "code",
   "execution_count": 54,
   "metadata": {},
   "outputs": [
    {
     "data": {
      "text/plain": [
       "[4962786, 6395702, 5601590, 3803402, 6784626]"
      ]
     },
     "execution_count": 54,
     "metadata": {},
     "output_type": "execute_result"
    }
   ],
   "source": [
    "G[0:5]"
   ]
  },
  {
   "cell_type": "code",
   "execution_count": 79,
   "metadata": {},
   "outputs": [
    {
     "data": {
      "text/plain": [
       "2955353732"
      ]
     },
     "execution_count": 79,
     "metadata": {},
     "output_type": "execute_result"
    }
   ],
   "source": [
    "## Top-down /memoization approach: Takes no time for the big graph! 2955353732\n",
    "G=read_path_graph(f)\n",
    "G.insert(0,0) ## Add 0 size graph to the G list at the front! \n",
    "\n",
    "A=[-1]*(len(G)) \n",
    "A[0]=0 \n",
    "A[1]=G[1]\n",
    "\n",
    "def maxwis_td(idx,grp):\n",
    "    global A \n",
    "    ## Base case\n",
    "    if len(grp)==1: ## single vertex\n",
    "        return grp[0]\n",
    "    if len(grp) <=0: ## empty path graph \n",
    "        return 0 \n",
    "    \n",
    "    if A[idx]!=-1:\n",
    "        return A[idx]\n",
    "    \n",
    "    option1=maxwis_td(idx-1,grp[:-1])\n",
    "    option2=grp[-1]+maxwis_td(idx-2, grp[:-2])\n",
    "    \n",
    "    A[idx]= max(option1,option2)\n",
    "    \n",
    "    return A[idx]\n",
    "\n",
    "n=len(G)\n",
    "\n",
    "maxwis_td(n-1,G)"
   ]
  },
  {
   "cell_type": "code",
   "execution_count": 81,
   "metadata": {},
   "outputs": [
    {
     "data": {
      "text/plain": [
       "([0, 4962786, 6395702, 10564376], 2955353732)"
      ]
     },
     "execution_count": 81,
     "metadata": {},
     "output_type": "execute_result"
    }
   ],
   "source": [
    "A[0:4], A[-1]"
   ]
  },
  {
   "cell_type": "code",
   "execution_count": 73,
   "metadata": {},
   "outputs": [],
   "source": [
    "## Bottom-up approach"
   ]
  },
  {
   "cell_type": "code",
   "execution_count": 83,
   "metadata": {},
   "outputs": [
    {
     "data": {
      "text/plain": [
       "2955353732"
      ]
     },
     "execution_count": 83,
     "metadata": {},
     "output_type": "execute_result"
    }
   ],
   "source": [
    "G=read_path_graph(f)\n",
    "G.insert(0,0) ## Add 0 size graph to the G list at the front! \n",
    "\n",
    "A=[-1]*(len(G)) \n",
    "A[0]=0 \n",
    "A[1]=G[1]\n",
    "\n",
    "def maxwis_bu(grp):\n",
    "    global A \n",
    "    for i in range(2, len(grp)):\n",
    "        A[i]=max(A[i-1], A[i-2]+grp[i])\n",
    "    return A[-1]\n",
    "\n",
    "\n",
    "maxwis_bu(G)\n"
   ]
  },
  {
   "cell_type": "code",
   "execution_count": 84,
   "metadata": {},
   "outputs": [
    {
     "data": {
      "text/plain": [
       "([0, 4962786, 6395702, 10564376], 2955353732)"
      ]
     },
     "execution_count": 84,
     "metadata": {},
     "output_type": "execute_result"
    }
   ],
   "source": [
    "A[0:4], A[-1]"
   ]
  },
  {
   "cell_type": "code",
   "execution_count": null,
   "metadata": {},
   "outputs": [],
   "source": []
  }
 ],
 "metadata": {
  "kernelspec": {
   "display_name": "Python 3",
   "language": "python",
   "name": "python3"
  }
 },
 "nbformat": 4,
 "nbformat_minor": 2
}
