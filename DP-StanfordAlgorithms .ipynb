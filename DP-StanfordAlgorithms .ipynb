{
 "cells": [
  {
   "cell_type": "code",
   "execution_count": 18,
   "metadata": {},
   "outputs": [],
   "source": [
    "## Maximum Weight independed subsets WIS or a path graph\n",
    "## Data from https://github.com/EricMFischer/max-weight-independent-set-of-path-graph-algo \n",
    "\n",
    "##f='./MaxWIS/max_wt_ind_set_of_path_graph.txt'\n",
    "f='./MaxWIS/max_wt_ind_set_of_path_graph_ex.txt'\n",
    "with open(f) as f_handle:\n",
    "    line = int(f_handle.readline())\n",
    "    NUM_NODES=line\n",
    "    G=list()\n",
    "    while line:\n",
    "        line=f_handle.readline()\n",
    "        num=line[:-1]\n",
    "        if len(num)>0:\n",
    "            G.append(int(num))\n",
    "        \n",
    "## G contains the path graph nodes represented by their values \n"
   ]
  },
  {
   "cell_type": "code",
   "execution_count": 19,
   "metadata": {
    "scrolled": false
   },
   "outputs": [
    {
     "data": {
      "text/plain": [
       "2617"
      ]
     },
     "execution_count": 19,
     "metadata": {},
     "output_type": "execute_result"
    }
   ],
   "source": [
    "## Recursive Solution \n",
    "### when you have a graph Gi with MWSI it may or may not have vn (last vertex)\n",
    "## if it contains vn it cannot contain vn-1 and solution is weight of vn + MAXWIS(G'') where G'' does not have either \n",
    "## vn or vn-1. Other possibility is do not include vn in that case solution is = MAXWWIS(G') which does not include vn\n",
    "# (one vertex less)\n",
    "## Solution is A=[0, 280, 618, 1042, 1526, 1526, 1560, 1838, 1838, 2084, 2617]\n",
    "## so answer for the full path graph = 2617 \n",
    "\n",
    "def maxwis(grp):\n",
    "    ## Base case\n",
    "    if len(grp)==1: ## single vertex\n",
    "        return grp[0]\n",
    "    if len(grp) <=0: ## empty path graph \n",
    "        return 0 \n",
    "    \n",
    "    option1=maxwis(grp[:-1])\n",
    "    option2=grp[-1]+maxwis(grp[:-2])\n",
    "    \n",
    "    return max(option1,option2)\n",
    "maxwis(G)"
   ]
  },
  {
   "cell_type": "code",
   "execution_count": null,
   "metadata": {},
   "outputs": [],
   "source": []
  }
 ],
 "metadata": {
  "kernelspec": {
   "display_name": "Python 3",
   "language": "python",
   "name": "python3"
  },
  "language_info": {
   "codemirror_mode": {
    "name": "ipython",
    "version": 3
   },
   "file_extension": ".py",
   "mimetype": "text/x-python",
   "name": "python",
   "nbconvert_exporter": "python",
   "pygments_lexer": "ipython3",
   "version": "3.6.7"
  }
 },
 "nbformat": 4,
 "nbformat_minor": 2
}
