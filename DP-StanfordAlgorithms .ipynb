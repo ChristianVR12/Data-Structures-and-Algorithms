{
 "cells": [
  {
   "cell_type": "code",
   "execution_count": 78,
   "metadata": {},
   "outputs": [],
   "source": [
    "## Maximum Weight independed subsets WIS or a path graph\n",
    "## Data from https://github.com/EricMFischer/max-weight-independent-set-of-path-graph-algo \n",
    "\n",
    "f='./MaxWIS/max_wt_ind_set_of_path_graph.txt' ## Big Data Set 1000 vertexes\n",
    "#f='./MaxWIS/max_wt_ind_set_of_path_graph_ex.txt'\n",
    "\n",
    "def read_path_graph(f):\n",
    "    with open(f) as f_handle:\n",
    "        line = int(f_handle.readline())\n",
    "        NUM_NODES=line\n",
    "        G=list()\n",
    "        while line:\n",
    "            line=f_handle.readline()\n",
    "            num=line[:-1]\n",
    "            if len(num)>0:\n",
    "                G.append(int(num))\n",
    "    return G \n",
    "\n",
    "## G contains the path graph nodes represented by their values \n",
    "G=read_path_graph(f)"
   ]
  },
  {
   "cell_type": "code",
   "execution_count": 32,
   "metadata": {
    "scrolled": true
   },
   "outputs": [
    {
     "data": {
      "text/plain": [
       "2617"
      ]
     },
     "execution_count": 32,
     "metadata": {},
     "output_type": "execute_result"
    }
   ],
   "source": [
    "## Recursive Solution \n",
    "### when you have a graph Gi with MWSI it may or may not have vn (last vertex)\n",
    "## if it contains vn it cannot contain vn-1 and solution is weight of vn + MAXWIS(G'') where G'' does not have either \n",
    "## vn or vn-1. Other possibility is do not include vn in that case solution is = MAXWWIS(G') which does not include vn\n",
    "# (one vertex less)\n",
    "## Solution for the smaller dataset with 10 nodes is A=[0, 280, 618, 1042, 1526, 1526, 1560, 1838, 1838, 2084, 2617]\n",
    "## so answer for the full path graph in this case = 2617 \n",
    "## Using Recursion the long graph problem takes for ever so had to stop it after 40 minutes! \n",
    "\n",
    "def maxwis(grp):\n",
    "    ## Base case\n",
    "    if len(grp)==1: ## single vertex\n",
    "        return grp[0]\n",
    "    if len(grp) <=0: ## empty path graph \n",
    "        return 0 \n",
    "    \n",
    "    option1=maxwis(grp[:-1])\n",
    "    option2=grp[-1]+maxwis(grp[:-2])\n",
    "    \n",
    "    return max(option1,option2)\n",
    "maxwis(G)"
   ]
  },
  {
   "cell_type": "code",
   "execution_count": 54,
   "metadata": {},
   "outputs": [
    {
     "data": {
      "text/plain": [
       "[4962786, 6395702, 5601590, 3803402, 6784626]"
      ]
     },
     "execution_count": 54,
     "metadata": {},
     "output_type": "execute_result"
    }
   ],
   "source": [
    "G[0:5]"
   ]
  },
  {
   "cell_type": "code",
   "execution_count": 79,
   "metadata": {},
   "outputs": [
    {
     "data": {
      "text/plain": [
       "2955353732"
      ]
     },
     "execution_count": 79,
     "metadata": {},
     "output_type": "execute_result"
    }
   ],
   "source": [
    "## Top-down /memoization approach: Takes no time for the big graph! 2955353732\n",
    "G=read_path_graph(f)\n",
    "G.insert(0,0) ## Add 0 size graph to the G list at the front! \n",
    "\n",
    "A=[-1]*(len(G)) \n",
    "A[0]=0 \n",
    "A[1]=G[1]\n",
    "\n",
    "def maxwis_td(idx,grp):\n",
    "    global A \n",
    "    ## Base case\n",
    "    if len(grp)==1: ## single vertex\n",
    "        return grp[0]\n",
    "    if len(grp) <=0: ## empty path graph \n",
    "        return 0 \n",
    "    \n",
    "    if A[idx]!=-1:\n",
    "        return A[idx]\n",
    "    \n",
    "    option1=maxwis_td(idx-1,grp[:-1])\n",
    "    option2=grp[-1]+maxwis_td(idx-2, grp[:-2])\n",
    "    \n",
    "    A[idx]= max(option1,option2)\n",
    "    \n",
    "    return A[idx]\n",
    "\n",
    "n=len(G)\n",
    "\n",
    "maxwis_td(n-1,G)"
   ]
  },
  {
   "cell_type": "code",
   "execution_count": 81,
   "metadata": {},
   "outputs": [
    {
     "data": {
      "text/plain": [
       "([0, 4962786, 6395702, 10564376], 2955353732)"
      ]
     },
     "execution_count": 81,
     "metadata": {},
     "output_type": "execute_result"
    }
   ],
   "source": [
    "A[0:4], A[-1]"
   ]
  },
  {
   "cell_type": "code",
   "execution_count": 73,
   "metadata": {},
   "outputs": [],
   "source": [
    "## Bottom-up approach"
   ]
  },
  {
   "cell_type": "code",
   "execution_count": 83,
   "metadata": {},
   "outputs": [
    {
     "data": {
      "text/plain": [
       "2955353732"
      ]
     },
     "execution_count": 83,
     "metadata": {},
     "output_type": "execute_result"
    }
   ],
   "source": [
    "G=read_path_graph(f)\n",
    "G.insert(0,0) ## Add 0 size graph to the G list at the front! \n",
    "\n",
    "A=[-1]*(len(G)) \n",
    "A[0]=0 \n",
    "A[1]=G[1]\n",
    "\n",
    "def maxwis_bu(grp):\n",
    "    global A \n",
    "    for i in range(2, len(grp)):\n",
    "        A[i]=max(A[i-1], A[i-2]+grp[i])\n",
    "    return A[-1]\n",
    "\n",
    "\n",
    "maxwis_bu(G)\n"
   ]
  },
  {
   "cell_type": "code",
   "execution_count": 84,
   "metadata": {},
   "outputs": [
    {
     "data": {
      "text/plain": [
       "([0, 4962786, 6395702, 10564376], 2955353732)"
      ]
     },
     "execution_count": 84,
     "metadata": {},
     "output_type": "execute_result"
    }
   ],
   "source": [
    "A[0:4], A[-1]"
   ]
  },
  {
   "cell_type": "code",
   "execution_count": 95,
   "metadata": {
    "scrolled": true
   },
   "outputs": [
    {
     "name": "stdout",
     "output_type": "stream",
     "text": [
      "MWIS:  [1, 3, 5, 8, 10, 13, 15, 18, 20, 22, 24, 26, 28, 31, 33, 36, 38, 40, 42, 44, 46, 48, 50, 52, 54, 56, 58, 60, 62, 64, 66, 69, 72, 75, 77, 79, 81, 83, 85, 88, 90, 92, 94, 96, 98, 100, 103, 106, 108, 110, 112, 115, 117, 120, 122, 124, 126, 128, 131, 133, 136, 139, 141, 143, 145, 147, 149, 151, 153, 155, 157, 160, 162, 164, 166, 168, 170, 173, 175, 177, 179, 181, 183, 185, 187, 190, 193, 195, 197, 199, 201, 203, 205, 207, 209, 211, 214, 216, 218, 221, 223, 226, 228, 230, 232, 234, 236, 238, 240, 243, 245, 247, 249, 252, 254, 256, 258, 261, 263, 265, 267, 269, 271, 273, 275, 277, 279, 281, 283, 285, 287, 289, 292, 294, 296, 298, 300, 302, 304, 306, 308, 310, 312, 314, 316, 318, 321, 323, 325, 327, 329, 331, 333, 335, 337, 339, 341, 343, 345, 347, 349, 351, 353, 355, 357, 359, 361, 363, 365, 367, 369, 371, 373, 375, 377, 379, 381, 383, 385, 387, 389, 391, 393, 395, 397, 399, 402, 404, 406, 408, 410, 413, 415, 417, 420, 422, 425, 427, 429, 431, 433, 435, 437, 439, 441, 443, 445, 447, 449, 451, 454, 456, 458, 460, 462, 464, 466, 468, 470, 472, 474, 476, 478, 481, 483, 485, 488, 490, 492, 494, 496, 498, 500, 503, 505, 508, 510, 512, 514, 517, 519, 521, 523, 525, 527, 529, 531, 534, 537, 539, 541, 543, 545, 548, 550, 552, 554, 556, 558, 560, 563, 566, 569, 571, 573, 575, 577, 579, 581, 584, 586, 588, 590, 592, 594, 596, 598, 600, 602, 604, 606, 608, 610, 613, 615, 617, 619, 621, 623, 625, 628, 630, 632, 634, 637, 639, 641, 643, 645, 647, 649, 652, 654, 656, 658, 660, 662, 664, 666, 669, 671, 673, 676, 679, 682, 684, 686, 688, 690, 692, 695, 697, 699, 702, 704, 706, 708, 710, 713, 715, 717, 719, 721, 723, 726, 728, 730, 733, 735, 737, 739, 741, 743, 745, 748, 750, 752, 755, 757, 760, 763, 766, 768, 770, 772, 774, 776, 778, 781, 784, 786, 788, 790, 793, 795, 797, 799, 801, 803, 806, 809, 812, 814, 816, 819, 821, 823, 825, 827, 829, 832, 834, 837, 839, 841, 843, 846, 849, 851, 853, 855, 857, 859, 861, 864, 866, 868, 871, 873, 876, 878, 880, 882, 884, 886, 888, 890, 892, 894, 896, 898, 900, 903, 905, 907, 909, 911, 913, 915, 917, 919, 921, 924, 927, 929, 932, 934, 936, 938, 940, 942, 944, 946, 948, 950, 952, 954, 956, 958, 960, 962, 964, 966, 969, 971, 973, 975, 977, 979, 981, 983, 985, 987, 989, 991, 993, 995, 998, 1000]\n"
     ]
    }
   ],
   "source": [
    "## Reconstructing the Graph:\n",
    "## Now what is the path leading to the max wis ?\n",
    "## use A and G to reconstruct the path starting from the very left\n",
    "def reconstruct_mwis_path(G,A):\n",
    "   \n",
    "        i=len(A)-1 \n",
    "        path=list()\n",
    "        \n",
    "        while i > 0:\n",
    "            if A[i-1] > A[i-2]+G[i]:\n",
    "                i=i-1\n",
    "            else:\n",
    "                path.append(i)\n",
    "                i=i-2 \n",
    "        return path[::-1]\n",
    "    \n",
    "print('MWIS: ', reconstruct_mwis_path(G,A)) \n",
    "    "
   ]
  },
  {
   "cell_type": "code",
   "execution_count": 161,
   "metadata": {},
   "outputs": [],
   "source": [
    "# n represent the state or size or last index \n",
    "def knap_sack(capacity , wt , val , n): \n",
    "    # Base Case \n",
    "    ## if no items to be picked or capacity = 0 \n",
    "    if n == 0 or capacity == 0 : \n",
    "        return 0\n",
    "  \n",
    "    option1 = knapSack(capacity , wt , val , n-1) ## item not included \n",
    "    \n",
    "    if (wt[n-1] < capacity): \n",
    "        option2=val[n-1] + knapSack(capacity-wt[n-1] , wt , val , n-1)\n",
    "        return max(option1,option2)\n",
    "\n",
    "    return option1\n",
    "  "
   ]
  },
  {
   "cell_type": "code",
   "execution_count": 198,
   "metadata": {},
   "outputs": [
    {
     "name": "stdout",
     "output_type": "stream",
     "text": [
      "8\n",
      "220\n"
     ]
    }
   ],
   "source": [
    "## Kn\n",
    "#knapSack Problem:\n",
    "##(1) Recursive solutio\n",
    "val = [3,2,4,4] \n",
    "wt = [4, 3, 2 , 3] \n",
    "W = 6\n",
    "n = len(val) \n",
    "print(knap_sack(W , wt , val,4))\n",
    "  \n",
    "# This code is contributed by Nikhil Kumar Singh \n",
    "val = [60, 100, 120] \n",
    "wt = [10, 20, 30] \n",
    "W = 50\n",
    "n = len(val) \n",
    "print(knap_sack_table(W , wt , val,n))\n"
   ]
  },
  {
   "cell_type": "code",
   "execution_count": 210,
   "metadata": {},
   "outputs": [],
   "source": [
    "def knap_sack_table(capacity , wt , val , n):\n",
    "    \n",
    "    A = [[0 for i in range(capacity+1)] for x in range(n+1)] \n",
    "  \n",
    "    for i in range(1,n+1): \n",
    "        for w in range(1,capacity+1): \n",
    "           \n",
    "            if wt[i-1] <= w : \n",
    "                A[i][w] = max(val[i-1] + A[i-1][w-wt[i-1]],  A[i-1][w]) \n",
    "            else: \n",
    "                A[i][w] = A[i-1][w] \n",
    " \n",
    "    return A[n][capacity] , A"
   ]
  },
  {
   "cell_type": "code",
   "execution_count": 211,
   "metadata": {
    "scrolled": true
   },
   "outputs": [
    {
     "name": "stdout",
     "output_type": "stream",
     "text": [
      "(8, [[0, 0, 0, 0, 0, 0, 0], [0, 0, 0, 0, 3, 3, 3], [0, 0, 0, 2, 3, 3, 3], [0, 0, 4, 4, 4, 6, 7], [0, 0, 4, 4, 4, 8, 8]])\n"
     ]
    }
   ],
   "source": [
    "val = [3,2,4,4] \n",
    "wt = [4, 3, 2 , 3] \n",
    "W = 6\n",
    "n = len(val) \n",
    "print(knap_sack_table(W , wt , val,n))\n",
    "# val = [60, 100, 120] \n",
    "# wt = [10, 20, 30] \n",
    "# W = 50\n",
    "# n = len(val) \n",
    "# print(knap_sack_table(W , wt , val,n))\n",
    "A=knap_sack_table(W , wt , val,n)[1]"
   ]
  },
  {
   "cell_type": "code",
   "execution_count": 212,
   "metadata": {},
   "outputs": [
    {
     "data": {
      "text/plain": [
       "[[0, 0, 0, 0, 0, 0, 0],\n",
       " [0, 0, 0, 0, 3, 3, 3],\n",
       " [0, 0, 0, 2, 3, 3, 3],\n",
       " [0, 0, 4, 4, 4, 6, 7],\n",
       " [0, 0, 4, 4, 4, 8, 8]]"
      ]
     },
     "execution_count": 212,
     "metadata": {},
     "output_type": "execute_result"
    }
   ],
   "source": [
    "A"
   ]
  },
  {
   "cell_type": "code",
   "execution_count": 221,
   "metadata": {},
   "outputs": [],
   "source": [
    "def reconstruct_knap_sack_table(capacity , wt , val , n ,A):\n",
    "     \n",
    "    picked=[0 for i in range(n)]\n",
    "                   \n",
    "    cur_capacity=capacity\n",
    "    i=n\n",
    "     \n",
    "    while i > 0:\n",
    "        \n",
    "        if A[i][cur_capacity] > A[i-1][cur_capacity]:\n",
    "            picked[i-1]=1\n",
    "            cur_capacity-=wt[i-1]\n",
    "        i-=1\n",
    "\n",
    "    return picked "
   ]
  },
  {
   "cell_type": "code",
   "execution_count": 219,
   "metadata": {},
   "outputs": [
    {
     "name": "stdout",
     "output_type": "stream",
     "text": [
      "(8, [[0, 0, 0, 0, 0, 0, 0], [0, 0, 0, 0, 3, 3, 3], [0, 0, 0, 2, 3, 3, 3], [0, 0, 4, 4, 4, 6, 7], [0, 0, 4, 4, 4, 8, 8]])\n"
     ]
    }
   ],
   "source": [
    "val = [3,2,4,4] \n",
    "wt = [4, 3, 2 , 3] \n",
    "W = 6\n",
    "n = len(val) \n",
    "print(knap_sack_table(W , wt , val,n))\n"
   ]
  },
  {
   "cell_type": "code",
   "execution_count": 222,
   "metadata": {},
   "outputs": [
    {
     "name": "stdout",
     "output_type": "stream",
     "text": [
      "[0, 0, 1, 1]\n"
     ]
    }
   ],
   "source": [
    "print(reconstruct_knap_sack_table(W , wt , val,n,A))\n"
   ]
  },
  {
   "cell_type": "code",
   "execution_count": null,
   "metadata": {},
   "outputs": [],
   "source": []
  },
  {
   "cell_type": "code",
   "execution_count": null,
   "metadata": {},
   "outputs": [],
   "source": []
  }
 ],
 "metadata": {
  "kernelspec": {
   "display_name": "Python 3",
   "language": "python",
   "name": "python3"
  },
  "language_info": {
   "codemirror_mode": {
    "name": "ipython",
    "version": 3
   },
   "file_extension": ".py",
   "mimetype": "text/x-python",
   "name": "python",
   "nbconvert_exporter": "python",
   "pygments_lexer": "ipython3",
   "version": "3.6.7"
  }
 },
 "nbformat": 4,
 "nbformat_minor": 2
}
