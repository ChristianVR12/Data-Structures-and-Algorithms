{
 "cells": [
  {
   "cell_type": "code",
   "execution_count": 15,
   "metadata": {},
   "outputs": [],
   "source": [
    "## Maximum Weight independed subsets WIS or a path graph\n",
    "## Data from https://github.com/EricMFischer/max-weight-independent-set-of-path-graph-algo \n",
    "\n",
    "f='./MaxWIS/max_wt_ind_set_of_path_graph.txt'\n",
    "with open(f) as f_handle:\n",
    "    line = int(f_handle.readline())\n",
    "    NUM_NODES=line\n",
    "    G=list()\n",
    "    while line:\n",
    "        line=f_handle.readline()\n",
    "        num=line[:-1]\n",
    "        if len(num)>0:\n",
    "            G.append(int(num))\n",
    "        \n",
    "## G contains the path graph nodes represented by their values \n"
   ]
  },
  {
   "cell_type": "code",
   "execution_count": null,
   "metadata": {
    "scrolled": false
   },
   "outputs": [],
   "source": [
    "## Recursive Solution "
   ]
  },
  {
   "cell_type": "code",
   "execution_count": null,
   "metadata": {},
   "outputs": [],
   "source": []
  }
 ],
 "metadata": {
  "kernelspec": {
   "display_name": "Python 3",
   "language": "python",
   "name": "python3"
  },
  "language_info": {
   "codemirror_mode": {
    "name": "ipython",
    "version": 3
   },
   "file_extension": ".py",
   "mimetype": "text/x-python",
   "name": "python",
   "nbconvert_exporter": "python",
   "pygments_lexer": "ipython3",
   "version": "3.6.7"
  }
 },
 "nbformat": 4,
 "nbformat_minor": 2
}
