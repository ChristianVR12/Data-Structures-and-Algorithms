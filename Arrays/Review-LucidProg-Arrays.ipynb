{
 "cells": [
  {
   "cell_type": "code",
   "execution_count": 2,
   "metadata": {},
   "outputs": [
    {
     "name": "stdout",
     "output_type": "stream",
     "text": [
      "True\n",
      "False\n"
     ]
    }
   ],
   "source": [
    "# YouTube Video: https://www.youtube.com/watch?v=r7EzxgrYfNg\n",
    "def array_advance(A):\n",
    "    furthest_reached = 0\n",
    "    last_idx = len(A) - 1\n",
    "    i = 0\n",
    "    while i <= furthest_reached and furthest_reached < last_idx:\n",
    "        furthest_reached = max(furthest_reached, A[i] + i)\n",
    "        i += 1\n",
    "    return furthest_reached >= last_idx\n",
    "\n",
    "\n",
    "# True: Possible to navigate to last index in A:\n",
    "# Moves: 1,3,2\n",
    "A = [3, 3, 1, 0, 2, 0, 1]\n",
    "print(array_advance(A))\n",
    "\n",
    "# False: Not possible to navigate to last index in A:\n",
    "A = [3, 2, 0, 0, 2, 0, 1]\n",
    "print(array_advance(A))\n"
   ]
  },
  {
   "cell_type": "code",
   "execution_count": 8,
   "metadata": {},
   "outputs": [
    {
     "name": "stdout",
     "output_type": "stream",
     "text": [
      "[1, 5, 0]\n",
      "[1, 0, 0, 0]\n",
      "[1, 4, 6]\n"
     ]
    }
   ],
   "source": [
    "# YouTube Video: https://www.youtube.com/watch?v=v6K3SfMv9WM \n",
    "A1 = [1, 4, 9]\n",
    "A2 = [9, 9, 9]\n",
    "A3 = [1, 4, 5]\n",
    "# s = ''.join(map(str, A))\n",
    "# print(int(s) + 1)\n",
    "\n",
    "\n",
    "def plus_one(A):\n",
    "    A[-1] += 1\n",
    "    for i in reversed(range(1, len(A))):\n",
    "        if A[i] != 10:\n",
    "            break\n",
    "        A[i] = 0\n",
    "        A[i-1] += 1\n",
    "    if A[0] == 10:\n",
    "        A[0] = 1\n",
    "        A.append(0)\n",
    "    return A\n",
    "\n",
    "\n",
    "print(plus_one(A1))\n",
    "print(plus_one(A2))\n",
    "print(plus_one(A3))\n"
   ]
  },
  {
   "cell_type": "code",
   "execution_count": 7,
   "metadata": {},
   "outputs": [
    {
     "name": "stdout",
     "output_type": "stream",
     "text": [
      "0\n",
      "5\n"
     ]
    }
   ],
   "source": [
    "for i in reversed(range(1, len(A1))):\n",
    "    print(A1[i])"
   ]
  },
  {
   "cell_type": "code",
   "execution_count": 5,
   "metadata": {},
   "outputs": [
    {
     "data": {
      "text/plain": [
       "[1, 5, 0]"
      ]
     },
     "execution_count": 5,
     "metadata": {},
     "output_type": "execute_result"
    }
   ],
   "source": [
    "A1"
   ]
  },
  {
   "cell_type": "code",
   "execution_count": 9,
   "metadata": {},
   "outputs": [
    {
     "name": "stdout",
     "output_type": "stream",
     "text": [
      "2 11\n",
      "True\n",
      "2 11\n",
      "True\n",
      "2 11\n",
      "True\n"
     ]
    }
   ],
   "source": [
    "# YouTube Video: https://www.youtube.com/watch?v=gCin6Qz-eJQ\n",
    "# Given an array of integers, return the two numbers such that they add up to\n",
    "# a specific target. You may assume that each input would have exactly one\n",
    "# solution, and you may not use the same element twice.\n",
    "\n",
    "A = [-2, 1, 2, 4, 7, 11]\n",
    "target = 13\n",
    "\n",
    "# Time Complexity: O(n^2)\n",
    "# Space Complexity: O(1)\n",
    "def two_sum_brute_force(A, target):\n",
    "    for i in range(len(A)-1):\n",
    "        for j in range(i+1, len(A)):\n",
    "            if A[i] + A[j] == target:\n",
    "                print(A[i], A[j])\n",
    "                return True\n",
    "    return False\n",
    "\n",
    "\n",
    "# Time Complexity: O(n)\n",
    "# Space Complexity: O(n)\n",
    "def two_sum_hash_table(A, target):\n",
    "    ht = dict()\n",
    "    for i in range(len(A)):\n",
    "        if A[i] in ht:\n",
    "            print(ht[A[i]], A[i])\n",
    "            return True\n",
    "        else:\n",
    "            ht[target - A[i]] = A[i]\n",
    "    return False\n",
    "\n",
    "\n",
    "# Time Complexity: O(n)\n",
    "# Space Complexity: O(1)\n",
    "def two_sum(A, target):\n",
    "    i = 0\n",
    "    j = len(A) - 1\n",
    "    while i < j:\n",
    "        if A[i] + A[j] == target:\n",
    "            print(A[i], A[j])\n",
    "            return True\n",
    "        elif A[i] + A[j] < target:\n",
    "            i += 1\n",
    "        else:\n",
    "            j -= 1\n",
    "    return False\n",
    "\n",
    "\n",
    "print(two_sum_brute_force(A, target))\n",
    "print(two_sum_hash_table(A, target))\n",
    "print(two_sum(A, target))\n"
   ]
  },
  {
   "cell_type": "code",
   "execution_count": 10,
   "metadata": {},
   "outputs": [
    {
     "name": "stdout",
     "output_type": "stream",
     "text": [
      "6 11\n"
     ]
    },
    {
     "data": {
      "text/plain": [
       "True"
      ]
     },
     "execution_count": 10,
     "metadata": {},
     "output_type": "execute_result"
    }
   ],
   "source": [
    "A=[0,1,2,3,6,8,9,11,13]\n",
    "two_sum(A,17)"
   ]
  },
  {
   "cell_type": "code",
   "execution_count": 14,
   "metadata": {},
   "outputs": [],
   "source": [
    "# YouTube video: https://www.youtube.com/watch?v=7AMjRbJhsKM\n",
    "A = [310, 315, 275, 295, 260, 270, 290, 230, 255, 250]\n",
    "\n",
    "\n",
    "# Time Complexity: O(n^2)\n",
    "# Space Complexity: O(1)\n",
    "def buy_and_sell_once(A):\n",
    "    max_profit = 0\n",
    "    for i in range(len(A)-1):\n",
    "        for j in range(i+1, len(A)):\n",
    "            if A[j] - A[i] > max_profit:\n",
    "                max_profit = A[j] - A[i]\n",
    "    return max_profit\n",
    "\n",
    "\n",
    "# Time Complexity: O(n)\n",
    "# Space Complexity: O(1)\n",
    "\n",
    "def buy_and_sell_stock_once(prices):\n",
    "    max_profit = 0.0\n",
    "    min_price = float('inf')\n",
    "\n",
    "    for price in prices:\n",
    "        min_price = min(min_price, price)\n",
    "\n",
    "        compare_profit = price - min_price\n",
    "\n",
    "        max_profit = max(max_profit, compare_profit)\n",
    "        \n",
    "    return max_profit\n",
    "\n",
    "\n",
    "\n"
   ]
  },
  {
   "cell_type": "code",
   "execution_count": 12,
   "metadata": {},
   "outputs": [
    {
     "data": {
      "text/plain": [
       "30"
      ]
     },
     "execution_count": 12,
     "metadata": {},
     "output_type": "execute_result"
    }
   ],
   "source": [
    "buy_and_sell_once(A)"
   ]
  },
  {
   "cell_type": "code",
   "execution_count": 13,
   "metadata": {},
   "outputs": [
    {
     "data": {
      "text/plain": [
       "30"
      ]
     },
     "execution_count": 13,
     "metadata": {},
     "output_type": "execute_result"
    }
   ],
   "source": [
    "buy_and_sell_stock_once(A)"
   ]
  },
  {
   "cell_type": "code",
   "execution_count": null,
   "metadata": {},
   "outputs": [],
   "source": []
  }
 ],
 "metadata": {
  "kernelspec": {
   "display_name": "Python 3",
   "language": "python",
   "name": "python3"
  },
  "language_info": {
   "codemirror_mode": {
    "name": "ipython",
    "version": 3
   },
   "file_extension": ".py",
   "mimetype": "text/x-python",
   "name": "python",
   "nbconvert_exporter": "python",
   "pygments_lexer": "ipython3",
   "version": "3.6.7"
  }
 },
 "nbformat": 4,
 "nbformat_minor": 2
}
