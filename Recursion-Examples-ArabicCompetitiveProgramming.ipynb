{
 "cells": [
  {
   "cell_type": "code",
   "execution_count": 185,
   "metadata": {},
   "outputs": [
    {
     "name": "stdout",
     "output_type": "stream",
     "text": [
      "I am top coder\n",
      "I am top coder\n",
      "I am top coder\n",
      "I am top coder\n",
      "I am top coder\n"
     ]
    }
   ],
   "source": [
    "import math\n",
    "#  ******************************************** Licence *******************************************\n",
    "#  * \t\t\t\t\t\t\t\t\t\t\t\t\t\t\t\t\t\t\t\t\t\t\t\t*\n",
    "#  * This File is part of Algorithms Arabic Video Series\t\t\t\t\t\t\t\t\t\t\t*\n",
    "#  *\tMade By Eng Mostafa Saad, Teaching Assistant in FCI - Cairo University\t\t\t\t\t\t*\n",
    "#  * \t\t\t\t\t\t\t\t\t\t\t\t\t\t\t\t\t\t\t\t\t\t\t\t*\n",
    "#  *\tAvailable at My YouTube Channel: http://www.youtube.com/user/nobody123497?feature=mhee\t\t*\n",
    "#  * \t\t\t\t\t\t\t\t\t\t\t\t\t\t\t\t\t\t\t\t\t\t\t\t*\n",
    "#  * Feel free to make use of it at anytime, for any reason, in anyway, without any obligations.\t*\n",
    "#  * \t\t\t\t\t\t\t\t\t\t\t\t\t\t\t\t\t\t\t\t\t\t\t\t*\n",
    "#  * \t\t\t\t\t\t\t\t\t\t\t\t\t\t\t\t\t\t\t\t\t\t\t\t*\n",
    "#  * In case of finding a mistake, kindly notify me at: mostafa.saad.fci@gmail.com\t\t\t\t*\n",
    "#  * \t\t\t\t\t\t\t\t\t\t\t\t\t\t\t\t\t\t\t\t\t\t\t\t*\n",
    "#  * Mostafa Saad Ibrahim � 2013\t\t\t\t\t\t\t\t\t\t\t\t\t\t\t\t\t*\n",
    "#  * \t\t\t\t\t\t\t\t\t\t\t\t\t\t\t\t\t\t\t\t\t\t\t\t*\n",
    "#  ************************************************************************************************\n",
    "#  /*\n",
    "# Content:\n",
    "# Introducion\n",
    "# Basic Examples\n",
    "# How to trace recursion\n",
    "# Merge Sort\n",
    "# Max Sum Path in grid from (0, 0) to (n, n)\n",
    "# Find Path in Maze\n",
    "# Handling Cycles\n",
    "# Flood Fill\n",
    "# Connected Components\n",
    "# Generating binary/ternary Sequences\n",
    "# Permutations / Combinations\n",
    "# Stack Overflow notes\n",
    "# Iterative Recursion: stack usage\n",
    "# Search space analysis / # Recursion Calls\n",
    "# Introduction to Dynamic Programming\n",
    "\n",
    "def SayIamTopCoder(cnt):\n",
    "    ## Base Case\n",
    "    if cnt < 1 : \n",
    "        return \n",
    "    ## Print myself and then call smaller problem! \n",
    "    print(\"I am top coder\")\n",
    "    ## Recursion\n",
    "    SayIamTopCoder(cnt-1)\n",
    "    \n",
    "SayIamTopCoder(5)"
   ]
  },
  {
   "cell_type": "code",
   "execution_count": 101,
   "metadata": {},
   "outputs": [
    {
     "data": {
      "text/plain": [
       "120"
      ]
     },
     "execution_count": 101,
     "metadata": {},
     "output_type": "execute_result"
    }
   ],
   "source": [
    "# // Trace a4(4)\n",
    "\n",
    "def a1(n):\n",
    "    return n\n",
    "def a2(n):\n",
    "    return n*a1(n-1)\n",
    "\n",
    "def a3(n):\n",
    "    return n*a2(n-1)\n",
    "\n",
    "def a4(n):\n",
    "    return n*a3(n-1)\n",
    "\n",
    "a4(5)\n",
    "\n",
    "# // If you are in function F1, and need to call function F2 that behaves exact as F1, then just call F1\n"
   ]
  },
  {
   "cell_type": "code",
   "execution_count": 102,
   "metadata": {},
   "outputs": [
    {
     "data": {
      "text/plain": [
       "120"
      ]
     },
     "execution_count": 102,
     "metadata": {},
     "output_type": "execute_result"
    }
   ],
   "source": [
    "def Factorial(n):\n",
    "    ##BaseCase Check \n",
    "    if n<=1:\n",
    "        return 1\n",
    "    return n*Factorial(n-1)\n",
    "\n",
    "Factorial(5)\n",
    "\n",
    "# Fact(4)\n",
    "# \t4* Fact(3)\n",
    "# \t\t3* Fact(2)\n",
    "# \t\t\t2* Fact(1)\n",
    "# \t\t\t2* 1 <-- 2\n",
    "# \t\t3* 2 <-- 6\n",
    "# \t4* 6 <-- 24\n",
    "# */\n",
    "# // Check Stack Trace Image"
   ]
  },
  {
   "cell_type": "code",
   "execution_count": 103,
   "metadata": {},
   "outputs": [
    {
     "name": "stdout",
     "output_type": "stream",
     "text": [
      "*\n",
      "**\n",
      "***\n",
      "****\n",
      "*****\n",
      "******\n",
      "*******\n"
     ]
    }
   ],
   "source": [
    "def Triangle(x):\n",
    "    ##Base Case\n",
    "    if x <=0:\n",
    "        return\n",
    "    ## Call the smaller problem \n",
    "    Triangle(x-1)\n",
    "    ## Then print myself \n",
    "    print(\"*\"*x)\n",
    "Triangle(7)\n",
    "\n",
    "# /*\n",
    "# Call Triangle(7)\n",
    "# Triangle(7)\n",
    "#   Triangle(6)\n",
    "#     Triangle(5)\n",
    "#       Triangle(4)\n",
    "#         Triangle(3)\n",
    "#           Triangle(2)\n",
    "#             Triangle(1)\n",
    "#               Triangle(0) <-- base case\n",
    "#             Triangle(1) <-- prints 1 star & new line\n",
    "#           Triangle(2) <-- prints 2 stars & new line\n",
    "#         Triangle(3) <-- prints 3 stars & new line\n",
    "#       Triangle(4) <-- prints 4 stars & new line\n",
    "#     Triangle(5) <-- prints 5 stars & new line\n",
    "#   Triangle(6) <-- prints 6 stars & new line\n",
    "# Triangle(7) <-- prints 7 stars & new line\n",
    "\n",
    "\n",
    "\n",
    "# The output will be:\n",
    "\n",
    "# *       base case (~smallest problem!)\n",
    "# **      slightly bigger problem\n",
    "# ***     slightly bigger problem \n",
    "# ****    ditto \n",
    "# *****\n",
    "# ******\n",
    "# *******\n",
    "# */"
   ]
  },
  {
   "cell_type": "code",
   "execution_count": 104,
   "metadata": {},
   "outputs": [
    {
     "name": "stdout",
     "output_type": "stream",
     "text": [
      "*******\n",
      "******\n",
      "*****\n",
      "****\n",
      "***\n",
      "**\n",
      "*\n"
     ]
    }
   ],
   "source": [
    "def TriangleRev(x):\n",
    "    ##Base Case\n",
    "    if x <=0:\n",
    "        return\n",
    "    ## Print myself first then call the smaller problem! \n",
    "    print(\"*\"*x)\n",
    "    TriangleRev(x-1)\n",
    "    \n",
    "TriangleRev(7)\n",
    "\n",
    "# /*\n",
    "# Call TriangleRev(7)\n",
    "# TriangleRev(7) <-- prints 7 stars & new line\n",
    "#   TriangleRev(6) <-- prints 6 stars & new line\n",
    "#     TriangleRev(5) <-- prints 5 stars & new line\n",
    "#       TriangleRev(4) <-- prints 4 stars & new line\n",
    "#         TriangleRev(3) <-- prints 3 stars & new line\n",
    "#           TriangleRev(2) <-- prints 2 stars & new line\n",
    "#             TriangleRev(1) <-- prints 1 star & new line\n",
    "#               TriangleRev(0) <-- base case\n",
    "#             TriangleRev(1)\n",
    "#           TriangleRev(2)\n",
    "#         TriangleRev(3)\n",
    "#       TriangleRev(4)\n",
    "#     TriangleRev(5)\n",
    "#   TriangleRev(6)\n",
    "# TriangleRev(7)\n",
    "\n",
    "# The output will be:\n",
    "# *******\n",
    "# ******\n",
    "# *****\n",
    "# ****\n",
    "# ***\n",
    "# **\n",
    "# *"
   ]
  },
  {
   "cell_type": "code",
   "execution_count": 105,
   "metadata": {},
   "outputs": [
    {
     "data": {
      "text/plain": [
       "16"
      ]
     },
     "execution_count": 105,
     "metadata": {},
     "output_type": "execute_result"
    }
   ],
   "source": [
    "# // 3n+1 Series:  Next(n):\tif n is odd then n = 3 *n +1. \tIf n is even then n = n/2.\t\tif n == 1, stop\n",
    "# // E.g. 22 11 34 17 52 26 13 40 20 10 5 16 8 4 2 1\n",
    "# // Given n, find length of 3n+1 sequence. E.g. F3n_1(22) = 16\n",
    "\n",
    "def F3np1(n):\n",
    "    ##Basecase\n",
    "    if n==1:\n",
    "        return 1 \n",
    "    ##Even number case\n",
    "    if n%2==0:\n",
    "        return 1+F3np1(n/2)\n",
    "    else:\n",
    "        return 1+F3np1(3*n+1)\n",
    "    \n",
    "    \n",
    "F3np1(22)  \n",
    "        \n",
    "# // How to trace recursion\n",
    "## 1+1+1+13 more calls"
   ]
  },
  {
   "cell_type": "code",
   "execution_count": 106,
   "metadata": {},
   "outputs": [],
   "source": [
    "# void mergesort(vector<int> &arr, int low, int high)\n",
    "# {\n",
    "#     if(low < high)\n",
    "#     {\n",
    "#         int mid =(low+high)/2;\n",
    "#         mergesort(arr, low, mid);\n",
    "#         mergesort(arr, mid+1, high);\n",
    "#         // linearly, merge to sorted blocks\n",
    "#     }\n",
    "# }"
   ]
  },
  {
   "cell_type": "code",
   "execution_count": 107,
   "metadata": {
    "scrolled": false
   },
   "outputs": [
    {
     "name": "stdout",
     "output_type": "stream",
     "text": [
      "5342\n",
      "11010110"
     ]
    }
   ],
   "source": [
    "def printNumber(n):\n",
    "    if n==0:\n",
    "        return \n",
    "    else:\n",
    "        printNumber(n//10) ## print number without last digit\n",
    "        print(n%10, end = '') ## print last digit\n",
    "        \n",
    "printNumber(5342)\n",
    "\n",
    "print(\"\")\n",
    "def printNumberBits(n):\n",
    "    if n==0:\n",
    "        return \n",
    "    else:\n",
    "        printNumberBits(n//2) ## print number without last bit\n",
    "        print(n%2, end = '') ## print last bit\n",
    "\n",
    "printNumberBits(214)\n",
    " \n",
    "# // binary rep of 214 is 11010110\n",
    "## number//2 returns number without last bit\n",
    "# // number%2 returns last bit in binray representation\n"
   ]
  },
  {
   "cell_type": "code",
   "execution_count": 108,
   "metadata": {},
   "outputs": [
    {
     "data": {
      "text/plain": [
       "[[5, 6, 3], [7, 8, 9], [12, 13, 2]]"
      ]
     },
     "execution_count": 108,
     "metadata": {},
     "output_type": "execute_result"
    }
   ],
   "source": [
    "grid=[[5,6,3],[7,8,9],[12,13,2]]\n",
    "grid\n",
    "## [[5 , 6 , 3],\n",
    "### [7 , 8 , 9], \n",
    "### [12, 13, 2]]\n",
    "## maxPathSum(grid,2)=5+7+12+13+2=39"
   ]
  },
  {
   "cell_type": "code",
   "execution_count": 109,
   "metadata": {},
   "outputs": [
    {
     "data": {
      "text/plain": [
       "3"
      ]
     },
     "execution_count": 109,
     "metadata": {},
     "output_type": "execute_result"
    }
   ],
   "source": [
    "grid[0][2]"
   ]
  },
  {
   "cell_type": "code",
   "execution_count": 110,
   "metadata": {},
   "outputs": [
    {
     "data": {
      "text/plain": [
       "39"
      ]
     },
     "execution_count": 110,
     "metadata": {},
     "output_type": "execute_result"
    }
   ],
   "source": [
    "# // Given grid of positive numbers, Start from 0, 0 and end at n, n. Move only to right and down - find path with sum of numbers is maximum.\n",
    "# /*\n",
    "# 15\n",
    "# 24\n",
    "\n",
    "# 512\n",
    "# 678\n",
    "# 189\n",
    "# */\n",
    "#\n",
    "# // Think in function F(i, j) that find solution from (i, j) to (n, n)\n",
    "\n",
    "def maxPathSum(grid,n):\n",
    "    \n",
    "    def _maxPathSum(r,c):\n",
    "        \n",
    "        if r > n or c >n :\n",
    "            return 0\n",
    "        \n",
    "        ## BaseCase: \n",
    "        \n",
    "        if r==n and c==n:\n",
    "            return grid[r][c]\n",
    "        \n",
    "        path1=_maxPathSum(r,c+1) ## going right\n",
    "        path2=_maxPathSum(r+1,c) ## going down \n",
    "        return grid[r][c] + max(path1,path2)\n",
    "    \n",
    "    return _maxPathSum(0,0)\n",
    "\n",
    "maxPathSum(grid,2)\n",
    "\n"
   ]
  },
  {
   "cell_type": "code",
   "execution_count": 111,
   "metadata": {
    "scrolled": true
   },
   "outputs": [
    {
     "data": {
      "text/plain": [
       "32"
      ]
     },
     "execution_count": 111,
     "metadata": {},
     "output_type": "execute_result"
    }
   ],
   "source": [
    "import sys\n",
    "import sys\n",
    "maxint = sys.maxsize\n",
    "minint = -sys.maxsize -1\n",
    "\n",
    "\n",
    "grid=grid=[[5,6],[7,8],[12,13]] \n",
    "\n",
    "def minPathSum(grid):\n",
    "\n",
    "    m=len(grid[0]) \n",
    "    n=len(grid)\n",
    "\n",
    "    def _minPathSum(r,c):\n",
    "        #BaseCases\n",
    "        if (r > n-1) or (c > m-1) :\n",
    "            return maxint \n",
    "\n",
    "        if (r==n-1) & (c==m-1):\n",
    "            return grid[r][c]\n",
    "\n",
    "        path1=_minPathSum(r,c+1)\n",
    "        path2=_minPathSum(r+1,c)\n",
    "        return grid[r][c]+min(path1,path2)\n",
    "\n",
    "\n",
    "    return _minPathSum(0,0)\n",
    "\n",
    "minPathSum(grid)\n",
    "\n",
    "# [[5,6]\n",
    "#  ,[7,8],\n",
    "#  [12,13]] \n",
    "\n"
   ]
  },
  {
   "cell_type": "code",
   "execution_count": 112,
   "metadata": {
    "scrolled": true
   },
   "outputs": [
    {
     "data": {
      "text/plain": [
       "[['.', 'S', 'X', '.', '.'],\n",
       " ['.', '.', 'X', '.', 'E'],\n",
       " ['.', '.', '.', '.', 'X']]"
      ]
     },
     "execution_count": 112,
     "metadata": {},
     "output_type": "execute_result"
    }
   ],
   "source": [
    "maze=[['.','S','X','.','.'],['.','.','X','.','E'],['.','.','.','.','X']]\n",
    "maze\n"
   ]
  },
  {
   "cell_type": "code",
   "execution_count": 113,
   "metadata": {},
   "outputs": [
    {
     "data": {
      "text/plain": [
       "(3, 5)"
      ]
     },
     "execution_count": 113,
     "metadata": {},
     "output_type": "execute_result"
    }
   ],
   "source": [
    "n=len(maze)\n",
    "m=len(maze[0])\n",
    "n,m"
   ]
  },
  {
   "cell_type": "code",
   "execution_count": null,
   "metadata": {},
   "outputs": [],
   "source": []
  },
  {
   "cell_type": "code",
   "execution_count": 114,
   "metadata": {},
   "outputs": [
    {
     "ename": "RecursionError",
     "evalue": "maximum recursion depth exceeded in comparison",
     "output_type": "error",
     "traceback": [
      "\u001b[0;31m---------------------------------------------------------------------------\u001b[0m",
      "\u001b[0;31mRecursionError\u001b[0m                            Traceback (most recent call last)",
      "\u001b[0;32m<ipython-input-114-160e0d1a05d9>\u001b[0m in \u001b[0;36m<module>\u001b[0;34m()\u001b[0m\n\u001b[1;32m     29\u001b[0m \u001b[0;34m\u001b[0m\u001b[0m\n\u001b[1;32m     30\u001b[0m \u001b[0;34m\u001b[0m\u001b[0m\n\u001b[0;32m---> 31\u001b[0;31m \u001b[0mfindEnd\u001b[0m\u001b[0;34m(\u001b[0m\u001b[0;36m0\u001b[0m\u001b[0;34m,\u001b[0m\u001b[0;36m0\u001b[0m\u001b[0;34m)\u001b[0m\u001b[0;34m\u001b[0m\u001b[0;34m\u001b[0m\u001b[0m\n\u001b[0m\u001b[1;32m     32\u001b[0m \u001b[0;34m\u001b[0m\u001b[0m\n\u001b[1;32m     33\u001b[0m \u001b[0;31m# // This code will go to infinity! ... we need to avoid cycles. Mark visited cells\u001b[0m\u001b[0;34m\u001b[0m\u001b[0;34m\u001b[0m\u001b[0;34m\u001b[0m\u001b[0m\n",
      "\u001b[0;32m<ipython-input-114-160e0d1a05d9>\u001b[0m in \u001b[0;36mfindEnd\u001b[0;34m(r, c)\u001b[0m\n\u001b[1;32m     14\u001b[0m         \u001b[0;32mreturn\u001b[0m \u001b[0;32mTrue\u001b[0m\u001b[0;34m\u001b[0m\u001b[0;34m\u001b[0m\u001b[0m\n\u001b[1;32m     15\u001b[0m     \u001b[0;31m#// Try the 4 neighbor cells\u001b[0m\u001b[0;34m\u001b[0m\u001b[0;34m\u001b[0m\u001b[0;34m\u001b[0m\u001b[0m\n\u001b[0;32m---> 16\u001b[0;31m     \u001b[0;32mif\u001b[0m \u001b[0mfindEnd\u001b[0m\u001b[0;34m(\u001b[0m\u001b[0mr\u001b[0m\u001b[0;34m,\u001b[0m\u001b[0mc\u001b[0m\u001b[0;34m-\u001b[0m\u001b[0;36m1\u001b[0m\u001b[0;34m)\u001b[0m\u001b[0;34m:\u001b[0m\u001b[0;34m\u001b[0m\u001b[0;34m\u001b[0m\u001b[0m\n\u001b[0m\u001b[1;32m     17\u001b[0m         \u001b[0;32mreturn\u001b[0m \u001b[0;32mTrue\u001b[0m\u001b[0;34m\u001b[0m\u001b[0;34m\u001b[0m\u001b[0m\n\u001b[1;32m     18\u001b[0m     \u001b[0;32mif\u001b[0m \u001b[0mfindEnd\u001b[0m\u001b[0;34m(\u001b[0m\u001b[0mr\u001b[0m\u001b[0;34m,\u001b[0m\u001b[0mc\u001b[0m\u001b[0;34m+\u001b[0m\u001b[0;36m1\u001b[0m\u001b[0;34m)\u001b[0m\u001b[0;34m:\u001b[0m\u001b[0;34m\u001b[0m\u001b[0;34m\u001b[0m\u001b[0m\n",
      "\u001b[0;32m<ipython-input-114-160e0d1a05d9>\u001b[0m in \u001b[0;36mfindEnd\u001b[0;34m(r, c)\u001b[0m\n\u001b[1;32m     14\u001b[0m         \u001b[0;32mreturn\u001b[0m \u001b[0;32mTrue\u001b[0m\u001b[0;34m\u001b[0m\u001b[0;34m\u001b[0m\u001b[0m\n\u001b[1;32m     15\u001b[0m     \u001b[0;31m#// Try the 4 neighbor cells\u001b[0m\u001b[0;34m\u001b[0m\u001b[0;34m\u001b[0m\u001b[0;34m\u001b[0m\u001b[0m\n\u001b[0;32m---> 16\u001b[0;31m     \u001b[0;32mif\u001b[0m \u001b[0mfindEnd\u001b[0m\u001b[0;34m(\u001b[0m\u001b[0mr\u001b[0m\u001b[0;34m,\u001b[0m\u001b[0mc\u001b[0m\u001b[0;34m-\u001b[0m\u001b[0;36m1\u001b[0m\u001b[0;34m)\u001b[0m\u001b[0;34m:\u001b[0m\u001b[0;34m\u001b[0m\u001b[0;34m\u001b[0m\u001b[0m\n\u001b[0m\u001b[1;32m     17\u001b[0m         \u001b[0;32mreturn\u001b[0m \u001b[0;32mTrue\u001b[0m\u001b[0;34m\u001b[0m\u001b[0;34m\u001b[0m\u001b[0m\n\u001b[1;32m     18\u001b[0m     \u001b[0;32mif\u001b[0m \u001b[0mfindEnd\u001b[0m\u001b[0;34m(\u001b[0m\u001b[0mr\u001b[0m\u001b[0;34m,\u001b[0m\u001b[0mc\u001b[0m\u001b[0;34m+\u001b[0m\u001b[0;36m1\u001b[0m\u001b[0;34m)\u001b[0m\u001b[0;34m:\u001b[0m\u001b[0;34m\u001b[0m\u001b[0;34m\u001b[0m\u001b[0m\n",
      "... last 2 frames repeated, from the frame below ...\n",
      "\u001b[0;32m<ipython-input-114-160e0d1a05d9>\u001b[0m in \u001b[0;36mfindEnd\u001b[0;34m(r, c)\u001b[0m\n\u001b[1;32m     16\u001b[0m     \u001b[0;32mif\u001b[0m \u001b[0mfindEnd\u001b[0m\u001b[0;34m(\u001b[0m\u001b[0mr\u001b[0m\u001b[0;34m,\u001b[0m\u001b[0mc\u001b[0m\u001b[0;34m-\u001b[0m\u001b[0;36m1\u001b[0m\u001b[0;34m)\u001b[0m\u001b[0;34m:\u001b[0m\u001b[0;34m\u001b[0m\u001b[0;34m\u001b[0m\u001b[0m\n\u001b[1;32m     17\u001b[0m         \u001b[0;32mreturn\u001b[0m \u001b[0;32mTrue\u001b[0m\u001b[0;34m\u001b[0m\u001b[0;34m\u001b[0m\u001b[0m\n\u001b[0;32m---> 18\u001b[0;31m     \u001b[0;32mif\u001b[0m \u001b[0mfindEnd\u001b[0m\u001b[0;34m(\u001b[0m\u001b[0mr\u001b[0m\u001b[0;34m,\u001b[0m\u001b[0mc\u001b[0m\u001b[0;34m+\u001b[0m\u001b[0;36m1\u001b[0m\u001b[0;34m)\u001b[0m\u001b[0;34m:\u001b[0m\u001b[0;34m\u001b[0m\u001b[0;34m\u001b[0m\u001b[0m\n\u001b[0m\u001b[1;32m     19\u001b[0m         \u001b[0;32mreturn\u001b[0m \u001b[0;32mTrue\u001b[0m\u001b[0;34m\u001b[0m\u001b[0;34m\u001b[0m\u001b[0m\n\u001b[1;32m     20\u001b[0m     \u001b[0;32mif\u001b[0m \u001b[0mfindEnd\u001b[0m\u001b[0;34m(\u001b[0m\u001b[0mr\u001b[0m\u001b[0;34m-\u001b[0m\u001b[0;36m1\u001b[0m\u001b[0;34m,\u001b[0m\u001b[0mc\u001b[0m\u001b[0;34m)\u001b[0m\u001b[0;34m:\u001b[0m\u001b[0;34m\u001b[0m\u001b[0;34m\u001b[0m\u001b[0m\n",
      "\u001b[0;31mRecursionError\u001b[0m: maximum recursion depth exceeded in comparison"
     ]
    }
   ],
   "source": [
    "# /*\n",
    "\n",
    "# .SX..\n",
    "# ..X.E\n",
    "# ....X\n",
    "# X.XX.\n",
    "#  */\n",
    "\n",
    "def findEnd(r,c):\n",
    "    ## Getting to invalid location/position\n",
    "    if (r > n-1) or (c > m-1) or (maze[r][c]==\"X\") :\n",
    "        return False\n",
    "    if maze[r][c]==\"E\": ## We found end \n",
    "        return True\n",
    "    #// Try the 4 neighbor cells\n",
    "    if findEnd(r,c-1):\n",
    "        return True\n",
    "    if findEnd(r,c+1):\n",
    "        return True\n",
    "    if findEnd(r-1,c):\n",
    "        return True\n",
    "    if findEnd(r+1,c):\n",
    "        return True\n",
    "    \n",
    "    # \t// Can't find a way for it!\n",
    "#     return false;\n",
    "\n",
    "    return False\n",
    "\n",
    "\n",
    "findEnd(0,0)\n",
    "\n",
    "# // This code will go to infinity! ... we need to avoid cycles. Mark visited cells"
   ]
  },
  {
   "cell_type": "code",
   "execution_count": null,
   "metadata": {},
   "outputs": [],
   "source": []
  },
  {
   "cell_type": "code",
   "execution_count": null,
   "metadata": {
    "scrolled": true
   },
   "outputs": [],
   "source": [
    "maze"
   ]
  },
  {
   "cell_type": "code",
   "execution_count": null,
   "metadata": {},
   "outputs": [],
   "source": [
    "visited"
   ]
  },
  {
   "cell_type": "code",
   "execution_count": 115,
   "metadata": {},
   "outputs": [
    {
     "data": {
      "text/plain": [
       "True"
      ]
     },
     "execution_count": 115,
     "metadata": {},
     "output_type": "execute_result"
    }
   ],
   "source": [
    "\n",
    "def findEnd(r,c):\n",
    "    ## Getting to invalid location/positionnt()\n",
    "    if (r > n-1) or (c > m-1) or (r <0) or (c <0) or (maze[r][c]==\"X\") or (visited[r][c]==1):\n",
    "      #  print(\"returning\",r,c,visited[r][c])\n",
    "        return False\n",
    "    ## Mark position as visited \n",
    "    \n",
    "    visited[r][c]=1\n",
    "    \n",
    "    if maze[r][c]==\"E\": ## We found end \n",
    "        return True\n",
    "    \n",
    "    \n",
    "    #// Try the 4 neighbor cells\n",
    "    if findEnd(r,c-1):\n",
    "        return True\n",
    "    if findEnd(r,c+1):\n",
    "        return True\n",
    "    if findEnd(r-1,c):\n",
    "        return True\n",
    "    if findEnd(r+1,c):\n",
    "        return True\n",
    "    ## Backtrack so you can use this r,c position once again\n",
    "    \n",
    "    visited[r][c]=0  # backtracking!\n",
    "    \n",
    "    return False\n",
    "\n",
    "visited=[[0 for i in range(m)] for j in range(n)]\n",
    "findEnd(0,0)\n",
    "\n",
    "# // Typical backtracking procedure\n",
    "# void recursion(state s)\n",
    "# {\n",
    "# \tif( base(s) )\n",
    "# \t\treturn ;\n",
    "\n",
    "# \tfor each substate ss\n",
    "# \t\tmark ss\n",
    "\n",
    "# \t\trecursion (ss)\n",
    "\n",
    "# \t\tunmark ss\n",
    "# }\n",
    "\n",
    "#  */"
   ]
  },
  {
   "cell_type": "code",
   "execution_count": null,
   "metadata": {},
   "outputs": [],
   "source": [
    "maze=[['.','.','X','.','.'],['.','.','X','.','.'],['.','.','X','.','X']]\n",
    "maze"
   ]
  },
  {
   "cell_type": "code",
   "execution_count": 116,
   "metadata": {},
   "outputs": [
    {
     "name": "stdout",
     "output_type": "stream",
     "text": [
      "12\n"
     ]
    }
   ],
   "source": [
    "# // Flood Fill...given maze where cells are . or X. You start at 0, 0..how many cells you could reach?\n",
    "# /*\n",
    "# ..X.\n",
    "# .X.X\n",
    "# ..X.\n",
    "\n",
    "# ...x.\n",
    "# ..x..\n",
    "# .x...\n",
    "# x....\n",
    "\n",
    "\n",
    "# ....X...\n",
    "# ....XXXX\n",
    "# ..X.....\n",
    "# .X....XX\n",
    "# ..X.X.X.\n",
    "# ..X...X.\n",
    "# ...X..XX\n",
    "# */\n",
    "\n",
    "# // A reachable block is called connected components. Each set of positions reachable together are connected component.\n",
    "\n",
    "\n",
    "\n",
    "def cntReachalbleCells(r, c):\n",
    "    \"\"\" a function to count connected cells in a block starting at a point r, c\"\"\"\n",
    "    global count,visited \n",
    "    \n",
    "    if (r > n-1) or (c > m-1) or (r <0) or (c <0) or (maze[r][c]==\"X\") or (visited[r][c]==1):\n",
    "            return \n",
    "        \n",
    "    visited[r][c]=1\n",
    "    count+=1\n",
    "    \n",
    "    cntReachalbleCells(r, c-1)\n",
    "    cntReachalbleCells(r, c+1)\n",
    "    cntReachalbleCells(r-1, c)\n",
    "    cntReachalbleCells(r+1, c)\n",
    "\n",
    "    \n",
    "count=0\n",
    "visited=[[0 for i in range(m)] for j in range(n)]\n",
    "cntReachalbleCells(0,0)\n",
    "print(count)"
   ]
  },
  {
   "cell_type": "code",
   "execution_count": 117,
   "metadata": {},
   "outputs": [
    {
     "name": "stdout",
     "output_type": "stream",
     "text": [
      "0\n"
     ]
    }
   ],
   "source": [
    "count=0\n",
    "#visited=[[0 for i in range(m)] for j in range(n)]\n",
    "cntReachalbleCells(0,3)\n",
    "print(count)"
   ]
  },
  {
   "cell_type": "code",
   "execution_count": null,
   "metadata": {},
   "outputs": [],
   "source": [
    "maze"
   ]
  },
  {
   "cell_type": "code",
   "execution_count": 118,
   "metadata": {},
   "outputs": [
    {
     "data": {
      "text/plain": [
       "1"
      ]
     },
     "execution_count": 118,
     "metadata": {},
     "output_type": "execute_result"
    }
   ],
   "source": [
    "# // What about finding number of connected components?\n",
    "## Very important to declare count as global variable! \n",
    "\n",
    "def cntComponents3(nr,nc):\n",
    "    global count \n",
    "    comps=0 \n",
    "    \n",
    "    for i in range(nr):\n",
    "        for j in range(nc):\n",
    "            count=0 \n",
    "            cntReachalbleCells(i,j)\n",
    "            #print(i,j,count)\n",
    "            if count > 0 : \n",
    "                comps+=1\n",
    "                \n",
    "    return comps\n",
    "\n",
    "visited=[[0 for i in range(m)] for j in range(n)] \n",
    "cntComponents(n,m)\n",
    "            "
   ]
  },
  {
   "cell_type": "code",
   "execution_count": 119,
   "metadata": {
    "collapsed": true
   },
   "outputs": [
    {
     "name": "stdout",
     "output_type": "stream",
     "text": [
      "000 \n",
      "\n",
      "001 \n",
      "\n",
      "010 \n",
      "\n",
      "011 \n",
      "\n",
      "100 \n",
      "\n",
      "101 \n",
      "\n",
      "110 \n",
      "\n",
      "111 \n",
      "\n",
      "000 \n",
      "\n",
      "001 \n",
      "\n",
      "002 \n",
      "\n",
      "010 \n",
      "\n",
      "011 \n",
      "\n",
      "012 \n",
      "\n",
      "020 \n",
      "\n",
      "021 \n",
      "\n",
      "022 \n",
      "\n",
      "100 \n",
      "\n",
      "101 \n",
      "\n",
      "102 \n",
      "\n",
      "110 \n",
      "\n",
      "111 \n",
      "\n",
      "112 \n",
      "\n",
      "120 \n",
      "\n",
      "121 \n",
      "\n",
      "122 \n",
      "\n",
      "200 \n",
      "\n",
      "201 \n",
      "\n",
      "202 \n",
      "\n",
      "210 \n",
      "\n",
      "211 \n",
      "\n",
      "212 \n",
      "\n",
      "220 \n",
      "\n",
      "221 \n",
      "\n",
      "222 \n",
      "\n"
     ]
    }
   ],
   "source": [
    "# // generate all sequences of given length, of zeros and ones\n",
    "# // E.g. for len = 3:\t000, 001, 010, 011, 100, 101, 110, 111\n",
    "# //\t\t\t\t\t\t\t\t\"\"\t\t\t\t\t\t\t\t\t\t\t\tCount=1\n",
    "# //\t\t\t\t\t0\t\t\t\t\t\t\t\t1\t\t\t\t\t\t\tCount=2\n",
    "# //\t\t\t00 \t\t\t\t01\t\t\t\t10\t\t\t\t11\t\t\t\t\tCount=4\n",
    "# //\t\t000\t\t001\t\t010\t\t011\t\t100\t\t101\t\t110\t\t11\t\t\t\tCount=8\n",
    "# //\n",
    "def generateBinary(length, str_cur = \"\"):\n",
    "    if length <0:\n",
    "        return \n",
    "    \n",
    "    if length==0:\n",
    "        print(str_cur,\"\\n\")\n",
    "        \n",
    "    generateBinary(length-1,str_cur+\"0\")\n",
    "    generateBinary(length-1,str_cur+\"1\")\n",
    "\n",
    "generateBinary(3,\"\") \n",
    "\n",
    "## (options here is 0 and 1 )\n",
    "## Number of output strings = Options ** number of bits = 2**3 =8\n",
    "\n",
    "def generateTernary(length, str_cur = \"\"):\n",
    "    if length <0:\n",
    "        return \n",
    "    \n",
    "    if length==0:\n",
    "        print(str_cur,\"\\n\")\n",
    "        \n",
    "    generateTernary(length-1,str_cur+\"0\")\n",
    "    generateTernary(length-1,str_cur+\"1\")\n",
    "    generateTernary(length-1,str_cur+\"2\")\n",
    "\n",
    "\n",
    "generateTernary(3,\"\") \n",
    "\n",
    "## (options here is 0 , 1 and 2 )\n",
    "\n",
    "## Number of output strings = Options ** number of bits = 3**3 =27"
   ]
  },
  {
   "cell_type": "code",
   "execution_count": 121,
   "metadata": {},
   "outputs": [
    {
     "name": "stdout",
     "output_type": "stream",
     "text": [
      "['c']\n",
      "['bc', 'cb']\n"
     ]
    },
    {
     "data": {
      "text/plain": [
       "['abc', 'bac', 'bca', 'acb', 'cab', 'cba']"
      ]
     },
     "execution_count": 121,
     "metadata": {},
     "output_type": "execute_result"
    }
   ],
   "source": [
    "def permuations(word):\n",
    "    \"\"\"all possible permuations of a word for example permuations(\"ab\")=[\"ab\",\"ba\"]\"\"\"\n",
    "    ## Base Case\n",
    "    if len(word)==1:\n",
    "        return [word]\n",
    "    perms=permuations(word[1:]) ## Smaller problem! \n",
    "    print(perms)\n",
    "    ## Now perms is a list of permuations resulting from the subproblem \n",
    "    ## now find all possible permuations of this list with the first charqacter\n",
    "    char=word[0]\n",
    "    ## result is list of permuations, output from the stackframe of smaller length\n",
    "    result=[]\n",
    "    for perm in perms:\n",
    "        ## Now append first char to all permutations\n",
    "        for i in range(len(perm)+1):\n",
    "            result.append(perm[0:i]+char+perm[i:])\n",
    "    return result \n",
    "permuations(\"abc\")\n"
   ]
  },
  {
   "cell_type": "code",
   "execution_count": 209,
   "metadata": {
    "scrolled": false
   },
   "outputs": [
    {
     "name": "stdout",
     "output_type": "stream",
     "text": [
      "[0, 1]\n",
      "[0, 2]\n",
      "[1, 0]\n",
      "[1, 2]\n",
      "[2, 0]\n",
      "[2, 1]\n"
     ]
    }
   ],
   "source": [
    "# // Print all possible permutations of numbers 0, 1, 2, ...n-1\n",
    "def perm(i,n,m,vis,cur):\n",
    "    global counter\n",
    "    ##Base Case: I made all possible choices\n",
    "    if i==m:\n",
    "        print(cur[0:m])\n",
    "        counter+=1\n",
    "        #print(counter)\n",
    "        return \n",
    "    \n",
    "    for j in range(n):\n",
    "        #Choose j and append it to possible perms of all the remaining numbers\n",
    "        ## pick number j and find all perms of rest of numbers fixing j \n",
    "        ## then loop over all other j.\n",
    "        ## save this number in position i \n",
    "        \n",
    "        ## Need to mark j as visited so that we do not choose it in subsequent indices of cur\n",
    "        if vis[j]==1:\n",
    "            continue \n",
    "            \n",
    "        vis[j]=1\n",
    "        cur[i]=j\n",
    "        perm(i+1,n,m,vis,cur)\n",
    "        vis[j]=0\n",
    "        \n",
    "#########Main Driver Routine###########\n",
    "        \n",
    "counter=0   \n",
    "n=3\n",
    "m=2\n",
    "cur=[0 for i in range(n)]\n",
    "visited=[0 for i in range(n)]\n",
    "index=0\n",
    "perm(index,n,m,visited,cur)\n",
    "#print(\"Permutations= \",math.factorial(n)/ math.factorial(n-m))\n",
    "assert counter==math.factorial(n)/ math.factorial(n-m), \"Error!\""
   ]
  },
  {
   "cell_type": "code",
   "execution_count": 211,
   "metadata": {},
   "outputs": [
    {
     "name": "stdout",
     "output_type": "stream",
     "text": [
      "[0, 1]\n",
      "[0, 2]\n",
      "[0, 3]\n",
      "[1, 2]\n",
      "[1, 3]\n",
      "[2, 3]\n",
      "combinations= 6.0\n"
     ]
    }
   ],
   "source": [
    "## combinations: I have n items from which choose m items \n",
    "def comb(i,n,m,cur,curlen):\n",
    "    if curlen==m: ## if number of items chosen so far is m \n",
    "        print(cur[0:m])\n",
    "        return \n",
    "    \n",
    "    if i==n:\n",
    "        return \n",
    "    \n",
    "    ## Iterate over items through recursion...index i is item 0 \n",
    "    ## Either take i (so increase curlen by 1)\n",
    "    cur[curlen]=i\n",
    "    comb(i+1,n,m, cur,curlen+1)\n",
    "    ## or don't take it \n",
    "    comb(i+1,n,m,cur,curlen)\n",
    "    \n",
    "n=4\n",
    "m=2\n",
    "cur=[0 for i in range(n)]\n",
    "curlen=0\n",
    "index=0\n",
    "comb(index,n,m,cur,curlen)  \n",
    "\n",
    "\n",
    "print(\"combinations=\",math.factorial(n)/(math.factorial(m)*math.factorial(n-m)))"
   ]
  },
  {
   "cell_type": "code",
   "execution_count": null,
   "metadata": {},
   "outputs": [],
   "source": [
    "# // Could we do recursion calls as we want? NO, you have stack limit size.\n",
    "# // Say your function call reserve 1 integer (4 bytes) and a call need 2 pointers (8 bytes) for saving some return addresses\n",
    "# // Say you have 1.5MB stack size, then you could do maximum 1.5MB / 12 bytes ~= 144617 call\n",
    "# int dep = 0;\n",
    "dep=0\n",
    "def stackTest1(dep):\n",
    "    print(dep)\n",
    "    dep+=1\n",
    "    stackTest1(dep)\n",
    "stackTest1(dep)\n",
    "\n",
    "\n",
    "# void stackTest2(int a = 1)\n",
    "# {\n",
    "# \tcout<<dep++<<\"\\n\"<<flush;\n",
    "# \tstackTest2(a);\n",
    "# }\n",
    "\n",
    "# void stackTest3()\n",
    "# {\n",
    "# \tcout<<dep++<<\"\\n\"<<flush;\n",
    "# \tint arr[50];\t// be careful from your created items. E.g. Integrs, Strings, Structs.\n",
    "# \tstackTest3();\n",
    "# }\n",
    "\n",
    "# void stackTest4()\n",
    "# {\n",
    "# \tcout<<dep++<<\"\\n\"<<flush;\n",
    "# \tint arr[100];\t// be careful from your created items. E.g. Integrs, Strings, Structs.\n",
    "# \tstackTest4();\n",
    "# }\n",
    "\n",
    "# void stackTest5()\n",
    "# {\n",
    "# \tcout<<dep++<<\"\\n\"<<flush;\n",
    "# \tint arr[50];\n",
    "# \tvector<int> v(50);\t// Its internal array on heap not on stack\n",
    "# \tstackTest5();\n",
    "# }\n",
    "\n",
    "# void stackTest6()\n",
    "# {\n",
    "# \tcout<<dep++<<\"\\n\"<<flush;\n",
    "# \tint arr[50];\n",
    "# \tvector<int> v(1000);\t// Its internal array on heap not on stack. Then watch from heap too\n",
    "# \tstackTest6();\n",
    "# }\n",
    "\n",
    "# void stackTest7()\n",
    "# {\n",
    "# \tcout<<dep++<<\"\\n\"<<flush;\n",
    "# \tint arr[1000];\n",
    "# \tstackTest7();\n",
    "# }\n",
    "\n",
    "# void stackTest8()\n",
    "# {\n",
    "# \tcout<<dep++<<\"\\n\"<<flush;\n",
    "# \tint arr[1000000];\t// So big for my MACHINE stack limit\n",
    "# \tstackTest8();\n",
    "# }\n",
    "\n",
    "# void stackTest9(int a[])\t// this is array reference. it behaves as if it is just an integer\n",
    "# {\n",
    "# \tcout<<dep++<<\"\\n\"<<flush;\n",
    "\n",
    "# \tstackTest9(a);\n",
    "# }\n",
    "\n",
    "\n",
    "\n",
    "# int arr[1000000];\n",
    "\n",
    "\n",
    "\n",
    "\n",
    "# int main()\n",
    "# {\n",
    "\n",
    "\n",
    "# \tstackTest9(arr);\n",
    "\n",
    "# \treturn 0;\n",
    "# }"
   ]
  },
  {
   "cell_type": "code",
   "execution_count": 225,
   "metadata": {},
   "outputs": [
    {
     "name": "stdout",
     "output_type": "stream",
     "text": [
      "00 \n",
      "\n",
      "01 \n",
      "\n",
      "02 \n",
      "\n",
      "10 \n",
      "\n",
      "11 \n",
      "\n",
      "12 \n",
      "\n",
      "20 \n",
      "\n",
      "21 \n",
      "\n",
      "22 \n",
      "\n"
     ]
    }
   ],
   "source": [
    "def generateTernary(length, str_cur = \"\"):\n",
    "    if length <0:\n",
    "        return \n",
    "    \n",
    "    if length==0:\n",
    "        print(str_cur,\"\\n\")\n",
    "        \n",
    "    generateTernary(length-1,str_cur+\"0\")\n",
    "    generateTernary(length-1,str_cur+\"1\")\n",
    "    generateTernary(length-1,str_cur+\"2\")\n",
    "\n",
    "\n",
    "generateTernary(2,\"\") "
   ]
  },
  {
   "cell_type": "code",
   "execution_count": null,
   "metadata": {},
   "outputs": [],
   "source": [
    "# // How to avoid stack problems\n",
    "# // 1- If must do it in recursion, then avoid any unnecessary local data. Move to global as possible\n",
    "# // 2- Move to iterative procedure\n",
    "# // 3- Implement your own stack calls!\n",
    "\n",
    "# void generateTernary_myStack(int len)\n",
    "# {\n",
    "# \tstack< pair<int, string> > st;\t// create stack consist of recursion state\n",
    "# \tst.push( make_pair(len, \"\") );\n",
    "\n",
    "# \twhile(!st.empty())\n",
    "# \t{\n",
    "# \t\tint len = st.top().first;\n",
    "# \t\tstring cur = st.top().second;\n",
    "# \t\tst.pop();\n",
    "\n",
    "# \t\tif(len == 0) {\n",
    "# \t\t\tcout<<cur<<\"\\n\";\n",
    "# \t\t\tcontinue;\n",
    "# \t\t}\n",
    "\n",
    "# \t\tst.push(make_pair(len-1, cur + \"0\"));\n",
    "# \t\tst.push(make_pair(len-1, cur + \"1\"));\n",
    "# \t\tst.push(make_pair(len-1, cur + \"2\"));\n",
    "\n",
    "# \t}\n",
    "# }\n",
    "\n",
    "\n",
    "# // Search space analysis\n",
    "\n",
    "# // int F(int a)\n",
    "# //\t\t1 <= a <= n\t\t\t\t\t\t\t\t\tSearch space size : n\n",
    "\n",
    "# // int F(int a, int b)\n",
    "# //\t\t1 <= a, b <= n\t\t\t\t\t\t\t\tSearch space size : n^2\n",
    "\n",
    "# // int F(int a, int b, int vis[]):\n",
    "# //\t\t1 <= a, b <= n\n",
    "# //\t\tvis is boolean\n",
    "# //\t\tvisLen <= m\t\t\t\t\t\t\t\t\tSearch space size : n^2 * 2^m\n",
    "\n",
    "# // int F(string cur)\n",
    "# //\t\tcur string of chars A, B, C, D\n",
    "# //\t\tcurLen <= n\t\t\t\t\t\t\t\t\tSearch space size : 4^n\n",
    "\n",
    "# // int F(string cur)\n",
    "# //\t\tcur string of chars A, B, C, D\n",
    "# //\t\tcurLen <= n\n",
    "# //\t\tOne of characters them repeats curLen-1 times (e.g. AAAB, AABA, ABAA, BAAA, AAAC, AACA...)\n",
    "# //\t\t\t\t\t\t\t\t\t\t\t\t\tSearch space size : 10 * n\t- CONSIDER space limitations"
   ]
  },
  {
   "cell_type": "code",
   "execution_count": 223,
   "metadata": {
    "scrolled": false
   },
   "outputs": [
    {
     "data": {
      "text/plain": [
       "5"
      ]
     },
     "execution_count": 223,
     "metadata": {},
     "output_type": "execute_result"
    }
   ],
   "source": [
    "# // Fibonacci Series: Fib(n) = fib(n-1) + fib(n-2).\tFib(0) = fib(1) = 1\n",
    "# int fib(int n)\n",
    "# {\n",
    "# \tif(n <= 1)\n",
    "# \t\treturn 1;\n",
    "\n",
    "# \treturn fib(n-2) + fib(n-1);\n",
    "# }\n",
    "\n",
    "# // what is search space? n\n",
    "# // what is number of recursive calls? We are branching every time to 2 levels that differs in 1\n",
    "# //\t\t\t\t\t\t\t\t\t\tfib(5)\n",
    "# //\t\t\t\t\t\t\tfib(4)\t\t\t\t\t\t\t\t\t\t\tfib(3)\n",
    "# //\t\t\t\tfib(3)\t\t\t\t\tfib(2)\t\t\t\t\t\tfib(2)\t\t\tfib(1)\n",
    "# //\t\tfib(2)\t\t\tfib(1)\tfib(1)\t\t\tfib(0)\t\tfib(1)\t\t\tfib(0)\n",
    "# //\tfib(1)\tfib(1)\n",
    "# //\n",
    "# // We almost have 2^N calls\n",
    "\n",
    "# // Wait, a space of N, is called 2^N times!\n",
    "# // A fib of 50 do around ~1125899906842624 call!!!!!!\n",
    "# //\n",
    "# // Then, we must call a state more than once? and it too call other states, that already called!\n",
    "# //\n",
    "# // Check tree above, fib(3) called twice. Fib(2) called three times!\n",
    "# //\n",
    "# // Let's SAVE the answer, and let space of N is called 2N times!\n",
    "\n",
    "\n",
    "def fibsave(n):\n",
    "    if n<=1:\n",
    "        return 1 \n",
    "    \n",
    "    if savedAnswers[n]!=-1:\n",
    "        return savedAnswers[n]\n",
    "    \n",
    "    savedAnswers[n]=fibsave(n-1)+fibsave(n-2)\n",
    "    \n",
    "    return savedAnswers[n]\n",
    "\n",
    "n=4\n",
    "savedAnswers=[-1 for i in range(n+1)]\n",
    "fibsave(n)\n",
    "    "
   ]
  },
  {
   "cell_type": "code",
   "execution_count": null,
   "metadata": {},
   "outputs": [],
   "source": []
  }
 ],
 "metadata": {
  "kernelspec": {
   "display_name": "Python 3",
   "language": "python",
   "name": "python3"
  },
  "language_info": {
   "codemirror_mode": {
    "name": "ipython",
    "version": 3
   },
   "file_extension": ".py",
   "mimetype": "text/x-python",
   "name": "python",
   "nbconvert_exporter": "python",
   "pygments_lexer": "ipython3",
   "version": "3.6.7"
  }
 },
 "nbformat": 4,
 "nbformat_minor": 2
}
