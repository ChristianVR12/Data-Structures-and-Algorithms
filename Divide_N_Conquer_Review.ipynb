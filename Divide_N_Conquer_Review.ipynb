{
 "cells": [
  {
   "cell_type": "code",
   "execution_count": 17,
   "metadata": {},
   "outputs": [
    {
     "name": "stdout",
     "output_type": "stream",
     "text": [
      "4\n"
     ]
    }
   ],
   "source": [
    "## Divide and Conquer Review: \n",
    "## number of ways to break a number into the sum of {1,3,4}\n",
    "## Case Case\n",
    "import numpy  as np\n",
    "def Number_Factors_DC(N):\n",
    "    ## Base Case\n",
    "    if N < 0:\n",
    "        return 0 \n",
    "    \n",
    "    if N==0 or N==1 or N==2:\n",
    "        return 1 \n",
    "## These are the ways to break down the base case numbers 0:>> { }, 1:>> {1}, 2: >> {1,1}\n",
    "    N1=Number_Factors_DC(N-1)\n",
    "    N3=Number_Factors_DC(N-3)\n",
    "    N4=Number_Factors_DC(N-4)\n",
    "    \n",
    "    return N1+N3+N4\n",
    "\n",
    "    \n",
    "print(Number_Factors_DC(4))\n",
    "## (1,1,1,1), (1,3), (3,1),(4)"
   ]
  },
  {
   "cell_type": "code",
   "execution_count": 18,
   "metadata": {},
   "outputs": [],
   "source": [
    "# Find maximum possible stolen value from houses\n",
    "# There are n houses build in a line, each of which contains some value in it.\n",
    "# A thief is going to steal the maximal value of these houses, but he can’t steal in two adjacent houses because owner of the stolen houses will tell\n",
    "# his two neighbour left and right side. What is the maximum stolen value.\n",
    "\n"
   ]
  },
  {
   "cell_type": "code",
   "execution_count": 19,
   "metadata": {},
   "outputs": [],
   "source": [
    "# Input  : hval[] = {6, 7, 1, 3, 8, 2, 4}\n",
    "# Output : 19\n",
    "# Thief will steal 6, 1, 8 and 4 from house.\n",
    "\n",
    "# Input  : hval[] = {5, 3, 4, 11, 2}\n",
    "# Output : 16\n",
    "# Thief will steal 5 and 11"
   ]
  },
  {
   "cell_type": "code",
   "execution_count": 24,
   "metadata": {},
   "outputs": [],
   "source": [
    "# calculate the maximum stolen value \n",
    "##Google Coding Interview (2019) - House Robber (LeetCode)\n",
    "\n",
    "def maximize_loot(hval, n): \n",
    "    if n == 0: \n",
    "        return 0\n",
    "    if n == 1: \n",
    "        return hval[0] \n",
    "    if n == 2: \n",
    "        return max(hval[0], hval[1]) \n",
    "  \n",
    "    # dp[i] represent the maximum value stolen so \n",
    "    # far after reaching house i. \n",
    "    dp = [0]*n \n",
    "  \n",
    "    # Initialize the dp[0] and dp[1] \n",
    "    dp[0] = hval[0] \n",
    "    dp[1] = max(hval[0], hval[1]) \n",
    "      \n",
    "    # Fill remaining positions \n",
    "    for i in range(2, n): \n",
    "        dp[i] = max(hval[i]+dp[i-2], dp[i-1]) \n",
    "  \n",
    "    return dp[-1] "
   ]
  },
  {
   "cell_type": "code",
   "execution_count": 25,
   "metadata": {},
   "outputs": [
    {
     "name": "stdout",
     "output_type": "stream",
     "text": [
      "Maximum loot value : 19\n"
     ]
    }
   ],
   "source": [
    "def main(): \n",
    "  \n",
    "    # Value of houses \n",
    "    hval = [6, 7, 1, 3, 8, 2, 4] \n",
    "  \n",
    "    # number of houses \n",
    "    n = len(hval) \n",
    "    print(\"Maximum loot value : {}\". \n",
    "        format(maximize_loot(hval, n))) \n",
    "  \n",
    "if __name__ == '__main__': \n",
    "    main() "
   ]
  },
  {
   "cell_type": "code",
   "execution_count": 29,
   "metadata": {},
   "outputs": [
    {
     "name": "stdout",
     "output_type": "stream",
     "text": [
      "19\n"
     ]
    }
   ],
   "source": [
    "## Google Coding Interview (2019) - House Robber (LeetCode)\n",
    "def rob(nums):\n",
    "    ## use D and C (Dynamic Programming)\n",
    "    ## Dp is the money made by robbing up to house i\n",
    "    ## now Dp[0] is the money made out of robbing one house\n",
    "\n",
    "    n=len(nums)\n",
    "    if n  < 1 :\n",
    "        return 0 \n",
    "\n",
    "    Dp=[0 for i in nums]\n",
    "    Dp[0]=nums[0]\n",
    "    if n==1:\n",
    "        return Dp[0]\n",
    "\n",
    "    Dp[1]=max(nums[0],nums[1])   \n",
    "    for i in range(2,n):\n",
    "        Dp[i]=max(nums[i]+Dp[i-2] , Dp[i-1])\n",
    "    ## The first number/argument is the option of picking house(i) combined with solution up to i-2\n",
    "    ## because we cannot rob i and i-1. The second argument is the option of ignoring house i and taking           #optimal solution up to -1\n",
    "    return Dp[n-1]\n",
    "\n",
    "hval = [6, 7, 1, 3, 8, 2, 4] \n",
    "print(rob(hval))    "
   ]
  },
  {
   "cell_type": "code",
   "execution_count": null,
   "metadata": {},
   "outputs": [],
   "source": [
    "## Change one string to another by deleting , inserting or replacing \n"
   ]
  }
 ],
 "metadata": {
  "kernelspec": {
   "display_name": "Python 3",
   "language": "python",
   "name": "python3"
  },
  "language_info": {
   "codemirror_mode": {
    "name": "ipython",
    "version": 3
   },
   "file_extension": ".py",
   "mimetype": "text/x-python",
   "name": "python",
   "nbconvert_exporter": "python",
   "pygments_lexer": "ipython3",
   "version": "3.6.7"
  }
 },
 "nbformat": 4,
 "nbformat_minor": 2
}
