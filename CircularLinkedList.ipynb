{
 "cells": [
  {
   "cell_type": "code",
   "execution_count": 6,
   "metadata": {},
   "outputs": [],
   "source": [
    "class Node(object):\n",
    "    def __init__(self,value):\n",
    "        self.info=value\n",
    "        self.link=None"
   ]
  },
  {
   "cell_type": "code",
   "execution_count": 8,
   "metadata": {},
   "outputs": [],
   "source": [
    "class CircularLinkedList(object):\n",
    "    def __init__(self):\n",
    "        self.last=None # Knowing last node in a circular list\n",
    "        # makes insertion and deletion of element at the beginning and end of the list\n",
    "        # possible in constant time and makes it suitable for implementing a queue\n",
    "    def display_list(self):\n",
    "        if self.last == None:\n",
    "            print(\"Empty List\")\n",
    "            return \n",
    "    \n",
    "#### Otherwise start at the last node and go to first node using its link\n",
    "        p=self.last.link # this is first node! \n",
    "    \n",
    "        while True:\n",
    "            print(p.info,\" \",end='')\n",
    "            p=p.link\n",
    "            if p==self.last.link: # this means we traversed the whole list\n",
    "                break  \n",
    "        print()\n",
    "    \n",
    "    def insert_in_beginning(self,data):\n",
    "        temp=Node(data)\n",
    "        temp.link=self.last.link\n",
    "        self.last.link=temp\n",
    "        \n",
    "    def insert_in_empty_list(self,data):   \n",
    "        temp=Node(data)\n",
    "        self.last=temp # Last and only node! \n",
    "        self.last.link=self.last # Refers to itself\n",
    "        \n",
    "    def insert_at_end(self,data):\n",
    "        temp=Node(data)\n",
    "        temp.link=self.last.link\n",
    "        self.last.link=temp\n",
    "        self.last=temp\n",
    "        \n",
    "    def create_list(self):\n",
    "        n=int(input(\"Enter the number of nodes: \"))\n",
    "        \n",
    "        if n==0: \n",
    "            return \n",
    "        \n",
    "        data=int(input(\"Enter First Element to be inserted\"))\n",
    "        self.insert_in_empty_list(data)\n",
    "        \n",
    "        for i in range(n-1):\n",
    "            data=int(input(\"Enter Next Element to be inserted\"))\n",
    "            self.insert_at_end(data)\n",
    "            "
   ]
  },
  {
   "cell_type": "code",
   "execution_count": 9,
   "metadata": {},
   "outputs": [
    {
     "name": "stdout",
     "output_type": "stream",
     "text": [
      "Enter the number of nodes: 4\n",
      "Enter First Element to be inserted1\n",
      "Enter Next Element to be inserted2\n",
      "Enter Next Element to be inserted3\n",
      "Enter Next Element to be inserted4\n",
      "1. Display list\n",
      "2. Insert in an empty list\n",
      "3. Insert a node in the beginning of a list\n",
      "4. Insert a node at the end of a list\n",
      "5. Insert a node after a specified node\n",
      "6. Insert a node before a specified node\n",
      "7. Delete first node\n",
      "8. Delete last node\n",
      "9. Quit\n",
      "Enter your Choice: 1\n",
      "1  2  3  4  \n",
      "\n",
      "1. Display list\n",
      "2. Insert in an empty list\n",
      "3. Insert a node in the beginning of a list\n",
      "4. Insert a node at the end of a list\n",
      "5. Insert a node after a specified node\n",
      "6. Insert a node before a specified node\n",
      "7. Delete first node\n",
      "8. Delete last node\n",
      "9. Quit\n",
      "Enter your Choice: 9\n"
     ]
    }
   ],
   "source": [
    "list=CircularLinkedList()\n",
    "list.create_list()\n",
    "\n",
    "while True:\n",
    "    print(\"1. Display list\")\n",
    "    print(\"2. Insert in an empty list\")\n",
    "    print(\"3. Insert a node in the beginning of a list\")\n",
    "    print(\"4. Insert a node at the end of a list\")\n",
    "    print(\"5. Insert a node after a specified node\")\n",
    "    print(\"6. Insert a node before a specified node\")\n",
    "    print(\"7. Delete first node\")\n",
    "    print(\"8. Delete last node\")\n",
    "    print(\"9. Quit\")\n",
    "    option=int(input(\"Enter your Choice: \"))\n",
    "    \n",
    "    if option==1:\n",
    "        list.display_list()\n",
    "        \n",
    "    elif option==9:\n",
    "        break\n",
    "    else:\n",
    "        print(\"Wrong Option\")\n",
    "    print()\n",
    "    "
   ]
  },
  {
   "cell_type": "code",
   "execution_count": null,
   "metadata": {},
   "outputs": [],
   "source": []
  }
 ],
 "metadata": {
  "kernelspec": {
   "display_name": "Python 3",
   "language": "python",
   "name": "python3"
  },
  "language_info": {
   "codemirror_mode": {
    "name": "ipython",
    "version": 3
   },
   "file_extension": ".py",
   "mimetype": "text/x-python",
   "name": "python",
   "nbconvert_exporter": "python",
   "pygments_lexer": "ipython3",
   "version": "3.6.4"
  }
 },
 "nbformat": 4,
 "nbformat_minor": 2
}
